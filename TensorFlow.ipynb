{
  "nbformat": 4,
  "nbformat_minor": 0,
  "metadata": {
    "colab": {
      "provenance": [],
      "authorship_tag": "ABX9TyP/kCIylavChCV5CRrd6Ryx",
      "include_colab_link": true
    },
    "kernelspec": {
      "name": "python3",
      "display_name": "Python 3"
    },
    "language_info": {
      "name": "python"
    }
  },
  "cells": [
    {
      "cell_type": "markdown",
      "metadata": {
        "id": "view-in-github",
        "colab_type": "text"
      },
      "source": [
        "<a href=\"https://colab.research.google.com/github/rmtu14/ATM-/blob/main/TensorFlow.ipynb\" target=\"_parent\"><img src=\"https://colab.research.google.com/assets/colab-badge.svg\" alt=\"Open In Colab\"/></a>"
      ]
    },
    {
      "cell_type": "code",
      "execution_count": 1,
      "metadata": {
        "colab": {
          "base_uri": "https://localhost:8080/"
        },
        "id": "IGZUFQI0rEYH",
        "outputId": "73dc0856-cc7f-4005-eebd-4dd54bc4d537"
      },
      "outputs": [
        {
          "output_type": "stream",
          "name": "stdout",
          "text": [
            "Zero Rank Tensor: 5\n",
            "Dimension: 0\n",
            "Shape: ()\n"
          ]
        }
      ],
      "source": [
        "# importing numpy as np\n",
        "import numpy as np\n",
        "\n",
        "# defining an array using np.array with value passing as 5\n",
        "zero_rank_tensor = np.array(5)\n",
        "\n",
        "# print zero_rank_tensor\n",
        "print(\"Zero Rank Tensor:\", zero_rank_tensor)\n",
        "\n",
        "# print its dimension using .ndim method\n",
        "print(\"Dimension:\", zero_rank_tensor.ndim)\n",
        "\n",
        "# print its shape using .shape method\n",
        "print(\"Shape:\", zero_rank_tensor.shape)\n"
      ]
    },
    {
      "cell_type": "code",
      "source": [
        "# importing numpy as np\n",
        "import numpy as np\n",
        "\n",
        "# defining an array using np.array with value passing as 5\n",
        "one_rank_tensor = np.array([1,2,3])\n",
        "\n",
        "# print zero_rank_tensor\n",
        "print(\"Zero Rank Tensor:\", one_rank_tensor)\n",
        "\n",
        "# print its dimension using .ndim method\n",
        "print(\"Dimension:\", one_rank_tensor.ndim)\n",
        "\n",
        "# print its shape using .shape method\n",
        "print(\"Shape:\", one_rank_tensor.shape)\n"
      ],
      "metadata": {
        "colab": {
          "base_uri": "https://localhost:8080/"
        },
        "id": "KF1B4pRHrY-4",
        "outputId": "e27c6e52-223e-42c8-b87a-87e42aac0640"
      },
      "execution_count": 4,
      "outputs": [
        {
          "output_type": "stream",
          "name": "stdout",
          "text": [
            "Zero Rank Tensor: [1 2 3]\n",
            "Dimension: 1\n",
            "Shape: (3,)\n"
          ]
        }
      ]
    },
    {
      "cell_type": "code",
      "source": [
        "# importing numpy as np\n",
        "import numpy as np\n",
        "\n",
        "# define a matrix having values [[1, 2, 3, 4, 5],[6, 7, 8, 9, 10],[11, 12, 13, 14, 15]]\n",
        "rank_2_tensor = np.array([[1, 2, 3, 4, 5], [6, 7, 8, 9, 10], [11, 12, 13, 14, 15]])\n",
        "\n",
        "# print rank_2_tensor\n",
        "print(\"Rank-2 Tensor:\")\n",
        "print(rank_2_tensor)\n",
        "\n",
        "# print its dimension using .ndim\n",
        "print(\"Dimension:\", rank_2_tensor.ndim)\n",
        "\n",
        "# print its shape using .shape\n",
        "print(\"Shape:\", rank_2_tensor.shape)\n"
      ],
      "metadata": {
        "colab": {
          "base_uri": "https://localhost:8080/"
        },
        "id": "KlU4JyGNrZAt",
        "outputId": "86591961-26bc-4126-ab36-d7e006b23e21"
      },
      "execution_count": 5,
      "outputs": [
        {
          "output_type": "stream",
          "name": "stdout",
          "text": [
            "Rank-2 Tensor:\n",
            "[[ 1  2  3  4  5]\n",
            " [ 6  7  8  9 10]\n",
            " [11 12 13 14 15]]\n",
            "Dimension: 2\n",
            "Shape: (3, 5)\n"
          ]
        }
      ]
    },
    {
      "cell_type": "code",
      "source": [
        "# importing numpy as np\n",
        "import numpy as np\n",
        "\n",
        "# define three matrices\n",
        "matrix_1 = np.array([[5, 78, 2, 34, 0], [6, 79, 3, 35, 1], [7, 80, 4, 36, 2]])\n",
        "matrix_2 = np.array([[5, 78, 2, 34, 0], [6, 79, 3, 35, 1], [7, 80, 4, 36, 2]])\n",
        "matrix_3 = np.array([[5, 78, 2, 34, 0], [6, 79, 3, 35, 1], [7, 80, 4, 36, 2]])\n",
        "\n",
        "# create a rank-4 tensor\n",
        "rank_4_tensor = np.array([matrix_1, matrix_2, matrix_3])\n",
        "\n",
        "# print rank_4_tensor\n",
        "print(\"Rank-4 Tensor:\")\n",
        "print(rank_4_tensor)\n",
        "\n",
        "# print its dimension using .ndim\n",
        "print(\"Dimension:\", rank_4_tensor.ndim)\n",
        "\n",
        "#\n"
      ],
      "metadata": {
        "colab": {
          "base_uri": "https://localhost:8080/"
        },
        "id": "IY21EfGvrZCz",
        "outputId": "9fbb72dd-c18c-431c-ab7c-771cbb6b0dc2"
      },
      "execution_count": 6,
      "outputs": [
        {
          "output_type": "stream",
          "name": "stdout",
          "text": [
            "Rank-4 Tensor:\n",
            "[[[ 5 78  2 34  0]\n",
            "  [ 6 79  3 35  1]\n",
            "  [ 7 80  4 36  2]]\n",
            "\n",
            " [[ 5 78  2 34  0]\n",
            "  [ 6 79  3 35  1]\n",
            "  [ 7 80  4 36  2]]\n",
            "\n",
            " [[ 5 78  2 34  0]\n",
            "  [ 6 79  3 35  1]\n",
            "  [ 7 80  4 36  2]]]\n",
            "Dimension: 3\n"
          ]
        }
      ]
    },
    {
      "cell_type": "code",
      "source": [
        "import tensorflow as tf\n",
        "x = tf.ones(shape=(3,1))\n",
        "x"
      ],
      "metadata": {
        "colab": {
          "base_uri": "https://localhost:8080/"
        },
        "id": "EjyP7Rv8rZFJ",
        "outputId": "6c63a654-93e0-4d7a-9b37-7b496ed84933"
      },
      "execution_count": 11,
      "outputs": [
        {
          "output_type": "execute_result",
          "data": {
            "text/plain": [
              "<tf.Tensor: shape=(3, 1), dtype=float32, numpy=\n",
              "array([[1.],\n",
              "       [1.],\n",
              "       [1.]], dtype=float32)>"
            ]
          },
          "metadata": {},
          "execution_count": 11
        }
      ]
    },
    {
      "cell_type": "code",
      "source": [
        "import tensorflow as tf\n",
        "y = tf.ones(shape=(3,1))\n",
        "print(x+y)"
      ],
      "metadata": {
        "colab": {
          "base_uri": "https://localhost:8080/"
        },
        "id": "4_fHzLIqrZHN",
        "outputId": "1af6dddf-bf4b-4bde-f633-637fc4b43773"
      },
      "execution_count": 12,
      "outputs": [
        {
          "output_type": "stream",
          "name": "stdout",
          "text": [
            "tf.Tensor(\n",
            "[[2.]\n",
            " [2.]\n",
            " [2.]], shape=(3, 1), dtype=float32)\n"
          ]
        }
      ]
    },
    {
      "cell_type": "code",
      "source": [
        "x = tf.random.uniform(shape=(5,1))\n",
        "print(x)"
      ],
      "metadata": {
        "colab": {
          "base_uri": "https://localhost:8080/"
        },
        "id": "EScgoWIlrZJW",
        "outputId": "d61d0312-ac19-4291-d9c1-d1aa5f6b6189"
      },
      "execution_count": 13,
      "outputs": [
        {
          "output_type": "stream",
          "name": "stdout",
          "text": [
            "tf.Tensor(\n",
            "[[0.70226943]\n",
            " [0.12820566]\n",
            " [0.17389536]\n",
            " [0.23775959]\n",
            " [0.35917854]], shape=(5, 1), dtype=float32)\n"
          ]
        }
      ]
    },
    {
      "cell_type": "code",
      "source": [
        "x = tf.random.uniform(shape=(5,1), minval=2,maxval=4)\n",
        "print(x)"
      ],
      "metadata": {
        "colab": {
          "base_uri": "https://localhost:8080/"
        },
        "id": "zpd7fteqrZLv",
        "outputId": "31dddac5-2633-4c2f-922a-86279fc3c590"
      },
      "execution_count": 14,
      "outputs": [
        {
          "output_type": "stream",
          "name": "stdout",
          "text": [
            "tf.Tensor(\n",
            "[[2.877061 ]\n",
            " [3.487011 ]\n",
            " [2.3579645]\n",
            " [3.606423 ]\n",
            " [3.7846885]], shape=(5, 1), dtype=float32)\n"
          ]
        }
      ]
    },
    {
      "cell_type": "code",
      "source": [
        "import tensorflow as tf\n",
        "\n",
        "# Create a tensor using tf.Variable with initial_value = tf.random.normal\n",
        "x = tf.Variable(tf.random.normal(shape=(3, 1)))\n",
        "print(x)\n",
        "\n",
        "# Assigning value 1. in the tensor variable x at position [0,0] using .assign method\n",
        "x[0, 0].assign(1.0)\n",
        "print(x)\n",
        "\n",
        "# Adding one to each value of the tensor variable x using assign_add method\n",
        "x.assign_add(tf.ones(shape=(3, 1)))\n",
        "print(x)\n"
      ],
      "metadata": {
        "colab": {
          "base_uri": "https://localhost:8080/"
        },
        "id": "qGKjdV-_rZPN",
        "outputId": "346f3c7d-203d-4a13-d147-932e1165ae6e"
      },
      "execution_count": 15,
      "outputs": [
        {
          "output_type": "stream",
          "name": "stdout",
          "text": [
            "<tf.Variable 'Variable:0' shape=(3, 1) dtype=float32, numpy=\n",
            "array([[ 0.24977335],\n",
            "       [-0.27783722],\n",
            "       [ 0.5455268 ]], dtype=float32)>\n",
            "<tf.Variable 'Variable:0' shape=(3, 1) dtype=float32, numpy=\n",
            "array([[ 1.        ],\n",
            "       [-0.27783722],\n",
            "       [ 0.5455268 ]], dtype=float32)>\n",
            "<tf.Variable 'Variable:0' shape=(3, 1) dtype=float32, numpy=\n",
            "array([[2.       ],\n",
            "       [0.7221628],\n",
            "       [1.5455267]], dtype=float32)>\n"
          ]
        }
      ]
    },
    {
      "cell_type": "code",
      "source": [
        "import tensorflow as tf\n",
        "\n",
        "# define a using tf.constant and pass [40., 30., 50.]\n",
        "a = tf.constant([40., 30., 50.])\n",
        "\n",
        "# define b using tf.constant and pass [12., 13., 23.]\n",
        "b = tf.constant([12., 13., 23.])\n",
        "\n",
        "# add a and b using tf.add\n",
        "result = tf.add(a, b)\n",
        "\n",
        "print(result)\n"
      ],
      "metadata": {
        "colab": {
          "base_uri": "https://localhost:8080/"
        },
        "id": "EeYvDdSlu5C4",
        "outputId": "8c77e623-8d68-405b-bda3-61500d3f29cf"
      },
      "execution_count": 16,
      "outputs": [
        {
          "output_type": "stream",
          "name": "stdout",
          "text": [
            "tf.Tensor([52. 43. 73.], shape=(3,), dtype=float32)\n"
          ]
        }
      ]
    },
    {
      "cell_type": "code",
      "source": [
        "import tensorflow as tf\n",
        "\n",
        "# define x using tf.variable and pass initial value as tf.random.uniform(shape=(2,3))\n",
        "x = tf.Variable(tf.random.uniform(shape=(2, 3)))\n",
        "\n",
        "# define y by squaring x using tf.square\n",
        "y = tf.square(x)\n",
        "\n",
        "# print x and y\n",
        "print(x)\n",
        "print(y)\n",
        "\n",
        "# define z by taking the square root of x using tf.sqrt\n",
        "z = tf.sqrt(x)\n",
        "\n",
        "# print x+z\n",
        "print(x + z)\n"
      ],
      "metadata": {
        "colab": {
          "base_uri": "https://localhost:8080/"
        },
        "id": "USIRI-gWu5FY",
        "outputId": "51d94d5d-0d41-4494-c8c4-4d45f7c67de9"
      },
      "execution_count": 17,
      "outputs": [
        {
          "output_type": "stream",
          "name": "stdout",
          "text": [
            "<tf.Variable 'Variable:0' shape=(2, 3) dtype=float32, numpy=\n",
            "array([[0.54621685, 0.9583601 , 0.7265501 ],\n",
            "       [0.6512946 , 0.12020004, 0.26741147]], dtype=float32)>\n",
            "tf.Tensor(\n",
            "[[0.29835284 0.91845405 0.52787507]\n",
            " [0.42418465 0.01444805 0.07150889]], shape=(2, 3), dtype=float32)\n",
            "tf.Tensor(\n",
            "[[1.2852817 1.9373188 1.5789292]\n",
            " [1.4583228 0.4668988 0.7845299]], shape=(2, 3), dtype=float32)\n"
          ]
        }
      ]
    },
    {
      "cell_type": "code",
      "source": [
        "import numpy as np\n",
        "import tensorflow as tf\n",
        "\n",
        "# define an array with shape (4,3) using np.ones\n",
        "ndarray = np.ones((4, 3))\n",
        "\n",
        "print(\"TensorFlow operations convert numpy arrays to Tensors automatically\")\n",
        "\n",
        "# define a variable tensor by multiplying ndarray with value 42 (use tf.multiply)\n",
        "tensor = tf.multiply(ndarray, 42.0)\n",
        "\n",
        "# print variable tensor\n",
        "print(tensor)\n",
        "\n",
        "print(\"And NumPy operations convert Tensors to numpy arrays automatically\")\n",
        "\n",
        "# add one to each value of a tensor using np.add\n",
        "tensor = np.add(tensor, 1)\n",
        "\n",
        "print(\"The .numpy() method explicitly converts a Tensor to a numpy array\")\n",
        "\n"
      ],
      "metadata": {
        "colab": {
          "base_uri": "https://localhost:8080/"
        },
        "id": "f3iBVrs-u5H2",
        "outputId": "f0f71b12-0f1b-4e7e-8345-9b99b489975d"
      },
      "execution_count": 22,
      "outputs": [
        {
          "output_type": "stream",
          "name": "stdout",
          "text": [
            "TensorFlow operations convert numpy arrays to Tensors automatically\n",
            "tf.Tensor(\n",
            "[[42. 42. 42.]\n",
            " [42. 42. 42.]\n",
            " [42. 42. 42.]\n",
            " [42. 42. 42.]], shape=(4, 3), dtype=float64)\n",
            "And NumPy operations convert Tensors to numpy arrays automatically\n",
            "The .numpy() method explicitly converts a Tensor to a numpy array\n"
          ]
        }
      ]
    },
    {
      "cell_type": "code",
      "source": [
        "import tensorflow as tf\n",
        "\n",
        "# Taking some input\n",
        "some_input = tf.Variable(initial_value=5.)\n",
        "\n",
        "# Defining GradientTape as tape\n",
        "with tf.GradientTape() as tape:\n",
        "    # Performing a computation with some_input\n",
        "    result = tf.square(some_input)\n",
        "\n",
        "# Using GradientTape to find the gradient\n",
        "gradient = tape.gradient(result, some_input)\n",
        "\n",
        "# Printing some_input and the gradient\n",
        "print(some_input)\n",
        "print(gradient)\n"
      ],
      "metadata": {
        "colab": {
          "base_uri": "https://localhost:8080/"
        },
        "id": "6NhVh1d3u5KP",
        "outputId": "3922149f-e4b7-4ecb-e672-192bdd641c95"
      },
      "execution_count": 23,
      "outputs": [
        {
          "output_type": "stream",
          "name": "stdout",
          "text": [
            "<tf.Variable 'Variable:0' shape=() dtype=float32, numpy=5.0>\n",
            "tf.Tensor(10.0, shape=(), dtype=float32)\n"
          ]
        }
      ]
    },
    {
      "cell_type": "code",
      "source": [
        "import tensorflow as tf\n",
        "\n",
        "# Define variable x using tf.Variable and pass value as 3.0\n",
        "x = tf.Variable(initial_value=3.0)\n",
        "\n",
        "# Define GradientTape as tape with y = x**2\n",
        "with tf.GradientTape() as tape:\n",
        "    y = x**2\n",
        "\n",
        "# Define dy_dx and take the derivative using tape.gradient\n",
        "dy_dx = tape.gradient(y, x)\n",
        "\n",
        "# Print x, y, and dy_dx\n",
        "print(\"x:\", x.numpy())\n",
        "print(\"y:\", y.numpy())\n",
        "print(\"dy_dx:\", dy_dx.numpy())\n"
      ],
      "metadata": {
        "colab": {
          "base_uri": "https://localhost:8080/"
        },
        "id": "AEIPUBAYu5Mb",
        "outputId": "83745ae8-1683-472d-be53-4744a9655032"
      },
      "execution_count": 24,
      "outputs": [
        {
          "output_type": "stream",
          "name": "stdout",
          "text": [
            "x: 3.0\n",
            "y: 9.0\n",
            "dy_dx: 6.0\n"
          ]
        }
      ]
    },
    {
      "cell_type": "code",
      "source": [
        "import tensorflow as tf\n",
        "\n",
        "# Define w using tf.Variable and pass random values with shape (3,2) using tf.random.normal\n",
        "w = tf.Variable(tf.random.normal(shape=(3, 2)))\n",
        "\n",
        "# Define b using tf.Variable and pass zeros with shape 2 using tf.zeros\n",
        "b = tf.Variable(tf.zeros(shape=(2,)))\n",
        "\n",
        "# Define x with values [[1., 2., 3.]]\n",
        "x = tf.constant([[1., 2., 3.]])\n",
        "\n",
        "# Define GradientTape as tape\n",
        "with tf.GradientTape(persistent=True) as tape:\n",
        "    # Define y under it with values as y = x @ w + b (@ is dot product)\n",
        "    y = tf.matmul(x, w) + b\n",
        "\n",
        "    # Define loss using tf.reduce_mean and pass y**2 into it\n",
        "    loss = tf.reduce_mean(y**2)\n",
        "\n",
        "# Print w\n",
        "print(\"w: \", w)\n",
        "\n",
        "# Print b\n",
        "print(\"b: \", b)\n",
        "\n",
        "# Print x\n",
        "print(\"x: \", x)\n",
        "\n",
        "# Print y\n",
        "print(\"y: \", y)\n",
        "\n",
        "# Print y**2\n",
        "print(\"y**2: \", y**2)\n",
        "\n",
        "# Print loss\n",
        "print(\"loss: \", loss)\n",
        "\n",
        "print(\"*\" * 50)\n",
        "\n",
        "# Now differentiate y w.r.t w and b\n",
        "[dy_dw, dy_db] = tape.gradient(loss, [w, b])\n",
        "\n",
        "# Now print dy_dw, dy_db\n",
        "print(\"dy_dw: \", dy_dw)\n"
      ],
      "metadata": {
        "colab": {
          "base_uri": "https://localhost:8080/"
        },
        "id": "WOpMm1-su5P9",
        "outputId": "497410e4-0673-4ba2-a0f9-a549d7b64eea"
      },
      "execution_count": 25,
      "outputs": [
        {
          "output_type": "stream",
          "name": "stdout",
          "text": [
            "w:  <tf.Variable 'Variable:0' shape=(3, 2) dtype=float32, numpy=\n",
            "array([[ 0.52653086, -0.518607  ],\n",
            "       [-0.14203401, -0.14408147],\n",
            "       [ 1.0182884 , -0.8375823 ]], dtype=float32)>\n",
            "b:  <tf.Variable 'Variable:0' shape=(2,) dtype=float32, numpy=array([0., 0.], dtype=float32)>\n",
            "x:  tf.Tensor([[1. 2. 3.]], shape=(1, 3), dtype=float32)\n",
            "y:  tf.Tensor([[ 3.297328  -3.3195167]], shape=(1, 2), dtype=float32)\n",
            "y**2:  tf.Tensor([[10.872372 11.019191]], shape=(1, 2), dtype=float32)\n",
            "loss:  tf.Tensor(10.945782, shape=(), dtype=float32)\n",
            "**************************************************\n",
            "dy_dw:  tf.Tensor(\n",
            "[[ 3.297328  -3.3195167]\n",
            " [ 6.594656  -6.6390333]\n",
            " [ 9.891984  -9.9585495]], shape=(3, 2), dtype=float32)\n"
          ]
        }
      ]
    },
    {
      "cell_type": "code",
      "source": [
        "import matplotlib.pyplot as plt\n",
        "import numpy as np\n",
        "\n",
        "# Visualize mean, cov\n",
        "mean1 = [1, 0.5]\n",
        "cov1 = [[1, 0.5], [0.5, 1]]\n",
        "x, y = np.random.multivariate_normal(mean=mean1, cov=cov1, size=100).T\n",
        "plt.subplot(3, 1, 1)\n",
        "plt.plot(x, y, 'x')\n",
        "plt.axis('equal')\n",
        "plt.title('Multivariate Normal Distribution 1')\n",
        "\n",
        "# Visualize mean, cov\n",
        "mean2 = [2, 3]\n",
        "cov2 = [[10, 5], [5, 10]]\n",
        "a, b = np.random.multivariate_normal(mean=mean2, cov=cov2, size=100).T\n",
        "plt.subplot(3, 1, 2)\n",
        "plt.plot(a, b, 'bo')\n",
        "plt.axis('equal')\n",
        "plt.title('Multivariate Normal Distribution 2')\n",
        "\n",
        "# Visualize mean, cov\n",
        "mean3 = [1, 5]\n",
        "cov3 = [[5, 15], [15, 5]]\n",
        "c, d = np.random.multivariate_normal(mean=mean3, cov=cov3, size=100).T\n",
        "plt.subplot(3, 1, 3)\n",
        "plt.plot(c, d, 'r+')\n",
        "plt.axis('equal')\n",
        "plt.title('Multivariate Normal Distribution 3')\n",
        "\n",
        "plt.tight_layout()\n",
        "plt.show()\n"
      ],
      "metadata": {
        "colab": {
          "base_uri": "https://localhost:8080/",
          "height": 522
        },
        "id": "8WUPAEmOwwTJ",
        "outputId": "6b859ace-7ee6-457f-c347-89708289391f"
      },
      "execution_count": 26,
      "outputs": [
        {
          "output_type": "stream",
          "name": "stderr",
          "text": [
            "<ipython-input-26-fad96932f95b>:25: RuntimeWarning: covariance is not positive-semidefinite.\n",
            "  c, d = np.random.multivariate_normal(mean=mean3, cov=cov3, size=100).T\n"
          ]
        },
        {
          "output_type": "display_data",
          "data": {
            "text/plain": [
              "<Figure size 640x480 with 3 Axes>"
            ],
            "image/png": "[encoded data removed]"
          },
          "metadata": {}
        }
      ]
    },
    {
      "cell_type": "code",
      "source": [],
      "metadata": {
        "id": "eKyv3UBiwwVk"
      },
      "execution_count": null,
      "outputs": []
    },
    {
      "cell_type": "code",
      "source": [],
      "metadata": {
        "id": "E2g6hI5HwwYS"
      },
      "execution_count": null,
      "outputs": []
    },
    {
      "cell_type": "code",
      "source": [],
      "metadata": {
        "id": "9xP69PD7wwau"
      },
      "execution_count": null,
      "outputs": []
    },
    {
      "cell_type": "code",
      "source": [],
      "metadata": {
        "id": "jeh_RXDXwweE"
      },
      "execution_count": null,
      "outputs": []
    }
  ]
}