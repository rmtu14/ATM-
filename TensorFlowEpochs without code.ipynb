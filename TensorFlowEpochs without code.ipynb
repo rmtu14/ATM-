{
  "nbformat": 4,
  "nbformat_minor": 0,
  "metadata": {
    "colab": {
      "provenance": [],
      "authorship_tag": "ABX9TyNHzbbvvTu/KJhWXdteV6Fb",
      "include_colab_link": true
    },
    "kernelspec": {
      "name": "python3",
      "display_name": "Python 3"
    },
    "language_info": {
      "name": "python"
    }
  },
  "cells": [
    {
      "cell_type": "markdown",
      "metadata": {
        "id": "view-in-github",
        "colab_type": "text"
      },
      "source": [
        "<a href=\"https://colab.research.google.com/github/rmtu14/ATM-/blob/main/TensorFlowEpochs%20without%20code.ipynb\" target=\"_parent\"><img src=\"https://colab.research.google.com/assets/colab-badge.svg\" alt=\"Open In Colab\"/></a>"
      ]
    },
    {
      "cell_type": "code",
      "execution_count": 1,
      "metadata": {
        "colab": {
          "base_uri": "https://localhost:8080/"
        },
        "id": "oEQTm1121Z8g",
        "outputId": "8d2fafc6-d002-44ae-d97d-86be15eeaf97"
      },
      "outputs": [
        {
          "output_type": "stream",
          "name": "stdout",
          "text": [
            "Downloading data from https://storage.googleapis.com/tensorflow/tf-keras-datasets/mnist.npz\n",
            "11490434/11490434 [==============================] - 0s 0us/step\n",
            "Train Images Shape: (60000, 28, 28)\n",
            "Train Labels Shape: (60000,)\n",
            "Test Images Shape: (10000, 28, 28)\n",
            "Test Labels Shape: (10000,)\n"
          ]
        }
      ],
      "source": [
        "import tensorflow as tf\n",
        "from tensorflow.keras.datasets import mnist\n",
        "\n",
        "# Load the MNIST dataset\n",
        "(train_images, train_labels), (test_images, test_labels) = mnist.load_data()\n",
        "\n",
        "# Print the shape of the loaded data\n",
        "print(\"Train Images Shape:\", train_images.shape)\n",
        "print(\"Train Labels Shape:\", train_labels.shape)\n",
        "print(\"Test Images Shape:\", test_images.shape)\n",
        "print(\"Test Labels Shape:\", test_labels.shape)\n"
      ]
    },
    {
      "cell_type": "code",
      "source": [
        "import matplotlib.pyplot as plt\n",
        "import numpy as np\n",
        "from tensorflow.keras.datasets import mnist\n",
        "\n",
        "# Load the MNIST dataset\n",
        "(train_images, train_labels), (_, _) = mnist.load_data()\n",
        "\n",
        "# Define subplots (2,5)\n",
        "fig, ax = plt.subplots(2, 5, figsize=(8, 4))\n",
        "\n",
        "# Loop over ax.flatten() and plot each digit\n",
        "for i, ax in enumerate(ax.flatten()):\n",
        "    # Choose each digit occurring at its first instance\n",
        "    im_idx = np.where(train_labels == i)[0][0]\n",
        "\n",
        "    # Reshape the selected digit to (28, 28) from (1, 28, 28)\n",
        "    plottable_image = train_images[im_idx].reshape(28, 28)\n",
        "\n",
        "    # Now pass this plottable_image to ax.imshow\n",
        "    ax.imshow(plottable_image, cmap='gray_r')\n",
        "\n",
        "plt.show()\n",
        "\n"
      ],
      "metadata": {
        "colab": {
          "base_uri": "https://localhost:8080/",
          "height": 339
        },
        "id": "UPTHCgM72HIZ",
        "outputId": "57c4ffdc-5cb8-495c-80a5-d5d337ff033f"
      },
      "execution_count": 3,
      "outputs": [
        {
          "output_type": "display_data",
          "data": {
            "text/plain": [
              "<Figure size 800x400 with 10 Axes>"
            ],
            "image/png": "[encoded data removed]"
          },
          "metadata": {}
        }
      ]
    },
    {
      "cell_type": "code",
      "source": [
        "import tensorflow as tf\n",
        "from tensorflow.keras.datasets import mnist\n",
        "\n",
        "# Load the MNIST dataset\n",
        "(train_images, train_labels), (test_images, test_labels) = mnist.load_data()\n",
        "\n",
        "# Reshape train_images from (60000, 28, 28) to (60000, 28*28)\n",
        "train_images = train_images.reshape((60000, 28 * 28))\n",
        "\n",
        "# Convert dtype of train_images from uint8 to float32\n",
        "train_images = train_images.astype('float32')\n",
        "\n",
        "# Reshape test_images from (10000, 28, 28) to (10000, 28*28)\n",
        "test_images = test_images.reshape((10000, 28 * 28))\n",
        "\n",
        "# Convert dtype of test_images from uint8 to float32\n",
        "test_images = test_images.astype('float32')\n"
      ],
      "metadata": {
        "id": "flQHD60G2HNI"
      },
      "execution_count": 4,
      "outputs": []
    },
    {
      "cell_type": "code",
      "source": [
        "import tensorflow as tf\n",
        "from tensorflow.keras import layers, models\n",
        "\n",
        "# Define the model\n",
        "model = models.Sequential()\n",
        "\n",
        "# Add the first dense layer with 512 neurons and activation='relu'\n",
        "model.add(layers.Dense(512, activation='relu', input_shape=(28 * 28,)))\n",
        "\n",
        "# Add the second dense layer with 10 neurons and activation='softmax'\n",
        "model.add(layers.Dense(10, activation='softmax'))\n",
        "\n",
        "# Print a summary of the model architecture\n",
        "model.summary()\n"
      ],
      "metadata": {
        "colab": {
          "base_uri": "https://localhost:8080/"
        },
        "id": "1NFVrPyl2HR2",
        "outputId": "64b16378-a432-4b3f-a08e-112132bfd260"
      },
      "execution_count": 5,
      "outputs": [
        {
          "output_type": "stream",
          "name": "stdout",
          "text": [
            "Model: \"sequential\"\n",
            "_________________________________________________________________\n",
            " Layer (type)                Output Shape              Param #   \n",
            "=================================================================\n",
            " dense (Dense)               (None, 512)               401920    \n",
            "                                                                 \n",
            " dense_1 (Dense)             (None, 10)                5130      \n",
            "                                                                 \n",
            "=================================================================\n",
            "Total params: 407050 (1.55 MB)\n",
            "Trainable params: 407050 (1.55 MB)\n",
            "Non-trainable params: 0 (0.00 Byte)\n",
            "_________________________________________________________________\n"
          ]
        }
      ]
    },
    {
      "cell_type": "code",
      "source": [
        "# Compile the model\n",
        "model.compile(optimizer='rmsprop',\n",
        "              loss='sparse_categorical_crossentropy',\n",
        "              metrics=['accuracy'])\n",
        "\n",
        "# Fit the model\n",
        "history = model.fit(train_images, train_labels, epochs=10, batch_size=128, validation_split=0.2)\n"
      ],
      "metadata": {
        "colab": {
          "base_uri": "https://localhost:8080/"
        },
        "id": "OOMFDMMf2HUm",
        "outputId": "b2b4ce1b-5a39-40ed-9911-8f8161779169"
      },
      "execution_count": 6,
      "outputs": [
        {
          "output_type": "stream",
          "name": "stdout",
          "text": [
            "Epoch 1/10\n",
            "375/375 [==============================] - 5s 12ms/step - loss: 6.1750 - accuracy: 0.8929 - val_loss: 1.1197 - val_accuracy: 0.9401\n",
            "Epoch 2/10\n",
            "375/375 [==============================] - 6s 15ms/step - loss: 0.7844 - accuracy: 0.9502 - val_loss: 0.7380 - val_accuracy: 0.9526\n",
            "Epoch 3/10\n",
            "375/375 [==============================] - 4s 11ms/step - loss: 0.4903 - accuracy: 0.9642 - val_loss: 0.8289 - val_accuracy: 0.9532\n",
            "Epoch 4/10\n",
            "375/375 [==============================] - 4s 11ms/step - loss: 0.4364 - accuracy: 0.9698 - val_loss: 0.6916 - val_accuracy: 0.9643\n",
            "Epoch 5/10\n",
            "375/375 [==============================] - 6s 16ms/step - loss: 0.3385 - accuracy: 0.9751 - val_loss: 0.6741 - val_accuracy: 0.9643\n",
            "Epoch 6/10\n",
            "375/375 [==============================] - 4s 11ms/step - loss: 0.2815 - accuracy: 0.9789 - val_loss: 0.7474 - val_accuracy: 0.9672\n",
            "Epoch 7/10\n",
            "375/375 [==============================] - 4s 11ms/step - loss: 0.2568 - accuracy: 0.9814 - val_loss: 0.7776 - val_accuracy: 0.9646\n",
            "Epoch 8/10\n",
            "375/375 [==============================] - 6s 16ms/step - loss: 0.2233 - accuracy: 0.9842 - val_loss: 0.8757 - val_accuracy: 0.9657\n",
            "Epoch 9/10\n",
            "375/375 [==============================] - 5s 13ms/step - loss: 0.2181 - accuracy: 0.9851 - val_loss: 0.8515 - val_accuracy: 0.9697\n",
            "Epoch 10/10\n",
            "375/375 [==============================] - 4s 11ms/step - loss: 0.1889 - accuracy: 0.9868 - val_loss: 0.8118 - val_accuracy: 0.9718\n"
          ]
        }
      ]
    },
    {
      "cell_type": "code",
      "source": [
        "# Define a variable test_digits and store the first 10 images of test data\n",
        "test_digits = test_images[:10]\n",
        "\n",
        "# Predict on the test_digits using our model\n",
        "predictions = model.predict(test_digits)\n",
        "\n",
        "# Check the first image prediction from predictions\n",
        "first_image_prediction = predictions[0]\n",
        "print(\"Predictions for the first image:\")\n",
        "print(first_image_prediction)\n"
      ],
      "metadata": {
        "colab": {
          "base_uri": "https://localhost:8080/"
        },
        "id": "FljweIH62HXU",
        "outputId": "baa31910-ef8a-4a2d-8666-c964b1b04098"
      },
      "execution_count": 7,
      "outputs": [
        {
          "output_type": "stream",
          "name": "stdout",
          "text": [
            "1/1 [==============================] - 0s 82ms/step\n",
            "Predictions for the first image:\n",
            "[0.0000000e+00 0.0000000e+00 0.0000000e+00 8.4585866e-36 0.0000000e+00\n",
            " 0.0000000e+00 0.0000000e+00 9.9999994e-01 0.0000000e+00 0.0000000e+00]\n"
          ]
        }
      ]
    },
    {
      "cell_type": "code",
      "source": [
        "# Checking the index having maximum prediction\n",
        "predicted_digit_index = tf.argmax(first_image_prediction).numpy()\n",
        "print(\"Index having maximum prediction:\", predicted_digit_index)\n",
        "\n",
        "# Checking the value at the index having maximum prediction\n",
        "max_prediction_value = first_image_prediction[predicted_digit_index]\n",
        "print(\"Maximum prediction value:\", max_prediction_value)\n",
        "\n",
        "# Checking the label for that index having maximum prediction\n",
        "true_label = test_labels[0]\n",
        "print(\"True label for the first image:\", true_label)\n",
        "\n",
        "# Confirming whether the prediction is right or wrong\n",
        "prediction_is_correct = predicted_digit_index == true_label\n",
        "print(\"Is the prediction correct?\", prediction_is_correct)\n"
      ],
      "metadata": {
        "colab": {
          "base_uri": "https://localhost:8080/"
        },
        "id": "XQdeg-6Y2Har",
        "outputId": "ae7f86bc-a756-4cfd-b82d-579422d77073"
      },
      "execution_count": 8,
      "outputs": [
        {
          "output_type": "stream",
          "name": "stdout",
          "text": [
            "Index having maximum prediction: 7\n",
            "Maximum prediction value: 0.99999994\n",
            "True label for the first image: 7\n",
            "Is the prediction correct? True\n"
          ]
        }
      ]
    },
    {
      "cell_type": "code",
      "source": [
        "# Evaluate the model on test data\n",
        "test_loss, test_accuracy = model.evaluate(test_images, test_labels)\n",
        "\n",
        "# Print the test loss and accuracy\n",
        "print(\"Test Loss:\", test_loss)\n",
        "print(\"Test Accuracy:\", test_accuracy)\n"
      ],
      "metadata": {
        "colab": {
          "base_uri": "https://localhost:8080/"
        },
        "id": "-GqguTul2Hf2",
        "outputId": "28dc7fb1-080e-41e4-9758-0d3fcba2c946"
      },
      "execution_count": 9,
      "outputs": [
        {
          "output_type": "stream",
          "name": "stdout",
          "text": [
            "313/313 [==============================] - 1s 3ms/step - loss: 0.6953 - accuracy: 0.9721\n",
            "Test Loss: 0.6953367590904236\n",
            "Test Accuracy: 0.972100019454956\n"
          ]
        }
      ]
    },
    {
      "cell_type": "code",
      "source": [
        "# Evaluate the model on test data and print test accuracy\n",
        "test_loss, test_accuracy = model.evaluate(test_images, test_labels)\n",
        "print(\"Test Accuracy:\", test_accuracy)\n"
      ],
      "metadata": {
        "colab": {
          "base_uri": "https://localhost:8080/"
        },
        "id": "Nzi3dAWy3Xgb",
        "outputId": "ba645289-ab70-4ae3-833c-bb94618b43f2"
      },
      "execution_count": 10,
      "outputs": [
        {
          "output_type": "stream",
          "name": "stdout",
          "text": [
            "313/313 [==============================] - 2s 5ms/step - loss: 0.6953 - accuracy: 0.9721\n",
            "Test Accuracy: 0.972100019454956\n"
          ]
        }
      ]
    },
    {
      "cell_type": "code",
      "source": [
        "from tensorflow.keras import models, layers\n",
        "\n",
        "# Build the second model\n",
        "model2 = models.Sequential([\n",
        "    layers.Dense(128, activation='relu', input_shape=(28 * 28,)),\n",
        "    layers.Dense(128, activation='relu'),\n",
        "    layers.Dense(10, activation='softmax')\n",
        "])\n",
        "\n",
        "# Compile model2\n",
        "model2.compile(optimizer='rmsprop',\n",
        "               loss='sparse_categorical_crossentropy',\n",
        "               metrics=['accuracy'])\n",
        "\n",
        "# Fit model2\n",
        "history2 = model2.fit(train_images, train_labels, epochs=6, batch_size=128, validation_split=0.2)\n"
      ],
      "metadata": {
        "colab": {
          "base_uri": "https://localhost:8080/"
        },
        "id": "z9OOOpwQ3Xjm",
        "outputId": "ee4fa322-8a03-4662-eca1-bc3b5ab4f69b"
      },
      "execution_count": 11,
      "outputs": [
        {
          "output_type": "stream",
          "name": "stdout",
          "text": [
            "Epoch 1/6\n",
            "375/375 [==============================] - 3s 7ms/step - loss: 2.9208 - accuracy: 0.8573 - val_loss: 0.7299 - val_accuracy: 0.9087\n",
            "Epoch 2/6\n",
            "375/375 [==============================] - 2s 6ms/step - loss: 0.5726 - accuracy: 0.9262 - val_loss: 0.4952 - val_accuracy: 0.9329\n",
            "Epoch 3/6\n",
            "375/375 [==============================] - 2s 6ms/step - loss: 0.3683 - accuracy: 0.9448 - val_loss: 0.4381 - val_accuracy: 0.9392\n",
            "Epoch 4/6\n",
            "375/375 [==============================] - 4s 12ms/step - loss: 0.2783 - accuracy: 0.9549 - val_loss: 0.4179 - val_accuracy: 0.9432\n",
            "Epoch 5/6\n",
            "375/375 [==============================] - 2s 6ms/step - loss: 0.2235 - accuracy: 0.9621 - val_loss: 0.3307 - val_accuracy: 0.9570\n",
            "Epoch 6/6\n",
            "375/375 [==============================] - 2s 6ms/step - loss: 0.1799 - accuracy: 0.9688 - val_loss: 0.3512 - val_accuracy: 0.9526\n"
          ]
        }
      ]
    },
    {
      "cell_type": "code",
      "source": [
        "from tensorflow.keras import models, layers\n",
        "\n",
        "# Build the third model\n",
        "model3 = models.Sequential([\n",
        "    layers.Dense(64, activation='relu', input_shape=(28 * 28,)),\n",
        "    layers.Dense(64, activation='relu'),\n",
        "    layers.Dense(10, activation='softmax')\n",
        "])\n",
        "\n",
        "# Compile model3\n",
        "model3.compile(optimizer='rmsprop',\n",
        "               loss='sparse_categorical_crossentropy',\n",
        "               metrics=['accuracy'])\n",
        "\n",
        "# Fit model3\n",
        "history3 = model3.fit(train_images, train_labels, epochs=5, batch_size=128, validation_split=0.2)\n"
      ],
      "metadata": {
        "colab": {
          "base_uri": "https://localhost:8080/"
        },
        "id": "Iz3bJbjE3Xlb",
        "outputId": "9a9412dc-d132-46dd-9bfe-6c014d2f7839"
      },
      "execution_count": 12,
      "outputs": [
        {
          "output_type": "stream",
          "name": "stdout",
          "text": [
            "Epoch 1/5\n",
            "375/375 [==============================] - 3s 8ms/step - loss: 2.7046 - accuracy: 0.8126 - val_loss: 0.6639 - val_accuracy: 0.8808\n",
            "Epoch 2/5\n",
            "375/375 [==============================] - 3s 7ms/step - loss: 0.5242 - accuracy: 0.8975 - val_loss: 0.4095 - val_accuracy: 0.9119\n",
            "Epoch 3/5\n",
            "375/375 [==============================] - 2s 5ms/step - loss: 0.3546 - accuracy: 0.9225 - val_loss: 0.3668 - val_accuracy: 0.9243\n",
            "Epoch 4/5\n",
            "375/375 [==============================] - 2s 5ms/step - loss: 0.2847 - accuracy: 0.9371 - val_loss: 0.3095 - val_accuracy: 0.9345\n",
            "Epoch 5/5\n",
            "375/375 [==============================] - 2s 5ms/step - loss: 0.2314 - accuracy: 0.9488 - val_loss: 0.3024 - val_accuracy: 0.9412\n"
          ]
        }
      ]
    },
    {
      "cell_type": "code",
      "source": [],
      "metadata": {
        "id": "-UD6qlam3Xnr"
      },
      "execution_count": null,
      "outputs": []
    },
    {
      "cell_type": "code",
      "source": [],
      "metadata": {
        "id": "stkolERG3Xq4"
      },
      "execution_count": null,
      "outputs": []
    }
  ]
}