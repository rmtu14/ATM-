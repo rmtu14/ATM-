{
  "nbformat": 4,
  "nbformat_minor": 0,
  "metadata": {
    "colab": {
      "provenance": [],
      "authorship_tag": "ABX9TyPRHSR32Vz1QgYeVwIlIV7p",
      "include_colab_link": true
    },
    "kernelspec": {
      "name": "python3",
      "display_name": "Python 3"
    },
    "language_info": {
      "name": "python"
    }
  },
  "cells": [
    {
      "cell_type": "markdown",
      "metadata": {
        "id": "view-in-github",
        "colab_type": "text"
      },
      "source": [
        "<a href=\"https://colab.research.google.com/github/rmtu14/ATM-/blob/main/StemmingvsLemmanization.ipynb\" target=\"_parent\"><img src=\"https://colab.research.google.com/assets/colab-badge.svg\" alt=\"Open In Colab\"/></a>"
      ]
    },
    {
      "cell_type": "code",
      "execution_count": 2,
      "metadata": {
        "colab": {
          "base_uri": "https://localhost:8080/"
        },
        "id": "TVuYwtdTIjfn",
        "outputId": "2a59c83c-d627-4b53-d11a-053db9844c58"
      },
      "outputs": [
        {
          "output_type": "stream",
          "name": "stdout",
          "text": [
            "Tokenized words: ['Welcome', 'to', 'CloudyML', '.', 'It', 'is', 'a', 'platform', 'for', 'machine', 'learning', 'enthusiasts', '.']\n"
          ]
        }
      ],
      "source": [
        "import nltk\n",
        "from nltk.tokenize import word_tokenize\n",
        "\n",
        "# Given sentence\n",
        "sentence = 'Welcome to CloudyML. It is a platform for machine learning enthusiasts.'\n",
        "\n",
        "# Tokenize words\n",
        "words = word_tokenize(sentence)\n",
        "\n",
        "# Print the tokenized words\n",
        "print(\"Tokenized words:\", words)\n"
      ]
    },
    {
      "cell_type": "code",
      "source": [
        "import nltk\n",
        "from nltk.corpus import wordnet\n",
        "from nltk.stem import WordNetLemmatizer\n",
        "\n",
        "# Download WordNet data\n",
        "nltk.download('wordnet')\n",
        "\n",
        "# Given words\n",
        "words = ['running', 'flies', 'better']\n",
        "\n",
        "# Initialize the WordNet Lemmatizer\n",
        "lemmatizer = WordNetLemmatizer()\n",
        "\n",
        "# Lemmatize the words\n",
        "lemmatized_words = [lemmatizer.lemmatize(word, wordnet.VERB) for word in words]\n",
        "\n",
        "# Print the lemmatized words\n",
        "print(\"Lemmatized words:\", lemmatized_words)\n"
      ],
      "metadata": {
        "colab": {
          "base_uri": "https://localhost:8080/"
        },
        "id": "SfSjmoqlJyHo",
        "outputId": "28d2a7d9-febf-4e4b-837a-f62b94f45ac9"
      },
      "execution_count": 3,
      "outputs": [
        {
          "output_type": "stream",
          "name": "stderr",
          "text": [
            "[nltk_data] Downloading package wordnet to /root/nltk_data...\n"
          ]
        },
        {
          "output_type": "stream",
          "name": "stdout",
          "text": [
            "Lemmatized words: ['run', 'fly', 'better']\n"
          ]
        }
      ]
    },
    {
      "cell_type": "code",
      "source": [
        "import nltk\n",
        "from nltk.stem import PorterStemmer\n",
        "\n",
        "# Given words\n",
        "words = ['program', 'programs', 'programmer','programming']\n",
        "\n",
        "# Initialize the Porter Stemmer\n",
        "porter_stemmer = PorterStemmer()\n",
        "\n",
        "# Stem the words\n",
        "stemmed_words = [porter_stemmer.stem(word) for word in words]\n",
        "\n",
        "# Print the stemmed words\n",
        "print(\"Stemmed words:\", stemmed_words)\n"
      ],
      "metadata": {
        "colab": {
          "base_uri": "https://localhost:8080/"
        },
        "id": "C9-nSdflJyJ8",
        "outputId": "73f80cfa-d50f-4b96-a722-dc7f42da6ff1"
      },
      "execution_count": 4,
      "outputs": [
        {
          "output_type": "stream",
          "name": "stdout",
          "text": [
            "Stemmed words: ['program', 'program', 'programm', 'program']\n"
          ]
        }
      ]
    },
    {
      "cell_type": "code",
      "source": [
        "import nltk\n",
        "from nltk.corpus import stopwords\n",
        "\n",
        "# Download the NLTK stopwords data (if not already downloaded)\n",
        "nltk.download('stopwords')\n",
        "\n",
        "# Get the English stopwords\n",
        "english_stopwords = set(stopwords.words('english'))\n",
        "\n",
        "# Print the English stopwords\n",
        "print(\"English Stopwords:\", english_stopwords)\n"
      ],
      "metadata": {
        "colab": {
          "base_uri": "https://localhost:8080/"
        },
        "id": "vuvKMeL_JyNa",
        "outputId": "ddc94fdb-c98e-4783-ba7c-6d91eb20868a"
      },
      "execution_count": 5,
      "outputs": [
        {
          "output_type": "stream",
          "name": "stdout",
          "text": [
            "English Stopwords: {'theirs', 'himself', 're', 'between', 'will', 'themselves', 'she', 'off', 'again', 'such', 'o', 'at', 'so', 'once', 'more', 'its', 'd', 'doing', 'above', 'he', \"you're\", 'yours', \"you'd\", \"doesn't\", 'haven', 'out', 'down', \"you'll\", 'had', \"she's\", 'aren', 'further', 'who', 'there', 'the', 'should', 'any', 'do', 'of', \"couldn't\", 'won', 'because', 'be', 'or', 'having', 'against', 'not', 'those', \"wasn't\", \"shan't\", \"wouldn't\", 've', \"it's\", 'did', \"hadn't\", 'as', 'y', \"don't\", \"didn't\", 'here', 'being', 't', 'very', 'other', 'to', 'where', 'each', 'you', 'that', 'now', 'in', 'couldn', 'me', 'why', 'didn', 'mightn', 'is', 'are', 'during', 'no', 'yourself', \"haven't\", \"needn't\", 'up', 'weren', \"won't\", 'same', 'most', 'yourselves', 'these', 'all', 'after', 'before', 'has', 'than', 'for', 'from', 'then', 'don', 'herself', 'too', 'ourselves', 'an', 'whom', 'while', 'through', 'own', 'by', \"mustn't\", 'hasn', \"mightn't\", \"hasn't\", 'itself', 'ain', 'their', 'i', 'we', 'am', 'them', 'below', 'myself', 'our', 'both', 'ma', 'was', 'only', 'hers', \"you've\", 'if', 'm', 'on', 'until', 'when', 'nor', 'they', 'does', \"aren't\", 'under', 'how', 'over', 'and', 'just', \"should've\", 'this', 'your', 'have', \"shouldn't\", \"that'll\", 'few', 'isn', 'needn', 'wasn', 'which', 'were', 'about', \"isn't\", 'some', 'but', 'shouldn', 's', 'll', 'a', 'it', 'can', 'shan', 'into', 'been', 'his', 'my', 'ours', 'him', 'mustn', 'with', \"weren't\", 'hadn', 'doesn', 'wouldn', 'her', 'what'}\n"
          ]
        },
        {
          "output_type": "stream",
          "name": "stderr",
          "text": [
            "[nltk_data] Downloading package stopwords to /root/nltk_data...\n",
            "[nltk_data]   Unzipping corpora/stopwords.zip.\n"
          ]
        }
      ]
    },
    {
      "cell_type": "code",
      "source": [
        "# Remove stopwords\n",
        "filtered_words = [word for word in words if word.lower() not in english_stopwords]\n",
        "\n",
        "# Join the filtered words to form the modified sentence\n",
        "filtered_sentence = ' '.join(filtered_words)\n",
        "print(\"Original Sentence:\", sentence)\n",
        "print(\"Modified Sentence without Stopwords:\", filtered_sentence)"
      ],
      "metadata": {
        "colab": {
          "base_uri": "https://localhost:8080/"
        },
        "id": "WFg81bA4KpPg",
        "outputId": "8be9e698-183b-43fc-ef40-1a6d9a58b7d9"
      },
      "execution_count": 7,
      "outputs": [
        {
          "output_type": "stream",
          "name": "stdout",
          "text": [
            "Original Sentence: Welcome to CloudyML. It is a platform for machine learning enthusiasts.\n",
            "Modified Sentence without Stopwords: program programs programmer programming\n"
          ]
        }
      ]
    },
    {
      "cell_type": "code",
      "source": [],
      "metadata": {
        "id": "BzIJzDQIKpRy"
      },
      "execution_count": null,
      "outputs": []
    },
    {
      "cell_type": "code",
      "source": [],
      "metadata": {
        "id": "rJCTQJh0KpVQ"
      },
      "execution_count": null,
      "outputs": []
    },
    {
      "cell_type": "code",
      "source": [],
      "metadata": {
        "id": "Pfj6b3O9Kphc"
      },
      "execution_count": null,
      "outputs": []
    },
    {
      "cell_type": "code",
      "source": [],
      "metadata": {
        "id": "opesKsyBKpj4"
      },
      "execution_count": null,
      "outputs": []
    },
    {
      "cell_type": "code",
      "source": [],
      "metadata": {
        "id": "1V-T6HqPKpnM"
      },
      "execution_count": null,
      "outputs": []
    }
  ]
}