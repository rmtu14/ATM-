{
  "nbformat": 4,
  "nbformat_minor": 0,
  "metadata": {
    "colab": {
      "provenance": [],
      "authorship_tag": "ABX9TyOPY3mSsuLTRreCWqMabgbS",
      "include_colab_link": true
    },
    "kernelspec": {
      "name": "python3",
      "display_name": "Python 3"
    },
    "language_info": {
      "name": "python"
    }
  },
  "cells": [
    {
      "cell_type": "markdown",
      "metadata": {
        "id": "view-in-github",
        "colab_type": "text"
      },
      "source": [
        "<a href=\"https://colab.research.google.com/github/rmtu14/ATM-/blob/main/GANwithoutCode.ipynb\" target=\"_parent\"><img src=\"https://colab.research.google.com/assets/colab-badge.svg\" alt=\"Open In Colab\"/></a>"
      ]
    },
    {
      "cell_type": "code",
      "execution_count": 1,
      "metadata": {
        "colab": {
          "base_uri": "https://localhost:8080/"
        },
        "id": "b3ZUemrBpXg5",
        "outputId": "1167b42b-5fe9-4f54-e9e3-4f00a1c6a5a2"
      },
      "outputs": [
        {
          "output_type": "stream",
          "name": "stdout",
          "text": [
            "GPU is not available, using CPU.\n"
          ]
        }
      ],
      "source": [
        "import torch\n",
        "\n",
        "# Check if GPU is available\n",
        "if torch.cuda.is_available():\n",
        "    device = torch.device(\"cuda\")\n",
        "    print(f\"GPU ({torch.cuda.get_device_name(0)}) is available.\")\n",
        "else:\n",
        "    device = torch.device(\"cpu\")\n",
        "    print(\"GPU is not available, using CPU.\")\n"
      ]
    },
    {
      "cell_type": "code",
      "source": [
        "import torch\n",
        "import torch.nn\n",
        "import math\n",
        "import matplotlib\n",
        "import torchvision\n"
      ],
      "metadata": {
        "id": "tLYjqLiHpl7H"
      },
      "execution_count": 2,
      "outputs": []
    },
    {
      "cell_type": "code",
      "source": [
        "import torchvision.transforms as transforms\n",
        "from torchvision.datasets import MNIST\n",
        "\n",
        "# Define the transforms\n",
        "mnist_transform = transforms.Compose([\n",
        "    transforms.ToTensor(),  # Convert image to PyTorch tensor\n",
        "    transforms.Normalize((0.5,), (0.5,))  # Normalize pixel values to the range [-1, 1]\n",
        "])\n",
        "\n",
        "# Apply the transforms to the dataset\n",
        "# Replace 'root' with the path where you want to store the MNIST dataset\n",
        "train_dataset_transformed = MNIST(root='path/to/MNIST', train=True, transform=mnist_transform, download=True)\n",
        "test_dataset_transformed = MNIST(root='path/to/MNIST', train=False, transform=mnist_transform, download=True)\n"
      ],
      "metadata": {
        "colab": {
          "base_uri": "https://localhost:8080/"
        },
        "id": "DocPRx9zpl9-",
        "outputId": "a3829276-2e78-46eb-dd44-4908244230bb"
      },
      "execution_count": 4,
      "outputs": [
        {
          "output_type": "stream",
          "name": "stdout",
          "text": [
            "Downloading http://yann.lecun.com/exdb/mnist/train-images-idx3-ubyte.gz\n",
            "Downloading http://yann.lecun.com/exdb/mnist/train-images-idx3-ubyte.gz to path/to/MNIST/MNIST/raw/train-images-idx3-ubyte.gz\n"
          ]
        },
        {
          "output_type": "stream",
          "name": "stderr",
          "text": [
            "100%|██████████| 9912422/9912422 [00:00<00:00, 105790344.67it/s]\n"
          ]
        },
        {
          "output_type": "stream",
          "name": "stdout",
          "text": [
            "Extracting path/to/MNIST/MNIST/raw/train-images-idx3-ubyte.gz to path/to/MNIST/MNIST/raw\n",
            "\n",
            "Downloading http://yann.lecun.com/exdb/mnist/train-labels-idx1-ubyte.gz\n",
            "Downloading http://yann.lecun.com/exdb/mnist/train-labels-idx1-ubyte.gz to path/to/MNIST/MNIST/raw/train-labels-idx1-ubyte.gz\n"
          ]
        },
        {
          "output_type": "stream",
          "name": "stderr",
          "text": [
            "100%|██████████| 28881/28881 [00:00<00:00, 19722516.09it/s]\n"
          ]
        },
        {
          "output_type": "stream",
          "name": "stdout",
          "text": [
            "Extracting path/to/MNIST/MNIST/raw/train-labels-idx1-ubyte.gz to path/to/MNIST/MNIST/raw\n",
            "\n",
            "Downloading http://yann.lecun.com/exdb/mnist/t10k-images-idx3-ubyte.gz\n",
            "Downloading http://yann.lecun.com/exdb/mnist/t10k-images-idx3-ubyte.gz to path/to/MNIST/MNIST/raw/t10k-images-idx3-ubyte.gz\n"
          ]
        },
        {
          "output_type": "stream",
          "name": "stderr",
          "text": [
            "100%|██████████| 1648877/1648877 [00:00<00:00, 28948290.73it/s]\n"
          ]
        },
        {
          "output_type": "stream",
          "name": "stdout",
          "text": [
            "Extracting path/to/MNIST/MNIST/raw/t10k-images-idx3-ubyte.gz to path/to/MNIST/MNIST/raw\n",
            "\n",
            "Downloading http://yann.lecun.com/exdb/mnist/t10k-labels-idx1-ubyte.gz\n",
            "Downloading http://yann.lecun.com/exdb/mnist/t10k-labels-idx1-ubyte.gz to path/to/MNIST/MNIST/raw/t10k-labels-idx1-ubyte.gz\n"
          ]
        },
        {
          "output_type": "stream",
          "name": "stderr",
          "text": [
            "100%|██████████| 4542/4542 [00:00<00:00, 6837950.02it/s]\n"
          ]
        },
        {
          "output_type": "stream",
          "name": "stdout",
          "text": [
            "Extracting path/to/MNIST/MNIST/raw/t10k-labels-idx1-ubyte.gz to path/to/MNIST/MNIST/raw\n",
            "\n"
          ]
        }
      ]
    },
    {
      "cell_type": "code",
      "source": [
        "import torch\n",
        "from torch.utils.data import DataLoader\n",
        "\n",
        "# Assuming you already have the transformed datasets: train_dataset_transformed\n",
        "# Make sure to replace 'train_dataset_transformed' with your actual dataset variable\n",
        "\n",
        "# Create DataLoader for training set\n",
        "train_loader = DataLoader(\n",
        "    dataset=train_dataset_transformed,\n",
        "    batch_size=32,\n",
        "    shuffle=True,\n",
        "    num_workers=4  # You can adjust the number of workers for parallel data loading\n",
        ")\n"
      ],
      "metadata": {
        "colab": {
          "base_uri": "https://localhost:8080/"
        },
        "id": "rm4K-n6zpmAh",
        "outputId": "98029d6a-abaa-4e92-9e9a-382e8d22b720"
      },
      "execution_count": 5,
      "outputs": [
        {
          "output_type": "stream",
          "name": "stderr",
          "text": [
            "/usr/local/lib/python3.10/dist-packages/torch/utils/data/dataloader.py:557: UserWarning: This DataLoader will create 4 worker processes in total. Our suggested max number of worker in current system is 2, which is smaller than what this DataLoader is going to create. Please be aware that excessive worker creation might get DataLoader running slow or even freeze, lower the worker number to avoid potential slowness/freeze if necessary.\n",
            "  warnings.warn(_create_warning_msg(\n"
          ]
        }
      ]
    },
    {
      "cell_type": "code",
      "source": [
        "import matplotlib.pyplot as plt\n",
        "import numpy as np\n",
        "\n",
        "# Assume train_loader is already defined\n",
        "# Make sure to replace 'train_loader' with your actual DataLoader variable\n",
        "\n",
        "# Get one batch from the DataLoader\n",
        "for batch_idx, (images, labels) in enumerate(train_loader):\n",
        "    # Plot the samples\n",
        "    plt.figure(figsize=(10, 5))\n",
        "\n",
        "    for i in range(32):  # Assuming batch size is 32\n",
        "        plt.subplot(4, 8, i + 1)\n",
        "        image = images[i].numpy().squeeze()\n",
        "        plt.imshow(image, cmap='gray_r')\n",
        "        plt.xticks([])  # Remove xticks\n",
        "        plt.yticks([])  # Remove yticks\n",
        "        plt.title(f'Label: {labels[i]}')\n",
        "\n",
        "    plt.tight_layout()\n",
        "    plt.show()\n",
        "\n",
        "    # Break after the first batch for demonstration purposes\n",
        "    break\n"
      ],
      "metadata": {
        "colab": {
          "base_uri": "https://localhost:8080/",
          "height": 562
        },
        "id": "LggkIXdepmDc",
        "outputId": "9194283a-aa8d-447f-d890-3993ab5c6464"
      },
      "execution_count": 6,
      "outputs": [
        {
          "output_type": "stream",
          "name": "stderr",
          "text": [
            "/usr/local/lib/python3.10/dist-packages/torch/utils/data/dataloader.py:557: UserWarning: This DataLoader will create 4 worker processes in total. Our suggested max number of worker in current system is 2, which is smaller than what this DataLoader is going to create. Please be aware that excessive worker creation might get DataLoader running slow or even freeze, lower the worker number to avoid potential slowness/freeze if necessary.\n",
            "  warnings.warn(_create_warning_msg(\n"
          ]
        },
        {
          "output_type": "display_data",
          "data": {
            "text/plain": [
              "<Figure size 1000x500 with 32 Axes>"
            ],
            "image/png": "[encoded data removed]"
          },
          "metadata": {}
        }
      ]
    },
    {
      "cell_type": "code",
      "source": [
        "import torch\n",
        "import torch.nn as nn\n",
        "\n",
        "class Discriminator(nn.Module):\n",
        "    def __init__(self, input_size):\n",
        "        super(Discriminator, self).__init__()\n",
        "\n",
        "        self.model = nn.Sequential(\n",
        "            nn.Linear(input_size, 512),\n",
        "            nn.ReLU(inplace=True),\n",
        "            nn.Dropout(0.5),\n",
        "            nn.Linear(512, 256),\n",
        "            nn.ReLU(inplace=True),\n",
        "            nn.Dropout(0.5),\n",
        "            nn.Linear(256, 1),\n",
        "            nn.Sigmoid()\n",
        "        )\n",
        "\n",
        "    def forward(self, x):\n",
        "        return self.model(x)\n",
        "\n",
        "# Example usage\n",
        "# Assuming input_size is the size of the input features\n",
        "input_size = 100  # Adjust this to your input size\n",
        "discriminator = Discriminator(input_size)\n",
        "\n",
        "# Create a random input tensor for demonstration\n",
        "random_input = torch.randn((32, input_size))  # Assuming batch size is 32\n",
        "output = discriminator(random_input)\n",
        "\n",
        "# Print the output shape\n",
        "print(\"Output Shape:\", output.shape)\n"
      ],
      "metadata": {
        "colab": {
          "base_uri": "https://localhost:8080/"
        },
        "id": "cMWe1NAKpmGB",
        "outputId": "28820924-39d1-4ab1-82fd-950de3baa3f7"
      },
      "execution_count": 7,
      "outputs": [
        {
          "output_type": "stream",
          "name": "stdout",
          "text": [
            "Output Shape: torch.Size([32, 1])\n"
          ]
        }
      ]
    },
    {
      "cell_type": "code",
      "source": [
        "import torch\n",
        "import torch.nn as nn\n",
        "\n",
        "class Discriminator(nn.Module):\n",
        "    def __init__(self, input_size):\n",
        "        super(Discriminator, self).__init__()\n",
        "\n",
        "        self.model = nn.Sequential(\n",
        "            nn.Linear(input_size, 512),\n",
        "            nn.ReLU(inplace=True),\n",
        "            nn.Dropout(0.5),\n",
        "            nn.Linear(512, 256),\n",
        "            nn.ReLU(inplace=True),\n",
        "            nn.Dropout(0.5),\n",
        "            nn.Linear(256, 1),\n",
        "            nn.Sigmoid()\n",
        "        )\n",
        "\n",
        "    def forward(self, x):\n",
        "        return self.model(x)\n",
        "\n",
        "# Example usage\n",
        "input_size = 100\n",
        "discriminator = Discriminator(input_size)\n",
        "\n",
        "# Move the discriminator to GPU if available\n",
        "device = torch.device(\"cuda\" if torch.cuda.is_available() else \"cpu\")\n",
        "discriminator.to(device)\n",
        "\n",
        "# Create a random input tensor for demonstration\n",
        "random_input = torch.randn((32, input_size)).to(device)  # Assuming batch size is 32\n",
        "output = discriminator(random_input)\n",
        "\n",
        "# Print the output shape\n",
        "print(\"Output Shape:\", output.shape)\n"
      ],
      "metadata": {
        "colab": {
          "base_uri": "https://localhost:8080/"
        },
        "id": "xoxr6qKupmIc",
        "outputId": "bcce63b1-8f07-4b34-d58d-1e1cdbc19cfe"
      },
      "execution_count": 8,
      "outputs": [
        {
          "output_type": "stream",
          "name": "stdout",
          "text": [
            "Output Shape: torch.Size([32, 1])\n"
          ]
        }
      ]
    },
    {
      "cell_type": "code",
      "source": [
        "import torch\n",
        "import torch.nn as nn\n",
        "import torch.optim as optim\n",
        "\n",
        "# Define the discriminator\n",
        "class Discriminator(nn.Module):\n",
        "    def __init__(self, input_size):\n",
        "        super(Discriminator, self).__init__()\n",
        "\n",
        "        self.model = nn.Sequential(\n",
        "            nn.Linear(input_size, 512),\n",
        "            nn.ReLU(inplace=True),\n",
        "            nn.Dropout(0.5),\n",
        "            nn.Linear(512, 256),\n",
        "            nn.ReLU(inplace=True),\n",
        "            nn.Dropout(0.5),\n",
        "            nn.Linear(256, 1),\n",
        "            nn.Sigmoid()\n",
        "        )\n",
        "\n",
        "    def forward(self, x):\n",
        "        return self.model(x)\n",
        "\n",
        "# Set parameters\n",
        "input_size = 100\n",
        "learning_rate = 0.001\n",
        "epochs = 10\n",
        "\n",
        "# Initialize discriminator, loss function, and optimizer\n",
        "discriminator = Discriminator(input_size)\n",
        "criterion = nn.BCELoss()\n",
        "optimizer = optim.Adam(discriminator.parameters(), lr=learning_rate)\n",
        "\n",
        "# Move the discriminator to GPU if available\n",
        "device = torch.device(\"cuda\" if torch.cuda.is_available() else \"cpu\")\n",
        "discriminator.to(device)\n",
        "\n",
        "# Create a random input tensor for demonstration\n",
        "random_input = torch.randn((32, input_size)).to(device)  # Assuming batch size is 32\n",
        "\n",
        "# Forward pass\n",
        "output = discriminator(random_input)\n",
        "\n",
        "# Compute loss\n",
        "labels = torch.randint(0, 2, (32, 1), dtype=torch.float).to(device)  # Assuming binary classification\n",
        "loss = criterion(output, labels)\n",
        "\n",
        "# Backward pass and optimization\n",
        "optimizer.zero_grad()\n",
        "loss.backward()\n",
        "optimizer.step()\n",
        "\n",
        "# Print the output shape\n",
        "print(\"Output Shape:\", output.shape)\n"
      ],
      "metadata": {
        "colab": {
          "base_uri": "https://localhost:8080/"
        },
        "id": "DM82pPDkpmKB",
        "outputId": "babe6950-8f31-4c39-85d2-087e0cf0a989"
      },
      "execution_count": 12,
      "outputs": [
        {
          "output_type": "stream",
          "name": "stdout",
          "text": [
            "Output Shape: torch.Size([32, 1])\n"
          ]
        }
      ]
    },
    {
      "cell_type": "code",
      "source": [
        "import torch\n",
        "import torch.nn as nn\n",
        "import torch.optim as optim\n",
        "from torch.utils.data import DataLoader\n",
        "import torchvision.transforms as transforms\n",
        "from torchvision.datasets import MNIST\n",
        "\n",
        "# Define the Discriminator\n",
        "class Discriminator(nn.Module):\n",
        "    def __init__(self, input_size):\n",
        "        super(Discriminator, self).__init__()\n",
        "\n",
        "        self.model = nn.Sequential(\n",
        "            nn.Linear(input_size, 512),\n",
        "            nn.ReLU(inplace=True),\n",
        "            nn.Dropout(0.5),\n",
        "            nn.Linear(512, 256),\n",
        "            nn.ReLU(inplace=True),\n",
        "            nn.Dropout(0.5),\n",
        "            nn.Linear(256, 1),\n",
        "            nn.Sigmoid()\n",
        "        )\n",
        "\n",
        "    def forward(self, x):\n",
        "        return self.model(x)\n",
        "\n",
        "# Set parameters\n",
        "input_size = 28 * 28  # MNIST image size\n",
        "learning_rate = 0.001\n",
        "epochs = 10\n",
        "batch_size = 32\n",
        "\n",
        "# Create DataLoader for MNIST\n",
        "mnist_transform = transforms.Compose([\n",
        "    transforms.ToTensor(),\n",
        "    transforms.Normalize((0.5,), (0.5,))\n",
        "])\n",
        "\n",
        "train_dataset_transformed = MNIST(root='path/to/MNIST', train=True, transform=mnist_transform, download=True)\n",
        "train_loader = DataLoader(dataset=train_dataset_transformed, batch_size=batch_size, shuffle=True)\n",
        "\n",
        "# Initialize discriminator, loss function, and optimizer\n",
        "discriminator = Discriminator(input_size)\n",
        "criterion = nn.BCELoss()\n",
        "optimizer = optim.Adam(discriminator.parameters(), lr=learning_rate)\n",
        "\n",
        "# Move the discriminator to GPU if available\n",
        "device = torch.device(\"cuda\" if torch.cuda.is_available() else \"cpu\")\n",
        "discriminator.to(device)\n",
        "\n",
        "# Training loop\n",
        "for epoch in range(epochs):\n",
        "    for batch_idx, (real_samples, _) in enumerate(train_loader):\n",
        "        # Send real samples to the GPU\n",
        "        real_samples = real_samples.view(-1, input_size).to(device)\n",
        "\n",
        "        # Create labels for real samples (torch.ones)\n",
        "        real_labels = torch.ones((batch_size, 1), device=device)\n",
        "\n",
        "        # Generate random samples in latent space\n",
        "        latent_samples = torch.randn((batch_size, input_size), device=device)\n",
        "\n",
        "        # Create labels for generated samples (torch.zeros)\n",
        "        generated_labels = torch.zeros((batch_size, 1), device=device)\n",
        "\n",
        "        # Concatenate real and generated samples\n",
        "        all_samples = torch.cat([real_samples, latent_samples], dim=0)\n",
        "        all_labels = torch.cat([real_labels, generated_labels], dim=0)\n",
        "\n",
        "        # Training the discriminator\n",
        "        optimizer.zero_grad()\n",
        "        discriminator_output = discriminator(all_samples)\n",
        "        loss = criterion(discriminator_output, all_labels)\n",
        "        loss.backward()\n",
        "        optimizer.step()\n",
        "\n",
        "        # Print training information\n",
        "        if batch_idx % 100 == 0:\n",
        "            print(f\"Epoch [{epoch}/{epochs}], Batch [{batch_idx}/{len(train_loader)}], Loss: {loss.item():.4f}\")\n",
        "\n",
        "# Training complete\n",
        "print(\"Training completed.\")\n"
      ],
      "metadata": {
        "colab": {
          "base_uri": "https://localhost:8080/"
        },
        "id": "aIjrdcVZpmNb",
        "outputId": "0935345f-eec0-4b94-d323-eaf8d2dfb6bd"
      },
      "execution_count": 13,
      "outputs": [
        {
          "output_type": "stream",
          "name": "stdout",
          "text": [
            "Epoch [0/10], Batch [0/1875], Loss: 0.7250\n",
            "Epoch [0/10], Batch [100/1875], Loss: 0.0001\n",
            "Epoch [0/10], Batch [200/1875], Loss: 0.0001\n",
            "Epoch [0/10], Batch [300/1875], Loss: 0.0000\n",
            "Epoch [0/10], Batch [400/1875], Loss: 0.0001\n",
            "Epoch [0/10], Batch [500/1875], Loss: 0.0000\n",
            "Epoch [0/10], Batch [600/1875], Loss: 0.0000\n",
            "Epoch [0/10], Batch [700/1875], Loss: 0.0000\n",
            "Epoch [0/10], Batch [800/1875], Loss: 0.0000\n",
            "Epoch [0/10], Batch [900/1875], Loss: 0.0000\n",
            "Epoch [0/10], Batch [1000/1875], Loss: 0.0000\n",
            "Epoch [0/10], Batch [1100/1875], Loss: 0.0000\n",
            "Epoch [0/10], Batch [1200/1875], Loss: 0.0000\n",
            "Epoch [0/10], Batch [1300/1875], Loss: 0.0000\n",
            "Epoch [0/10], Batch [1400/1875], Loss: 0.0000\n",
            "Epoch [0/10], Batch [1500/1875], Loss: 0.0000\n",
            "Epoch [0/10], Batch [1600/1875], Loss: 0.0000\n",
            "Epoch [0/10], Batch [1700/1875], Loss: 0.0000\n",
            "Epoch [0/10], Batch [1800/1875], Loss: 0.0000\n",
            "Epoch [1/10], Batch [0/1875], Loss: 0.0000\n",
            "Epoch [1/10], Batch [100/1875], Loss: 0.0000\n",
            "Epoch [1/10], Batch [200/1875], Loss: 0.0000\n",
            "Epoch [1/10], Batch [300/1875], Loss: 0.0000\n",
            "Epoch [1/10], Batch [400/1875], Loss: 0.0000\n",
            "Epoch [1/10], Batch [500/1875], Loss: 0.0000\n",
            "Epoch [1/10], Batch [600/1875], Loss: 0.0000\n",
            "Epoch [1/10], Batch [700/1875], Loss: 0.0000\n",
            "Epoch [1/10], Batch [800/1875], Loss: 0.0000\n",
            "Epoch [1/10], Batch [900/1875], Loss: 0.0000\n",
            "Epoch [1/10], Batch [1000/1875], Loss: 0.0000\n",
            "Epoch [1/10], Batch [1100/1875], Loss: 0.0000\n",
            "Epoch [1/10], Batch [1200/1875], Loss: 0.0000\n",
            "Epoch [1/10], Batch [1300/1875], Loss: 0.0000\n",
            "Epoch [1/10], Batch [1400/1875], Loss: 0.0000\n",
            "Epoch [1/10], Batch [1500/1875], Loss: 0.0000\n",
            "Epoch [1/10], Batch [1600/1875], Loss: 0.0000\n",
            "Epoch [1/10], Batch [1700/1875], Loss: 0.0000\n",
            "Epoch [1/10], Batch [1800/1875], Loss: 0.0000\n",
            "Epoch [2/10], Batch [0/1875], Loss: 0.0000\n",
            "Epoch [2/10], Batch [100/1875], Loss: 0.0000\n",
            "Epoch [2/10], Batch [200/1875], Loss: 0.0000\n",
            "Epoch [2/10], Batch [300/1875], Loss: 0.0000\n",
            "Epoch [2/10], Batch [400/1875], Loss: 0.0000\n",
            "Epoch [2/10], Batch [500/1875], Loss: 0.0000\n",
            "Epoch [2/10], Batch [600/1875], Loss: 0.0000\n",
            "Epoch [2/10], Batch [700/1875], Loss: 0.0000\n",
            "Epoch [2/10], Batch [800/1875], Loss: 0.0000\n",
            "Epoch [2/10], Batch [900/1875], Loss: 0.0000\n",
            "Epoch [2/10], Batch [1000/1875], Loss: 0.0000\n",
            "Epoch [2/10], Batch [1100/1875], Loss: 0.0000\n",
            "Epoch [2/10], Batch [1200/1875], Loss: 0.0000\n",
            "Epoch [2/10], Batch [1300/1875], Loss: 0.0000\n",
            "Epoch [2/10], Batch [1400/1875], Loss: 0.0000\n",
            "Epoch [2/10], Batch [1500/1875], Loss: 0.0000\n",
            "Epoch [2/10], Batch [1600/1875], Loss: 0.0000\n",
            "Epoch [2/10], Batch [1700/1875], Loss: 0.0000\n",
            "Epoch [2/10], Batch [1800/1875], Loss: 0.0000\n",
            "Epoch [3/10], Batch [0/1875], Loss: 0.0000\n",
            "Epoch [3/10], Batch [100/1875], Loss: 0.0000\n",
            "Epoch [3/10], Batch [200/1875], Loss: 0.0000\n",
            "Epoch [3/10], Batch [300/1875], Loss: 0.0000\n",
            "Epoch [3/10], Batch [400/1875], Loss: 0.0000\n",
            "Epoch [3/10], Batch [500/1875], Loss: 0.0000\n",
            "Epoch [3/10], Batch [600/1875], Loss: 0.0000\n",
            "Epoch [3/10], Batch [700/1875], Loss: 0.0000\n",
            "Epoch [3/10], Batch [800/1875], Loss: 0.0000\n",
            "Epoch [3/10], Batch [900/1875], Loss: 0.0000\n",
            "Epoch [3/10], Batch [1000/1875], Loss: 0.0000\n",
            "Epoch [3/10], Batch [1100/1875], Loss: 0.0000\n",
            "Epoch [3/10], Batch [1200/1875], Loss: 0.0000\n",
            "Epoch [3/10], Batch [1300/1875], Loss: 0.0000\n",
            "Epoch [3/10], Batch [1400/1875], Loss: 0.0000\n",
            "Epoch [3/10], Batch [1500/1875], Loss: 0.0000\n",
            "Epoch [3/10], Batch [1600/1875], Loss: 0.0000\n",
            "Epoch [3/10], Batch [1700/1875], Loss: 0.0000\n",
            "Epoch [3/10], Batch [1800/1875], Loss: 0.0000\n",
            "Epoch [4/10], Batch [0/1875], Loss: 0.0000\n",
            "Epoch [4/10], Batch [100/1875], Loss: 0.0000\n",
            "Epoch [4/10], Batch [200/1875], Loss: 0.0000\n",
            "Epoch [4/10], Batch [300/1875], Loss: 0.0000\n",
            "Epoch [4/10], Batch [400/1875], Loss: 0.0000\n",
            "Epoch [4/10], Batch [500/1875], Loss: 0.0000\n",
            "Epoch [4/10], Batch [600/1875], Loss: 0.0000\n",
            "Epoch [4/10], Batch [700/1875], Loss: 0.0000\n",
            "Epoch [4/10], Batch [800/1875], Loss: 0.0000\n",
            "Epoch [4/10], Batch [900/1875], Loss: 0.0000\n",
            "Epoch [4/10], Batch [1000/1875], Loss: 0.0000\n",
            "Epoch [4/10], Batch [1100/1875], Loss: 0.0000\n",
            "Epoch [4/10], Batch [1200/1875], Loss: 0.0000\n",
            "Epoch [4/10], Batch [1300/1875], Loss: 0.0000\n",
            "Epoch [4/10], Batch [1400/1875], Loss: 0.0000\n",
            "Epoch [4/10], Batch [1500/1875], Loss: 0.0000\n",
            "Epoch [4/10], Batch [1600/1875], Loss: 0.0000\n",
            "Epoch [4/10], Batch [1700/1875], Loss: 0.0000\n",
            "Epoch [4/10], Batch [1800/1875], Loss: 0.0000\n",
            "Epoch [5/10], Batch [0/1875], Loss: 0.0000\n",
            "Epoch [5/10], Batch [100/1875], Loss: 0.0000\n",
            "Epoch [5/10], Batch [200/1875], Loss: 0.0000\n",
            "Epoch [5/10], Batch [300/1875], Loss: 0.0000\n",
            "Epoch [5/10], Batch [400/1875], Loss: 0.0000\n",
            "Epoch [5/10], Batch [500/1875], Loss: 0.0000\n",
            "Epoch [5/10], Batch [600/1875], Loss: 0.0000\n",
            "Epoch [5/10], Batch [700/1875], Loss: 0.0000\n",
            "Epoch [5/10], Batch [800/1875], Loss: 0.0000\n",
            "Epoch [5/10], Batch [900/1875], Loss: 0.0000\n",
            "Epoch [5/10], Batch [1000/1875], Loss: 0.0000\n",
            "Epoch [5/10], Batch [1100/1875], Loss: 0.0000\n",
            "Epoch [5/10], Batch [1200/1875], Loss: 0.0000\n",
            "Epoch [5/10], Batch [1300/1875], Loss: 0.0000\n",
            "Epoch [5/10], Batch [1400/1875], Loss: 0.0000\n",
            "Epoch [5/10], Batch [1500/1875], Loss: 0.0000\n",
            "Epoch [5/10], Batch [1600/1875], Loss: 0.0000\n",
            "Epoch [5/10], Batch [1700/1875], Loss: 0.0000\n",
            "Epoch [5/10], Batch [1800/1875], Loss: 0.0000\n",
            "Epoch [6/10], Batch [0/1875], Loss: 0.0000\n",
            "Epoch [6/10], Batch [100/1875], Loss: 0.0000\n",
            "Epoch [6/10], Batch [200/1875], Loss: 0.0000\n",
            "Epoch [6/10], Batch [300/1875], Loss: 0.0000\n",
            "Epoch [6/10], Batch [400/1875], Loss: 0.0000\n",
            "Epoch [6/10], Batch [500/1875], Loss: 0.0000\n",
            "Epoch [6/10], Batch [600/1875], Loss: 0.0000\n",
            "Epoch [6/10], Batch [700/1875], Loss: 0.0000\n",
            "Epoch [6/10], Batch [800/1875], Loss: 0.0000\n",
            "Epoch [6/10], Batch [900/1875], Loss: 0.0000\n",
            "Epoch [6/10], Batch [1000/1875], Loss: 0.0000\n",
            "Epoch [6/10], Batch [1100/1875], Loss: 0.0000\n",
            "Epoch [6/10], Batch [1200/1875], Loss: 0.0000\n",
            "Epoch [6/10], Batch [1300/1875], Loss: 0.0000\n",
            "Epoch [6/10], Batch [1400/1875], Loss: 0.0000\n",
            "Epoch [6/10], Batch [1500/1875], Loss: 0.0000\n",
            "Epoch [6/10], Batch [1600/1875], Loss: 0.0000\n",
            "Epoch [6/10], Batch [1700/1875], Loss: 0.0000\n",
            "Epoch [6/10], Batch [1800/1875], Loss: 0.0000\n",
            "Epoch [7/10], Batch [0/1875], Loss: 0.0000\n",
            "Epoch [7/10], Batch [100/1875], Loss: 0.0000\n",
            "Epoch [7/10], Batch [200/1875], Loss: 0.0000\n",
            "Epoch [7/10], Batch [300/1875], Loss: 0.0000\n",
            "Epoch [7/10], Batch [400/1875], Loss: 0.0000\n",
            "Epoch [7/10], Batch [500/1875], Loss: 0.0000\n",
            "Epoch [7/10], Batch [600/1875], Loss: 0.0000\n",
            "Epoch [7/10], Batch [700/1875], Loss: 0.0000\n",
            "Epoch [7/10], Batch [800/1875], Loss: 0.0000\n",
            "Epoch [7/10], Batch [900/1875], Loss: 0.0000\n",
            "Epoch [7/10], Batch [1000/1875], Loss: 0.0000\n",
            "Epoch [7/10], Batch [1100/1875], Loss: 0.0000\n",
            "Epoch [7/10], Batch [1200/1875], Loss: 0.0000\n",
            "Epoch [7/10], Batch [1300/1875], Loss: 0.0000\n",
            "Epoch [7/10], Batch [1400/1875], Loss: 0.0000\n",
            "Epoch [7/10], Batch [1500/1875], Loss: 0.0000\n",
            "Epoch [7/10], Batch [1600/1875], Loss: 0.0000\n",
            "Epoch [7/10], Batch [1700/1875], Loss: 0.0000\n",
            "Epoch [7/10], Batch [1800/1875], Loss: 0.0000\n",
            "Epoch [8/10], Batch [0/1875], Loss: 0.0000\n",
            "Epoch [8/10], Batch [100/1875], Loss: 0.0000\n",
            "Epoch [8/10], Batch [200/1875], Loss: 0.0000\n",
            "Epoch [8/10], Batch [300/1875], Loss: 0.0000\n",
            "Epoch [8/10], Batch [400/1875], Loss: 0.0000\n",
            "Epoch [8/10], Batch [500/1875], Loss: 0.0000\n",
            "Epoch [8/10], Batch [600/1875], Loss: 0.0000\n",
            "Epoch [8/10], Batch [700/1875], Loss: 0.0000\n",
            "Epoch [8/10], Batch [800/1875], Loss: 0.0000\n",
            "Epoch [8/10], Batch [900/1875], Loss: 0.0000\n",
            "Epoch [8/10], Batch [1000/1875], Loss: 0.0000\n",
            "Epoch [8/10], Batch [1100/1875], Loss: 0.0000\n",
            "Epoch [8/10], Batch [1200/1875], Loss: 0.0000\n",
            "Epoch [8/10], Batch [1300/1875], Loss: 0.0000\n",
            "Epoch [8/10], Batch [1400/1875], Loss: 0.0000\n",
            "Epoch [8/10], Batch [1500/1875], Loss: 0.0000\n",
            "Epoch [8/10], Batch [1600/1875], Loss: 0.0000\n",
            "Epoch [8/10], Batch [1700/1875], Loss: 0.0000\n",
            "Epoch [8/10], Batch [1800/1875], Loss: 0.0000\n",
            "Epoch [9/10], Batch [0/1875], Loss: 0.0000\n",
            "Epoch [9/10], Batch [100/1875], Loss: 0.0000\n",
            "Epoch [9/10], Batch [200/1875], Loss: 0.0000\n",
            "Epoch [9/10], Batch [300/1875], Loss: 0.0000\n",
            "Epoch [9/10], Batch [400/1875], Loss: 0.0000\n",
            "Epoch [9/10], Batch [500/1875], Loss: 0.0000\n",
            "Epoch [9/10], Batch [600/1875], Loss: 0.0000\n",
            "Epoch [9/10], Batch [700/1875], Loss: 0.0000\n",
            "Epoch [9/10], Batch [800/1875], Loss: 0.0000\n",
            "Epoch [9/10], Batch [900/1875], Loss: 0.0000\n",
            "Epoch [9/10], Batch [1000/1875], Loss: 0.0000\n",
            "Epoch [9/10], Batch [1100/1875], Loss: 0.0000\n",
            "Epoch [9/10], Batch [1200/1875], Loss: 0.0000\n",
            "Epoch [9/10], Batch [1300/1875], Loss: 0.0000\n",
            "Epoch [9/10], Batch [1400/1875], Loss: 0.0000\n",
            "Epoch [9/10], Batch [1500/1875], Loss: 0.0000\n",
            "Epoch [9/10], Batch [1600/1875], Loss: 0.0000\n",
            "Epoch [9/10], Batch [1700/1875], Loss: 0.0000\n",
            "Epoch [9/10], Batch [1800/1875], Loss: 0.0000\n",
            "Training completed.\n"
          ]
        }
      ]
    }
  ]
}