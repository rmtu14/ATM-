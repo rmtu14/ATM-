{
  "nbformat": 4,
  "nbformat_minor": 0,
  "metadata": {
    "colab": {
      "provenance": [],
      "authorship_tag": "ABX9TyNI1SDigeiezAsSnACGHfaP",
      "include_colab_link": true
    },
    "kernelspec": {
      "name": "python3",
      "display_name": "Python 3"
    },
    "language_info": {
      "name": "python"
    }
  },
  "cells": [
    {
      "cell_type": "markdown",
      "metadata": {
        "id": "view-in-github",
        "colab_type": "text"
      },
      "source": [
        "<a href=\"https://colab.research.google.com/github/rmtu14/ATM-/blob/main/Chatbot.ipynb\" target=\"_parent\"><img src=\"https://colab.research.google.com/assets/colab-badge.svg\" alt=\"Open In Colab\"/></a>"
      ]
    },
    {
      "cell_type": "code",
      "execution_count": 23,
      "metadata": {
        "colab": {
          "base_uri": "https://localhost:8080/"
        },
        "id": "Hh4bh2GFBkZ5",
        "outputId": "a9b1f6f5-ca80-4409-85b4-e97ed88c8524"
      },
      "outputs": [
        {
          "output_type": "stream",
          "name": "stderr",
          "text": [
            "[nltk_data] Downloading package punkt to /root/nltk_data...\n",
            "[nltk_data]   Package punkt is already up-to-date!\n",
            "[nltk_data] Downloading package wordnet to /root/nltk_data...\n",
            "[nltk_data]   Package wordnet is already up-to-date!\n"
          ]
        },
        {
          "output_type": "stream",
          "name": "stdout",
          "text": [
            "Original Sentence Tokens: ['hello, breifing about airbus a320\\na320 is new model for airbus \\n\\nwhat is a350?', 'a350 is a specialized plane\\n\\nwhat is specialized in it?', 'it has cabins and crew members\\n\\ntell me about asgard?', 'asgard is wonderful team of sywise!']\n",
            "Original Word Tokens: ['hello', ',', 'breifing', 'about']\n",
            "Hello, I will answer your queries.\n",
            "You: hey\n",
            "Chatbot: hey\n",
            "You: airbus\n",
            "Chatbot: hello, breifing about airbus a320\n",
            "a320 is new model for airbus \n",
            "\n",
            "what is a350?\n",
            "You: asgard\n",
            "Chatbot: asgard is wonderful team of sywise!\n",
            "You: a350\n",
            "Chatbot: a350 is a specialized plane\n",
            "\n",
            "what is specialized in it?\n",
            "You: asgard\n",
            "Chatbot: asgard is wonderful team of sywise!\n",
            "You: team skywise\n",
            "Chatbot: asgard is wonderful team of sywise!\n",
            "You: bye\n",
            "Chatbot: Bye.\n"
          ]
        }
      ],
      "source": [
        "import nltk\n",
        "nltk.download('punkt')\n",
        "nltk.download('wordnet')\n",
        "\n",
        "# Rest of your code\n",
        "import random\n",
        "import string\n",
        "import warnings\n",
        "\n",
        "warnings.filterwarnings('ignore')\n",
        "\n",
        "# Open a file (replace with your file path)\n",
        "file_path = \"/content/brief.txt\"\n",
        "with open(file_path, 'r', errors='ignore') as f:\n",
        "    raw = f.read()\n",
        "\n",
        "# Preprocessing\n",
        "raw = raw.lower()\n",
        "sent_tokens = nltk.sent_tokenize(raw)\n",
        "word_tokens = nltk.word_tokenize(raw)\n",
        "sentToken = sent_tokens[:4]\n",
        "wordToken = word_tokens[:4]\n",
        "lemmatizer = nltk.stem.wordnet.WordNetLemmatizer()  # Corrected the variable name\n",
        "\n",
        "\n",
        "\n",
        "# Print results\n",
        "print(\"Original Sentence Tokens:\", sent_tokens[:4])\n",
        "print(\"Original Word Tokens:\", word_tokens[:4])\n",
        "\n",
        "def Lemmtokens(tokens):\n",
        "    return [lemmatizer.lemmatize(token) for token in tokens]\n",
        "\n",
        "remove_punct_dict = dict((ord(punct),None) for punct in string.punctuation)\n",
        "\n",
        "def lemNormalize(text):\n",
        "    return Lemmtokens(nltk.word_tokenize(text.lower().translate(remove_punct_dict)))\n",
        "\n",
        "Greetngs_Input = (\"hello\",\"hi\",\"greetings\",\"hey\")\n",
        "Greetings_Response = [\"hi\",\"hey\",\"hi there\", \"hey\"\n",
        "]\n",
        "\n",
        "def greeting(sentence):\n",
        "    for word in sentence.split():\n",
        "        if word.lower() in Greetngs_Input:  # Corrected the usage of lower() method\n",
        "            return random.choice(Greetings_Response)\n",
        "\n",
        "\n",
        "from sklearn.feature_extraction.text import TfidfVectorizer\n",
        "from sklearn.metrics.pairwise import cosine_similarity\n",
        "\n",
        "# ... rest of your code ...\n",
        "def response(user_response):\n",
        "    chatbot_repsonse = ''\n",
        "    sent_tokens.append(user_response)\n",
        "    TfidfVec = TfidfVectorizer(tokenizer=lemNormalize, stop_words='english')\n",
        "    tfidf = TfidfVec.fit_transform(sent_tokens)\n",
        "    vals = cosine_similarity(tfidf[-1],tfidf)\n",
        "    idx=vals.argsort()[0][-2]\n",
        "    flat=vals.flatten()\n",
        "    flat.sort()\n",
        "    req_tfidf = flat[-2]\n",
        "    if(req_tfidf == 0):\n",
        "        chatbot_repsonse = chatbot_repsonse +\"I am Sorry I dont understand\"\n",
        "        return chatbot_repsonse\n",
        "    else:\n",
        "        chatbot_repsonse = chatbot_repsonse +sent_tokens[idx]\n",
        "        return chatbot_repsonse\n",
        "\n",
        "# ... (previous code remains unchanged)\n",
        "\n",
        "if __name__ == \"__main__\":\n",
        "    flag = True\n",
        "    print(\"Hello, I will answer your queries.\")\n",
        "    while flag:\n",
        "        user_response = input(\"You: \")\n",
        "        user_response = user_response.lower()\n",
        "\n",
        "        if user_response != \"bye\":\n",
        "            if user_response == 'thanks' or user_response == 'thank you':\n",
        "                flag = False\n",
        "                print(\"Chatbot: You're welcome.\")\n",
        "            else:\n",
        "                greeting_response = greeting(user_response)\n",
        "                if greeting_response:\n",
        "                    print(\"Chatbot:\", greeting_response)\n",
        "                else:\n",
        "                    chatbot_response = response(user_response)\n",
        "                    print(\"Chatbot:\", chatbot_response)\n",
        "                    sent_tokens.remove(user_response)\n",
        "        else:\n",
        "            flag = False\n",
        "            print(\"Chatbot: Bye.\")\n",
        ""
      ]
    }
  ]
}