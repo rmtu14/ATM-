{
  "nbformat": 4,
  "nbformat_minor": 0,
  "metadata": {
    "colab": {
      "provenance": [],
      "authorship_tag": "ABX9TyNxXQ0EQcZ175ceFnaOulv4",
      "include_colab_link": true
    },
    "kernelspec": {
      "name": "python3",
      "display_name": "Python 3"
    },
    "language_info": {
      "name": "python"
    }
  },
  "cells": [
    {
      "cell_type": "markdown",
      "metadata": {
        "id": "view-in-github",
        "colab_type": "text"
      },
      "source": [
        "<a href=\"https://colab.research.google.com/github/rmtu14/ATM-/blob/main/Alexnet.ipynb\" target=\"_parent\"><img src=\"https://colab.research.google.com/assets/colab-badge.svg\" alt=\"Open In Colab\"/></a>"
      ]
    },
    {
      "cell_type": "code",
      "execution_count": 1,
      "metadata": {
        "colab": {
          "base_uri": "https://localhost:8080/"
        },
        "id": "bBL2e-7O97z-",
        "outputId": "589f59f9-7f10-4185-d179-57534d8056ab"
      },
      "outputs": [
        {
          "output_type": "stream",
          "name": "stdout",
          "text": [
            "Model: \"sequential\"\n",
            "_________________________________________________________________\n",
            " Layer (type)                Output Shape              Param #   \n",
            "=================================================================\n",
            " conv2d (Conv2D)             (None, 55, 55, 96)        34944     \n",
            "                                                                 \n",
            " batch_normalization (Batch  (None, 55, 55, 96)        384       \n",
            " Normalization)                                                  \n",
            "                                                                 \n",
            " re_lu (ReLU)                (None, 55, 55, 96)        0         \n",
            "                                                                 \n",
            " max_pooling2d (MaxPooling2  (None, 27, 27, 96)        0         \n",
            " D)                                                              \n",
            "                                                                 \n",
            " conv2d_1 (Conv2D)           (None, 5, 5, 96)          1115232   \n",
            "                                                                 \n",
            " batch_normalization_1 (Bat  (None, 5, 5, 96)          384       \n",
            " chNormalization)                                                \n",
            "                                                                 \n",
            " re_lu_1 (ReLU)              (None, 5, 5, 96)          0         \n",
            "                                                                 \n",
            " max_pooling2d_1 (MaxPoolin  (None, 2, 2, 96)          0         \n",
            " g2D)                                                            \n",
            "                                                                 \n",
            "=================================================================\n",
            "Total params: 1150944 (4.39 MB)\n",
            "Trainable params: 1150560 (4.39 MB)\n",
            "Non-trainable params: 384 (1.50 KB)\n",
            "_________________________________________________________________\n"
          ]
        }
      ],
      "source": [
        "import tensorflow as tf\n",
        "from tensorflow.keras import layers, models\n",
        "\n",
        "# Size of Input\n",
        "input_size = (227, 227, 3)  # Assuming RGB images\n",
        "\n",
        "# Convolutional Neural Network\n",
        "model = models.Sequential()\n",
        "\n",
        "# Input Layer\n",
        "model.add(layers.InputLayer(input_shape=input_size))\n",
        "\n",
        "# Layer 1 - Convolutions\n",
        "# Convolutional Layer 1\n",
        "model.add(layers.Conv2D(96, (11, 11), strides=(4, 4), padding='valid'))\n",
        "model.add(layers.BatchNormalization())\n",
        "model.add(layers.ReLU())\n",
        "model.add(layers.MaxPooling2D(pool_size=(3, 3), strides=(2, 2)))\n",
        "\n",
        "# Convolutional Layer 2\n",
        "model.add(layers.Conv2D(96, (11, 11), strides=(4, 4), padding='valid'))\n",
        "model.add(layers.BatchNormalization())\n",
        "model.add(layers.ReLU())\n",
        "model.add(layers.MaxPooling2D(pool_size=(3, 3), strides=(2, 2)))\n",
        "\n",
        "# You can continue adding more layers as needed for your specific architecture\n",
        "\n",
        "# Display the model summary\n",
        "model.summary()\n"
      ]
    },
    {
      "cell_type": "code",
      "source": [
        "import tensorflow as tf\n",
        "from tensorflow.keras import layers, models\n",
        "\n",
        "# Size of Input\n",
        "input_size = (27, 27, 256)  # Assuming the previous layer has 256 channels\n",
        "\n",
        "# Layer 2 - Convolutions\n",
        "# Convolutional Layer 1\n",
        "model = models.Sequential()\n",
        "model.add(layers.Conv2D(256, (5, 5), strides=(1, 1), padding='valid', input_shape=input_size))\n",
        "model.add(layers.BatchNormalization())\n",
        "model.add(layers.ReLU())\n",
        "model.add(layers.MaxPooling2D(pool_size=(2, 2), strides=(2, 2), padding='valid'))\n",
        "\n",
        "# Convolutional Layer 2\n",
        "model.add(layers.Conv2D(256, (5, 5), strides=(1, 1), padding='valid'))\n",
        "model.add(layers.BatchNormalization())\n",
        "model.add(layers.ReLU())\n",
        "model.add(layers.MaxPooling2D(pool_size=(2, 2), strides=(2, 2), padding='valid'))\n",
        "\n",
        "# Display the model summary\n",
        "model.summary()\n"
      ],
      "metadata": {
        "colab": {
          "base_uri": "https://localhost:8080/"
        },
        "id": "E-k2GdBy-hIL",
        "outputId": "997cc9f5-965a-4ac5-d0c6-b2a97d7f2471"
      },
      "execution_count": 2,
      "outputs": [
        {
          "output_type": "stream",
          "name": "stdout",
          "text": [
            "Model: \"sequential_1\"\n",
            "_________________________________________________________________\n",
            " Layer (type)                Output Shape              Param #   \n",
            "=================================================================\n",
            " conv2d_2 (Conv2D)           (None, 23, 23, 256)       1638656   \n",
            "                                                                 \n",
            " batch_normalization_2 (Bat  (None, 23, 23, 256)       1024      \n",
            " chNormalization)                                                \n",
            "                                                                 \n",
            " re_lu_2 (ReLU)              (None, 23, 23, 256)       0         \n",
            "                                                                 \n",
            " max_pooling2d_2 (MaxPoolin  (None, 11, 11, 256)       0         \n",
            " g2D)                                                            \n",
            "                                                                 \n",
            " conv2d_3 (Conv2D)           (None, 7, 7, 256)         1638656   \n",
            "                                                                 \n",
            " batch_normalization_3 (Bat  (None, 7, 7, 256)         1024      \n",
            " chNormalization)                                                \n",
            "                                                                 \n",
            " re_lu_3 (ReLU)              (None, 7, 7, 256)         0         \n",
            "                                                                 \n",
            " max_pooling2d_3 (MaxPoolin  (None, 3, 3, 256)         0         \n",
            " g2D)                                                            \n",
            "                                                                 \n",
            "=================================================================\n",
            "Total params: 3279360 (12.51 MB)\n",
            "Trainable params: 3278336 (12.51 MB)\n",
            "Non-trainable params: 1024 (4.00 KB)\n",
            "_________________________________________________________________\n"
          ]
        }
      ]
    },
    {
      "cell_type": "code",
      "source": [
        "import tensorflow as tf\n",
        "from tensorflow.keras import layers, models\n",
        "\n",
        "# Assuming you have the previous model\n",
        "previous_model = models.Sequential()\n",
        "# ... (previous layers)\n",
        "\n",
        "# Size of Input\n",
        "input_size = (13, 13, 384)  # Assuming the previous layer has 384 channels\n",
        "\n",
        "# Layer 3 - Convolutions\n",
        "# Concatenate previous last layers\n",
        "model = models.Sequential()\n",
        "\n",
        "# Add the layers of the previous model to the current model\n",
        "for layer in previous_model.layers:\n",
        "    model.add(layer)\n",
        "\n",
        "# Add Convolutional Layer 1\n",
        "model.add(layers.Conv2D(384, (3, 3), strides=(1, 1), padding='same'))\n",
        "model.add(layers.ReLU())\n",
        "\n",
        "# Add Convolutional Layer 2\n",
        "model.add(layers.Conv2D(384, (3, 3), strides=(1, 1), padding='same'))\n",
        "model.add(layers.ReLU())\n",
        "\n",
        "# Display the model summary\n",
        "model.build(input_shape=(None, 13, 13, 384))  # Manually specify the input shape\n",
        "model.summary()\n"
      ],
      "metadata": {
        "colab": {
          "base_uri": "https://localhost:8080/"
        },
        "id": "Ik7XXIq8-hKT",
        "outputId": "5229cb75-f019-4a14-aae6-c4e27200ff20"
      },
      "execution_count": 3,
      "outputs": [
        {
          "output_type": "stream",
          "name": "stdout",
          "text": [
            "Model: \"sequential_3\"\n",
            "_________________________________________________________________\n",
            " Layer (type)                Output Shape              Param #   \n",
            "=================================================================\n",
            " conv2d_4 (Conv2D)           (None, 13, 13, 384)       1327488   \n",
            "                                                                 \n",
            " re_lu_4 (ReLU)              (None, 13, 13, 384)       0         \n",
            "                                                                 \n",
            " conv2d_5 (Conv2D)           (None, 13, 13, 384)       1327488   \n",
            "                                                                 \n",
            " re_lu_5 (ReLU)              (None, 13, 13, 384)       0         \n",
            "                                                                 \n",
            "=================================================================\n",
            "Total params: 2654976 (10.13 MB)\n",
            "Trainable params: 2654976 (10.13 MB)\n",
            "Non-trainable params: 0 (0.00 Byte)\n",
            "_________________________________________________________________\n"
          ]
        }
      ]
    },
    {
      "cell_type": "code",
      "source": [
        "import tensorflow as tf\n",
        "from tensorflow.keras import layers, models\n",
        "\n",
        "# Assuming you have the previous model\n",
        "previous_model = models.Sequential()\n",
        "# ... (previous layers)\n",
        "\n",
        "# Size of Input\n",
        "input_size = (13, 13, 384)  # Assuming the previous layer has 384 channels\n",
        "\n",
        "# Layer 4 - Convolutions\n",
        "# Concatenate previous last layers\n",
        "model = models.Sequential()\n",
        "\n",
        "# Add the layers of the previous model to the current model\n",
        "for layer in previous_model.layers:\n",
        "    model.add(layer)\n",
        "\n",
        "# Add Convolutional Layer 1\n",
        "model.add(layers.Conv2D(384, (3, 3), strides=(1, 1), padding='same'))\n",
        "model.add(layers.ReLU())\n",
        "\n",
        "# Add Convolutional Layer 2\n",
        "model.add(layers.Conv2D(384, (3, 3), strides=(1, 1), padding='same'))\n",
        "model.add(layers.ReLU())\n",
        "\n",
        "# Display the model summary\n",
        "model.build(input_shape=(None, 13, 13, 384))  # Manually specify the input shape\n",
        "model.summary()\n"
      ],
      "metadata": {
        "colab": {
          "base_uri": "https://localhost:8080/"
        },
        "id": "rJbQ5iYx-hMu",
        "outputId": "8b9b8fcf-7ea5-47aa-da1a-db8a4444cd8e"
      },
      "execution_count": 4,
      "outputs": [
        {
          "output_type": "stream",
          "name": "stdout",
          "text": [
            "Model: \"sequential_5\"\n",
            "_________________________________________________________________\n",
            " Layer (type)                Output Shape              Param #   \n",
            "=================================================================\n",
            " conv2d_6 (Conv2D)           (None, 13, 13, 384)       1327488   \n",
            "                                                                 \n",
            " re_lu_6 (ReLU)              (None, 13, 13, 384)       0         \n",
            "                                                                 \n",
            " conv2d_7 (Conv2D)           (None, 13, 13, 384)       1327488   \n",
            "                                                                 \n",
            " re_lu_7 (ReLU)              (None, 13, 13, 384)       0         \n",
            "                                                                 \n",
            "=================================================================\n",
            "Total params: 2654976 (10.13 MB)\n",
            "Trainable params: 2654976 (10.13 MB)\n",
            "Non-trainable params: 0 (0.00 Byte)\n",
            "_________________________________________________________________\n"
          ]
        }
      ]
    },
    {
      "cell_type": "code",
      "source": [
        "import tensorflow as tf\n",
        "from tensorflow.keras import layers, models\n",
        "\n",
        "# Assuming you have the previous model\n",
        "previous_model = models.Sequential()\n",
        "# ... (previous layers)\n",
        "\n",
        "# Size of Input\n",
        "input_size = (13, 13, 256)  # Assuming the previous layer has 256 channels\n",
        "\n",
        "# Layer 5 - Convolutions\n",
        "# Concatenate previous last layers\n",
        "model = models.Sequential()\n",
        "\n",
        "# Add the layers of the previous model to the current model\n",
        "for layer in previous_model.layers:\n",
        "    model.add(layer)\n",
        "\n",
        "# Add Convolutional Layer 1\n",
        "model.add(layers.Conv2D(256, (3, 3), strides=(1, 1), padding='same'))\n",
        "model.add(layers.ReLU())\n",
        "\n",
        "# Add MaxPooling2D Layer 1\n",
        "model.add(layers.MaxPooling2D(pool_size=(2, 2), strides=(2, 2)))\n",
        "\n",
        "# Add Convolutional Layer 2\n",
        "model.add(layers.Conv2D(256, (3, 3), strides=(1, 1), padding='same'))\n",
        "model.add(layers.ReLU())\n",
        "\n",
        "# Add MaxPooling2D Layer 2\n",
        "model.add(layers.MaxPooling2D(pool_size=(2, 2), strides=(2, 2)))\n",
        "\n",
        "# Display the model summary\n",
        "model.build(input_shape=(None, 13, 13, 256))  # Manually specify the input shape\n",
        "model.summary()\n"
      ],
      "metadata": {
        "colab": {
          "base_uri": "https://localhost:8080/"
        },
        "id": "Sq-y-Cvj-hPc",
        "outputId": "a8d03957-93d9-4065-d119-52125b8b1da2"
      },
      "execution_count": 5,
      "outputs": [
        {
          "output_type": "stream",
          "name": "stdout",
          "text": [
            "Model: \"sequential_7\"\n",
            "_________________________________________________________________\n",
            " Layer (type)                Output Shape              Param #   \n",
            "=================================================================\n",
            " conv2d_8 (Conv2D)           (None, 13, 13, 256)       590080    \n",
            "                                                                 \n",
            " re_lu_8 (ReLU)              (None, 13, 13, 256)       0         \n",
            "                                                                 \n",
            " max_pooling2d_4 (MaxPoolin  (None, 6, 6, 256)         0         \n",
            " g2D)                                                            \n",
            "                                                                 \n",
            " conv2d_9 (Conv2D)           (None, 6, 6, 256)         590080    \n",
            "                                                                 \n",
            " re_lu_9 (ReLU)              (None, 6, 6, 256)         0         \n",
            "                                                                 \n",
            " max_pooling2d_5 (MaxPoolin  (None, 3, 3, 256)         0         \n",
            " g2D)                                                            \n",
            "                                                                 \n",
            "=================================================================\n",
            "Total params: 1180160 (4.50 MB)\n",
            "Trainable params: 1180160 (4.50 MB)\n",
            "Non-trainable params: 0 (0.00 Byte)\n",
            "_________________________________________________________________\n"
          ]
        }
      ]
    },
    {
      "cell_type": "code",
      "source": [
        "import tensorflow as tf\n",
        "from tensorflow.keras import layers, models\n",
        "\n",
        "# Assuming you have the previous model\n",
        "previous_model = models.Sequential()\n",
        "# ... (previous layers)\n",
        "\n",
        "# Size of Input\n",
        "num_channels = 64  # Replace 64 with the actual number of channels in your input\n",
        "input_size = (13, 13, num_channels)\n",
        "\n",
        "# Layer 6 - Dense\n",
        "# Concatenate previous last layers\n",
        "model = models.Sequential()\n",
        "\n",
        "# Add the layers of the previous model to the current model\n",
        "for layer in previous_model.layers:\n",
        "    model.add(layer)\n",
        "\n",
        "# Add Flatten layer\n",
        "model.add(layers.Flatten())\n",
        "\n",
        "# Add Dense layer\n",
        "model.add(layers.Dense(units=512))  # You can adjust the number of units as needed\n",
        "model.add(layers.ReLU())\n",
        "\n",
        "# Add Dropout layer\n",
        "model.add(layers.Dropout(0.5))  # You can adjust the dropout rate as needed\n",
        "\n",
        "# Display the model summary\n",
        "model.build(input_shape=(None, 13, 13, num_channels))  # Manually specify the input shape\n",
        "model.summary()\n"
      ],
      "metadata": {
        "colab": {
          "base_uri": "https://localhost:8080/"
        },
        "id": "b4AjI2fG-hS5",
        "outputId": "e8d62368-e18b-4540-d10c-b9fd20b8d2f0"
      },
      "execution_count": 6,
      "outputs": [
        {
          "output_type": "stream",
          "name": "stdout",
          "text": [
            "Model: \"sequential_9\"\n",
            "_________________________________________________________________\n",
            " Layer (type)                Output Shape              Param #   \n",
            "=================================================================\n",
            " flatten (Flatten)           (None, 10816)             0         \n",
            "                                                                 \n",
            " dense (Dense)               (None, 512)               5538304   \n",
            "                                                                 \n",
            " re_lu_10 (ReLU)             (None, 512)               0         \n",
            "                                                                 \n",
            " dropout (Dropout)           (None, 512)               0         \n",
            "                                                                 \n",
            "=================================================================\n",
            "Total params: 5538304 (21.13 MB)\n",
            "Trainable params: 5538304 (21.13 MB)\n",
            "Non-trainable params: 0 (0.00 Byte)\n",
            "_________________________________________________________________\n"
          ]
        }
      ]
    },
    {
      "cell_type": "code",
      "source": [
        "import tensorflow as tf\n",
        "from tensorflow.keras import layers, models\n",
        "\n",
        "# Assuming you have the previous model\n",
        "previous_model = models.Sequential()\n",
        "# ... (previous layers)\n",
        "\n",
        "# Size of Input\n",
        "num_channels = 64  # Replace 64 with the actual number of channels in your input\n",
        "input_size = (13, 13, num_channels)\n",
        "\n",
        "# Layer 7 - Dense\n",
        "# Concatenate previous last layers\n",
        "model = models.Sequential()\n",
        "\n",
        "# Add the layers of the previous model to the current model\n",
        "for layer in previous_model.layers:\n",
        "    model.add(layer)\n",
        "\n",
        "# Add Flatten layer\n",
        "model.add(layers.Flatten())\n",
        "\n",
        "# Add Dense layer 1\n",
        "model.add(layers.Dense(units=512))  # You can adjust the number of units as needed\n",
        "model.add(layers.ReLU())\n",
        "model.add(layers.Dropout(0.5))  # You can adjust the dropout rate as needed\n",
        "\n",
        "# Add Dense layer 2\n",
        "model.add(layers.Dense(units=256))  # You can adjust the number of units as needed\n",
        "model.add(layers.ReLU())\n",
        "model.add(layers.Dropout(0.5))  # You can adjust the dropout rate as needed\n",
        "\n",
        "# Display the model summary\n",
        "model.build(input_shape=(None, 13, 13, num_channels))  # Manually specify the input sh\n"
      ],
      "metadata": {
        "id": "pS7yOuE7AlgW"
      },
      "execution_count": 7,
      "outputs": []
    },
    {
      "cell_type": "code",
      "source": [
        "import tensorflow as tf\n",
        "from tensorflow.keras import layers, models\n",
        "\n",
        "# Assuming you have the previous model\n",
        "previous_model = models.Sequential()\n",
        "# ... (previous layers)\n",
        "\n",
        "# Size of Input\n",
        "num_channels = 64  # Replace 64 with the actual number of channels in your input\n",
        "input_size = (13, 13, num_channels)\n",
        "\n",
        "# Number of classes in your classification problem\n",
        "num_classes = 10  # Replace 10 with the actual number of classes\n",
        "\n",
        "# Layer 8 - Dense\n",
        "# Concatenate previous last layers\n",
        "model = models.Sequential()\n",
        "\n",
        "# Add the layers of the previous model to the current model\n",
        "for layer in previous_model.layers:\n",
        "    model.add(layer)\n",
        "\n",
        "# Add Flatten layer\n",
        "model.add(layers.Flatten())\n",
        "\n",
        "# Add Dense layer 1\n",
        "model.add(layers.Dense(units=512, activation='relu'))  # You can adjust the number of units as needed\n",
        "model.add(layers.Dropout(0.5))  # You can adjust the dropout rate as needed\n",
        "\n",
        "# Add Dense layer 2\n",
        "model.add(layers.Dense(units=256, activation='relu'))  # You can adjust the number of units as needed\n",
        "model.add(layers.Dropout(0.5))  # You can adjust the dropout rate as needed\n",
        "\n",
        "# Layer 8 - Dense\n",
        "model.add(layers.Dense(units=num_classes, activation='softmax'))  # Replace num_classes with the actual number of classes\n",
        "\n",
        "# Display the model summary\n",
        "model.build(input_shape=(None, 13, 13, num_channels))  # Manually specify the input shape\n",
        "model.summary()\n"
      ],
      "metadata": {
        "colab": {
          "base_uri": "https://localhost:8080/"
        },
        "id": "8OccQ1KbAlio",
        "outputId": "f2a9a743-5ae7-49e7-d99d-4617a68fd1a6"
      },
      "execution_count": 8,
      "outputs": [
        {
          "output_type": "stream",
          "name": "stdout",
          "text": [
            "Model: \"sequential_13\"\n",
            "_________________________________________________________________\n",
            " Layer (type)                Output Shape              Param #   \n",
            "=================================================================\n",
            " flatten_2 (Flatten)         (None, 10816)             0         \n",
            "                                                                 \n",
            " dense_3 (Dense)             (None, 512)               5538304   \n",
            "                                                                 \n",
            " dropout_3 (Dropout)         (None, 512)               0         \n",
            "                                                                 \n",
            " dense_4 (Dense)             (None, 256)               131328    \n",
            "                                                                 \n",
            " dropout_4 (Dropout)         (None, 256)               0         \n",
            "                                                                 \n",
            " dense_5 (Dense)             (None, 10)                2570      \n",
            "                                                                 \n",
            "=================================================================\n",
            "Total params: 5672202 (21.64 MB)\n",
            "Trainable params: 5672202 (21.64 MB)\n",
            "Non-trainable params: 0 (0.00 Byte)\n",
            "_________________________________________________________________\n"
          ]
        }
      ]
    },
    {
      "cell_type": "code",
      "source": [
        "import tensorflow as tf\n",
        "from tensorflow.keras import models, layers\n",
        "\n",
        "# Assuming you have the layers defined in the previous code snippets\n",
        "\n",
        "# Create a model\n",
        "model = models.Sequential()\n",
        "\n",
        "# Add the layers to the model\n",
        "for layer in previous_model.layers:\n",
        "    model.add(layer)\n",
        "\n",
        "# Add Flatten layer\n",
        "model.add(layers.Flatten())\n",
        "\n",
        "# Add Dense layer 1\n",
        "model.add(layers.Dense(units=512, activation='relu'))  # You can adjust the number of units as needed\n",
        "model.add(layers.Dropout(0.5))  # You can adjust the dropout rate as needed\n",
        "\n",
        "# Add Dense layer 2\n",
        "model.add(layers.Dense(units=256, activation='relu'))  # You can adjust the number of units as needed\n",
        "model.add(layers.Dropout(0.5))  # You can adjust the dropout rate as needed\n",
        "\n",
        "# Add Dense layer 3 (output layer)\n",
        "num_classes = 10  # Replace with the actual number of classes in your classification problem\n",
        "model.add(layers.Dense(units=num_classes, activation='softmax'))\n",
        "\n",
        "# Display the model summary\n",
        "model.build(input_shape=(None, 13, 13, num_channels))  # Manually specify the input shape\n",
        "model.summary()\n"
      ],
      "metadata": {
        "colab": {
          "base_uri": "https://localhost:8080/"
        },
        "id": "g3WbaZaLAllE",
        "outputId": "fcda551f-afb5-40bc-9550-9e374503be34"
      },
      "execution_count": 9,
      "outputs": [
        {
          "output_type": "stream",
          "name": "stdout",
          "text": [
            "Model: \"sequential_14\"\n",
            "_________________________________________________________________\n",
            " Layer (type)                Output Shape              Param #   \n",
            "=================================================================\n",
            " flatten_3 (Flatten)         (None, 10816)             0         \n",
            "                                                                 \n",
            " dense_6 (Dense)             (None, 512)               5538304   \n",
            "                                                                 \n",
            " dropout_5 (Dropout)         (None, 512)               0         \n",
            "                                                                 \n",
            " dense_7 (Dense)             (None, 256)               131328    \n",
            "                                                                 \n",
            " dropout_6 (Dropout)         (None, 256)               0         \n",
            "                                                                 \n",
            " dense_8 (Dense)             (None, 10)                2570      \n",
            "                                                                 \n",
            "=================================================================\n",
            "Total params: 5672202 (21.64 MB)\n",
            "Trainable params: 5672202 (21.64 MB)\n",
            "Non-trainable params: 0 (0.00 Byte)\n",
            "_________________________________________________________________\n"
          ]
        }
      ]
    },
    {
      "cell_type": "code",
      "source": [
        "import tensorflow as tf\n",
        "from tensorflow.keras import models, layers\n",
        "from tensorflow.keras.utils import plot_model\n",
        "\n",
        "# Assuming you have the layers defined in the previous code snippets\n",
        "\n",
        "# Create a model\n",
        "model = models.Sequential()\n",
        "\n",
        "# Add the layers to the model\n",
        "for layer in previous_model.layers:\n",
        "    model.add(layer)\n",
        "\n",
        "# Add Flatten layer\n",
        "model.add(layers.Flatten())\n",
        "\n",
        "# Add Dense layer 1\n",
        "model.add(layers.Dense(units=512, activation='relu'))  # You can adjust the number of units as needed\n",
        "model.add(layers.Dropout(0.5))  # You can adjust the dropout rate as needed\n",
        "\n",
        "# Add Dense layer 2\n",
        "model.add(layers.Dense(units=256, activation='relu'))  # You can adjust the number of units as needed\n",
        "model.add(layers.Dropout(0.5))  # You can adjust the dropout rate as needed\n",
        "\n",
        "# Add Dense layer 3 (output layer)\n",
        "num_classes = 10  # Replace with the actual number of classes in your classification problem\n",
        "model.add(layers.Dense(units=num_classes, activation='softmax'))\n",
        "\n",
        "# Display the model summary\n",
        "model.build(input_shape=(None, 13, 13, num_channels))  # Manually specify the input shape\n",
        "model.summary()\n",
        "\n",
        "# Save the visual representation of the model to a file (e.g., 'model.png')\n",
        "plot_model(model, to_file='model.png', show_shapes=True, show_layer_names=True)\n"
      ],
      "metadata": {
        "colab": {
          "base_uri": "https://localhost:8080/",
          "height": 1000
        },
        "id": "MmrGhK6YAln4",
        "outputId": "8fe5dd27-30ea-49ce-c8ba-97bf5b739551"
      },
      "execution_count": 10,
      "outputs": [
        {
          "output_type": "stream",
          "name": "stdout",
          "text": [
            "Model: \"sequential_15\"\n",
            "_________________________________________________________________\n",
            " Layer (type)                Output Shape              Param #   \n",
            "=================================================================\n",
            " flatten_4 (Flatten)         (None, 10816)             0         \n",
            "                                                                 \n",
            " dense_9 (Dense)             (None, 512)               5538304   \n",
            "                                                                 \n",
            " dropout_7 (Dropout)         (None, 512)               0         \n",
            "                                                                 \n",
            " dense_10 (Dense)            (None, 256)               131328    \n",
            "                                                                 \n",
            " dropout_8 (Dropout)         (None, 256)               0         \n",
            "                                                                 \n",
            " dense_11 (Dense)            (None, 10)                2570      \n",
            "                                                                 \n",
            "=================================================================\n",
            "Total params: 5672202 (21.64 MB)\n",
            "Trainable params: 5672202 (21.64 MB)\n",
            "Non-trainable params: 0 (0.00 Byte)\n",
            "_________________________________________________________________\n"
          ]
        },
        {
          "output_type": "execute_result",
          "data": {
            "image/png": "[encoded data removed]",
            "text/plain": [
              "<IPython.core.display.Image object>"
            ]
          },
          "metadata": {},
          "execution_count": 10
        }
      ]
    },
    {
      "cell_type": "code",
      "source": [
        "import tensorflow as tf\n",
        "from tensorflow import keras\n",
        "import matplotlib.pyplot as plt\n",
        "import os\n",
        "import time\n"
      ],
      "metadata": {
        "id": "9ZskISSfAlqU"
      },
      "execution_count": 11,
      "outputs": []
    },
    {
      "cell_type": "code",
      "source": [
        "import tensorflow as tf\n",
        "from tensorflow.keras.datasets import cifar100\n",
        "\n",
        "# Load CIFAR-100 dataset\n",
        "(x_train, y_train), (x_test, y_test) = cifar100.load_data()\n",
        "\n",
        "# Print the shape of the loaded data\n",
        "print(\"Training data shape:\", x_train.shape)\n",
        "print(\"Training labels shape:\", y_train.shape)\n",
        "print(\"Testing data shape:\", x_test.shape)\n",
        "print(\"Testing labels shape:\", y_test.shape)\n"
      ],
      "metadata": {
        "colab": {
          "base_uri": "https://localhost:8080/"
        },
        "id": "WGF0I_dXAlt4",
        "outputId": "ad77cdf4-7714-4a4f-a9cd-aef54e28967a"
      },
      "execution_count": 12,
      "outputs": [
        {
          "output_type": "stream",
          "name": "stdout",
          "text": [
            "Training data shape: (50000, 32, 32, 3)\n",
            "Training labels shape: (50000, 1)\n",
            "Testing data shape: (10000, 32, 32, 3)\n",
            "Testing labels shape: (10000, 1)\n"
          ]
        }
      ]
    },
    {
      "cell_type": "code",
      "source": [
        "import tensorflow as tf\n",
        "from tensorflow.keras.datasets import cifar100\n",
        "from sklearn.model_selection import train_test_split\n",
        "\n",
        "# Load CIFAR-100 dataset\n",
        "(x_train, y_train), (x_test, y_test) = cifar100.load_data()\n",
        "\n",
        "# Split the data into training and validation sets\n",
        "x_train, x_val, y_train, y_val = train_test_split(x_train, y_train, test_size=0.2, random_state=42)\n",
        "\n",
        "# Print the shapes of the split data\n",
        "print(\"Training data shape:\", x_train.shape)\n",
        "print(\"Training labels shape:\", y_train.shape)\n",
        "print(\"Validation data shape:\", x_val.shape)\n",
        "print(\"Validation labels shape:\", y_val.shape)\n",
        "print(\"Testing data shape:\", x_test.shape)\n",
        "print(\"Testing labels shape:\", y_test.shape)\n"
      ],
      "metadata": {
        "colab": {
          "base_uri": "https://localhost:8080/"
        },
        "id": "lwEdSM0EBib_",
        "outputId": "b3b2747a-9b11-44fd-e3c7-a15326aef34c"
      },
      "execution_count": 13,
      "outputs": [
        {
          "output_type": "stream",
          "name": "stdout",
          "text": [
            "Training data shape: (40000, 32, 32, 3)\n",
            "Training labels shape: (40000, 1)\n",
            "Validation data shape: (10000, 32, 32, 3)\n",
            "Validation labels shape: (10000, 1)\n",
            "Testing data shape: (10000, 32, 32, 3)\n",
            "Testing labels shape: (10000, 1)\n"
          ]
        }
      ]
    },
    {
      "cell_type": "code",
      "source": [
        "import tensorflow as tf\n",
        "from tensorflow.keras.datasets import cifar100\n",
        "from sklearn.model_selection import train_test_split\n",
        "\n",
        "def process_images(x, y):\n",
        "    # Normalize images to have a mean of 0 and standard deviation of 1\n",
        "    x = (x.astype('float32') - 127.5) / 127.5\n",
        "\n",
        "    # Resize images from 32x32 to 277x277\n",
        "    x_resized = tf.image.resize(x, (277, 277))\n",
        "\n",
        "    return x_resized, y\n",
        "\n",
        "# Load CIFAR-100 dataset\n",
        "(x_train, y_train), (x_test, y_test) = cifar100.load_data()\n",
        "\n",
        "# Split the data into training and validation sets\n",
        "x_train, x_val, y_train, y_val = train_test_split(x_train, y_train, test_size=0.2, random_state=42)\n",
        "\n",
        "# Process the images\n",
        "x_train_processed, y_train_processed = process_images(x_train, y_train)\n",
        "x_val_processed, y_val_processed = process_images(x_val, y_val)\n",
        "x_test_processed, y_test_processed = process_images(x_test, y_test)\n",
        "\n",
        "# Get the size of the sets\n",
        "train_size = len(x_train_processed)\n",
        "val_size = len(x_val_processed)\n",
        "test_size = len(x_test_processed)\n",
        "\n",
        "print(\"Size of the training set:\", train_size)\n",
        "print(\"Size of the validation set:\", val_size)\n",
        "print(\"Size of the testing set:\", test_size)\n"
      ],
      "metadata": {
        "id": "mt9MJnYvBieb"
      },
      "execution_count": null,
      "outputs": []
    },
    {
      "cell_type": "code",
      "source": [],
      "metadata": {
        "id": "wnjaIa0ABigs"
      },
      "execution_count": null,
      "outputs": []
    },
    {
      "cell_type": "code",
      "source": [],
      "metadata": {
        "id": "b8qG0rXlBijU"
      },
      "execution_count": null,
      "outputs": []
    },
    {
      "cell_type": "code",
      "source": [],
      "metadata": {
        "id": "wDR80sFHBimz"
      },
      "execution_count": null,
      "outputs": []
    }
  ]
}