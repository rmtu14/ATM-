{
  "nbformat": 4,
  "nbformat_minor": 0,
  "metadata": {
    "colab": {
      "provenance": [],
      "authorship_tag": "ABX9TyNnLM5FinALRUU3WdtZe7c3",
      "include_colab_link": true
    },
    "kernelspec": {
      "name": "python3",
      "display_name": "Python 3"
    },
    "language_info": {
      "name": "python"
    }
  },
  "cells": [
    {
      "cell_type": "markdown",
      "metadata": {
        "id": "view-in-github",
        "colab_type": "text"
      },
      "source": [
        "<a href=\"https://colab.research.google.com/github/rmtu14/ATM-/blob/main/Stock%20Market%20Prediction%20.ipynb\" target=\"_parent\"><img src=\"https://colab.research.google.com/assets/colab-badge.svg\" alt=\"Open In Colab\"/></a>"
      ]
    },
    {
      "cell_type": "code",
      "execution_count": 5,
      "metadata": {
        "id": "OQk-eR2Vzxy5"
      },
      "outputs": [],
      "source": [
        "import pandas as pd\n",
        "df= pd.read_csv(r\"/content/AAPL.csv\")\n"
      ]
    },
    {
      "cell_type": "code",
      "source": [
        "df.head(5)"
      ],
      "metadata": {
        "colab": {
          "base_uri": "https://localhost:8080/",
          "height": 206
        },
        "id": "zzHNCzvX0MnY",
        "outputId": "a7d34470-43f2-4247-b941-5c7bce315e54"
      },
      "execution_count": 6,
      "outputs": [
        {
          "output_type": "execute_result",
          "data": {
            "text/plain": [
              "         Date      Open      High       Low     Close  Adj Close     Volume\n",
              "0  1990-06-25  0.370536  0.372768  0.359375  0.368304   0.294235  122001600\n",
              "1  1990-06-26  0.372768  0.375000  0.360491  0.362723   0.289777  127254400\n",
              "2  1990-06-27  0.363839  0.375000  0.359375  0.370536   0.296018   97227200\n",
              "3  1990-06-28  0.381696  0.386161  0.372768  0.383929   0.306718  249939200\n",
              "4  1990-06-29  0.383929  0.400670  0.381696  0.399554   0.319201  325192000"
            ],
            "text/html": [
              "\n",
              "  <div id=\"df-25130c0c-3200-44f3-888e-47d8137b42c8\" class=\"colab-df-container\">\n",
              "    <div>\n",
              "<style scoped>\n",
              "    .dataframe tbody tr th:only-of-type {\n",
              "        vertical-align: middle;\n",
              "    }\n",
              "\n",
              "    .dataframe tbody tr th {\n",
              "        vertical-align: top;\n",
              "    }\n",
              "\n",
              "    .dataframe thead th {\n",
              "        text-align: right;\n",
              "    }\n",
              "</style>\n",
              "<table border=\"1\" class=\"dataframe\">\n",
              "  <thead>\n",
              "    <tr style=\"text-align: right;\">\n",
              "      <th></th>\n",
              "      <th>Date</th>\n",
              "      <th>Open</th>\n",
              "      <th>High</th>\n",
              "      <th>Low</th>\n",
              "      <th>Close</th>\n",
              "      <th>Adj Close</th>\n",
              "      <th>Volume</th>\n",
              "    </tr>\n",
              "  </thead>\n",
              "  <tbody>\n",
              "    <tr>\n",
              "      <th>0</th>\n",
              "      <td>1990-06-25</td>\n",
              "      <td>0.370536</td>\n",
              "      <td>0.372768</td>\n",
              "      <td>0.359375</td>\n",
              "      <td>0.368304</td>\n",
              "      <td>0.294235</td>\n",
              "      <td>122001600</td>\n",
              "    </tr>\n",
              "    <tr>\n",
              "      <th>1</th>\n",
              "      <td>1990-06-26</td>\n",
              "      <td>0.372768</td>\n",
              "      <td>0.375000</td>\n",
              "      <td>0.360491</td>\n",
              "      <td>0.362723</td>\n",
              "      <td>0.289777</td>\n",
              "      <td>127254400</td>\n",
              "    </tr>\n",
              "    <tr>\n",
              "      <th>2</th>\n",
              "      <td>1990-06-27</td>\n",
              "      <td>0.363839</td>\n",
              "      <td>0.375000</td>\n",
              "      <td>0.359375</td>\n",
              "      <td>0.370536</td>\n",
              "      <td>0.296018</td>\n",
              "      <td>97227200</td>\n",
              "    </tr>\n",
              "    <tr>\n",
              "      <th>3</th>\n",
              "      <td>1990-06-28</td>\n",
              "      <td>0.381696</td>\n",
              "      <td>0.386161</td>\n",
              "      <td>0.372768</td>\n",
              "      <td>0.383929</td>\n",
              "      <td>0.306718</td>\n",
              "      <td>249939200</td>\n",
              "    </tr>\n",
              "    <tr>\n",
              "      <th>4</th>\n",
              "      <td>1990-06-29</td>\n",
              "      <td>0.383929</td>\n",
              "      <td>0.400670</td>\n",
              "      <td>0.381696</td>\n",
              "      <td>0.399554</td>\n",
              "      <td>0.319201</td>\n",
              "      <td>325192000</td>\n",
              "    </tr>\n",
              "  </tbody>\n",
              "</table>\n",
              "</div>\n",
              "    <div class=\"colab-df-buttons\">\n",
              "\n",
              "  <div class=\"colab-df-container\">\n",
              "    <button class=\"colab-df-convert\" onclick=\"convertToInteractive('df-25130c0c-3200-44f3-888e-47d8137b42c8')\"\n",
              "            title=\"Convert this dataframe to an interactive table.\"\n",
              "            style=\"display:none;\">\n",
              "\n",
              "  <svg xmlns=\"http://www.w3.org/2000/svg\" height=\"24px\" viewBox=\"0 -960 960 960\">\n",
              "    <path d=\"M120-120v-720h720v720H120Zm60-500h600v-160H180v160Zm220 220h160v-160H400v160Zm0 220h160v-160H400v160ZM180-400h160v-160H180v160Zm440 0h160v-160H620v160ZM180-180h160v-160H180v160Zm440 0h160v-160H620v160Z\"/>\n",
              "  </svg>\n",
              "    </button>\n",
              "\n",
              "  <style>\n",
              "    .colab-df-container {\n",
              "      display:flex;\n",
              "      gap: 12px;\n",
              "    }\n",
              "\n",
              "    .colab-df-convert {\n",
              "      background-color: #E8F0FE;\n",
              "      border: none;\n",
              "      border-radius: 50%;\n",
              "      cursor: pointer;\n",
              "      display: none;\n",
              "      fill: #1967D2;\n",
              "      height: 32px;\n",
              "      padding: 0 0 0 0;\n",
              "      width: 32px;\n",
              "    }\n",
              "\n",
              "    .colab-df-convert:hover {\n",
              "      background-color: #E2EBFA;\n",
              "      box-shadow: 0px 1px 2px rgba(60, 64, 67, 0.3), 0px 1px 3px 1px rgba(60, 64, 67, 0.15);\n",
              "      fill: #174EA6;\n",
              "    }\n",
              "\n",
              "    .colab-df-buttons div {\n",
              "      margin-bottom: 4px;\n",
              "    }\n",
              "\n",
              "    [theme=dark] .colab-df-convert {\n",
              "      background-color: #3B4455;\n",
              "      fill: #D2E3FC;\n",
              "    }\n",
              "\n",
              "    [theme=dark] .colab-df-convert:hover {\n",
              "      background-color: #434B5C;\n",
              "      box-shadow: 0px 1px 3px 1px rgba(0, 0, 0, 0.15);\n",
              "      filter: drop-shadow(0px 1px 2px rgba(0, 0, 0, 0.3));\n",
              "      fill: #FFFFFF;\n",
              "    }\n",
              "  </style>\n",
              "\n",
              "    <script>\n",
              "      const buttonEl =\n",
              "        document.querySelector('#df-25130c0c-3200-44f3-888e-47d8137b42c8 button.colab-df-convert');\n",
              "      buttonEl.style.display =\n",
              "        google.colab.kernel.accessAllowed ? 'block' : 'none';\n",
              "\n",
              "      async function convertToInteractive(key) {\n",
              "        const element = document.querySelector('#df-25130c0c-3200-44f3-888e-47d8137b42c8');\n",
              "        const dataTable =\n",
              "          await google.colab.kernel.invokeFunction('convertToInteractive',\n",
              "                                                    [key], {});\n",
              "        if (!dataTable) return;\n",
              "\n",
              "        const docLinkHtml = 'Like what you see? Visit the ' +\n",
              "          '<a target=\"_blank\" href=https://colab.research.google.com/notebooks/data_table.ipynb>data table notebook</a>'\n",
              "          + ' to learn more about interactive tables.';\n",
              "        element.innerHTML = '';\n",
              "        dataTable['output_type'] = 'display_data';\n",
              "        await google.colab.output.renderOutput(dataTable, element);\n",
              "        const docLink = document.createElement('div');\n",
              "        docLink.innerHTML = docLinkHtml;\n",
              "        element.appendChild(docLink);\n",
              "      }\n",
              "    </script>\n",
              "  </div>\n",
              "\n",
              "\n",
              "<div id=\"df-ef194e0a-c7a3-407f-927c-096e4beb7e26\">\n",
              "  <button class=\"colab-df-quickchart\" onclick=\"quickchart('df-ef194e0a-c7a3-407f-927c-096e4beb7e26')\"\n",
              "            title=\"Suggest charts\"\n",
              "            style=\"display:none;\">\n",
              "\n",
              "<svg xmlns=\"http://www.w3.org/2000/svg\" height=\"24px\"viewBox=\"0 0 24 24\"\n",
              "     width=\"24px\">\n",
              "    <g>\n",
              "        <path d=\"M19 3H5c-1.1 0-2 .9-2 2v14c0 1.1.9 2 2 2h14c1.1 0 2-.9 2-2V5c0-1.1-.9-2-2-2zM9 17H7v-7h2v7zm4 0h-2V7h2v10zm4 0h-2v-4h2v4z\"/>\n",
              "    </g>\n",
              "</svg>\n",
              "  </button>\n",
              "\n",
              "<style>\n",
              "  .colab-df-quickchart {\n",
              "      --bg-color: #E8F0FE;\n",
              "      --fill-color: #1967D2;\n",
              "      --hover-bg-color: #E2EBFA;\n",
              "      --hover-fill-color: #174EA6;\n",
              "      --disabled-fill-color: #AAA;\n",
              "      --disabled-bg-color: #DDD;\n",
              "  }\n",
              "\n",
              "  [theme=dark] .colab-df-quickchart {\n",
              "      --bg-color: #3B4455;\n",
              "      --fill-color: #D2E3FC;\n",
              "      --hover-bg-color: #434B5C;\n",
              "      --hover-fill-color: #FFFFFF;\n",
              "      --disabled-bg-color: #3B4455;\n",
              "      --disabled-fill-color: #666;\n",
              "  }\n",
              "\n",
              "  .colab-df-quickchart {\n",
              "    background-color: var(--bg-color);\n",
              "    border: none;\n",
              "    border-radius: 50%;\n",
              "    cursor: pointer;\n",
              "    display: none;\n",
              "    fill: var(--fill-color);\n",
              "    height: 32px;\n",
              "    padding: 0;\n",
              "    width: 32px;\n",
              "  }\n",
              "\n",
              "  .colab-df-quickchart:hover {\n",
              "    background-color: var(--hover-bg-color);\n",
              "    box-shadow: 0 1px 2px rgba(60, 64, 67, 0.3), 0 1px 3px 1px rgba(60, 64, 67, 0.15);\n",
              "    fill: var(--button-hover-fill-color);\n",
              "  }\n",
              "\n",
              "  .colab-df-quickchart-complete:disabled,\n",
              "  .colab-df-quickchart-complete:disabled:hover {\n",
              "    background-color: var(--disabled-bg-color);\n",
              "    fill: var(--disabled-fill-color);\n",
              "    box-shadow: none;\n",
              "  }\n",
              "\n",
              "  .colab-df-spinner {\n",
              "    border: 2px solid var(--fill-color);\n",
              "    border-color: transparent;\n",
              "    border-bottom-color: var(--fill-color);\n",
              "    animation:\n",
              "      spin 1s steps(1) infinite;\n",
              "  }\n",
              "\n",
              "  @keyframes spin {\n",
              "    0% {\n",
              "      border-color: transparent;\n",
              "      border-bottom-color: var(--fill-color);\n",
              "      border-left-color: var(--fill-color);\n",
              "    }\n",
              "    20% {\n",
              "      border-color: transparent;\n",
              "      border-left-color: var(--fill-color);\n",
              "      border-top-color: var(--fill-color);\n",
              "    }\n",
              "    30% {\n",
              "      border-color: transparent;\n",
              "      border-left-color: var(--fill-color);\n",
              "      border-top-color: var(--fill-color);\n",
              "      border-right-color: var(--fill-color);\n",
              "    }\n",
              "    40% {\n",
              "      border-color: transparent;\n",
              "      border-right-color: var(--fill-color);\n",
              "      border-top-color: var(--fill-color);\n",
              "    }\n",
              "    60% {\n",
              "      border-color: transparent;\n",
              "      border-right-color: var(--fill-color);\n",
              "    }\n",
              "    80% {\n",
              "      border-color: transparent;\n",
              "      border-right-color: var(--fill-color);\n",
              "      border-bottom-color: var(--fill-color);\n",
              "    }\n",
              "    90% {\n",
              "      border-color: transparent;\n",
              "      border-bottom-color: var(--fill-color);\n",
              "    }\n",
              "  }\n",
              "</style>\n",
              "\n",
              "  <script>\n",
              "    async function quickchart(key) {\n",
              "      const quickchartButtonEl =\n",
              "        document.querySelector('#' + key + ' button');\n",
              "      quickchartButtonEl.disabled = true;  // To prevent multiple clicks.\n",
              "      quickchartButtonEl.classList.add('colab-df-spinner');\n",
              "      try {\n",
              "        const charts = await google.colab.kernel.invokeFunction(\n",
              "            'suggestCharts', [key], {});\n",
              "      } catch (error) {\n",
              "        console.error('Error during call to suggestCharts:', error);\n",
              "      }\n",
              "      quickchartButtonEl.classList.remove('colab-df-spinner');\n",
              "      quickchartButtonEl.classList.add('colab-df-quickchart-complete');\n",
              "    }\n",
              "    (() => {\n",
              "      let quickchartButtonEl =\n",
              "        document.querySelector('#df-ef194e0a-c7a3-407f-927c-096e4beb7e26 button');\n",
              "      quickchartButtonEl.style.display =\n",
              "        google.colab.kernel.accessAllowed ? 'block' : 'none';\n",
              "    })();\n",
              "  </script>\n",
              "</div>\n",
              "\n",
              "    </div>\n",
              "  </div>\n"
            ]
          },
          "metadata": {},
          "execution_count": 6
        }
      ]
    },
    {
      "cell_type": "code",
      "source": [
        "df1=df.reset_index()['Close']"
      ],
      "metadata": {
        "id": "XjLCiT0t0MrK"
      },
      "execution_count": 7,
      "outputs": []
    },
    {
      "cell_type": "code",
      "source": [
        "df1.shape"
      ],
      "metadata": {
        "colab": {
          "base_uri": "https://localhost:8080/"
        },
        "id": "oJh1XtwL0MtI",
        "outputId": "e5123db4-f7b0-4959-dbdc-681fac76b459"
      },
      "execution_count": 8,
      "outputs": [
        {
          "output_type": "execute_result",
          "data": {
            "text/plain": [
              "(8313,)"
            ]
          },
          "metadata": {},
          "execution_count": 8
        }
      ]
    },
    {
      "cell_type": "code",
      "source": [
        "import matplotlib.pyplot as plt\n",
        "plt.plot(df1)"
      ],
      "metadata": {
        "colab": {
          "base_uri": "https://localhost:8080/",
          "height": 447
        },
        "id": "W6_RlWzS0MvY",
        "outputId": "5fc15c17-2c27-4d16-a5a1-17e413d7708e"
      },
      "execution_count": 9,
      "outputs": [
        {
          "output_type": "execute_result",
          "data": {
            "text/plain": [
              "[<matplotlib.lines.Line2D at 0x7d063a913370>]"
            ]
          },
          "metadata": {},
          "execution_count": 9
        },
        {
          "output_type": "display_data",
          "data": {
            "text/plain": [
              "<Figure size 640x480 with 1 Axes>"
            ],
            "image/png": "[encoded data removed]"
          },
          "metadata": {}
        }
      ]
    },
    {
      "cell_type": "code",
      "source": [
        "df1\n"
      ],
      "metadata": {
        "colab": {
          "base_uri": "https://localhost:8080/"
        },
        "id": "KY4GGoco0Mxo",
        "outputId": "34f10ab9-9691-4b27-f6c5-e6662c628c4c"
      },
      "execution_count": 10,
      "outputs": [
        {
          "output_type": "execute_result",
          "data": {
            "text/plain": [
              "0         0.368304\n",
              "1         0.362723\n",
              "2         0.370536\n",
              "3         0.383929\n",
              "4         0.399554\n",
              "           ...    \n",
              "8308    184.919998\n",
              "8309    185.009995\n",
              "8310    183.960007\n",
              "8311    187.000000\n",
              "8312    186.679993\n",
              "Name: Close, Length: 8313, dtype: float64"
            ]
          },
          "metadata": {},
          "execution_count": 10
        }
      ]
    },
    {
      "cell_type": "code",
      "source": [
        "import numpy as np\n",
        "from sklearn.preprocessing import MinMaxScaler\n",
        "scaler=MinMaxScaler(feature_range=(0,1))\n",
        "df1=scaler.fit_transform(np.array(df1).reshape(-1,1))"
      ],
      "metadata": {
        "id": "_qmaC4TS0Mzv"
      },
      "execution_count": 11,
      "outputs": []
    },
    {
      "cell_type": "code",
      "source": [
        "df1.shape"
      ],
      "metadata": {
        "colab": {
          "base_uri": "https://localhost:8080/"
        },
        "id": "INS3_Kc40M3N",
        "outputId": "74dd8ba4-6b0f-4c0c-ae5f-a4669590959a"
      },
      "execution_count": 12,
      "outputs": [
        {
          "output_type": "execute_result",
          "data": {
            "text/plain": [
              "(8313, 1)"
            ]
          },
          "metadata": {},
          "execution_count": 12
        }
      ]
    },
    {
      "cell_type": "code",
      "source": [
        "training_size=int(len(df1)*0.65)\n",
        "test_size=len(df1)-training_size\n",
        "train_data,test_data=df1[0:training_size,:],df1[training_size:len(df1),:1]\n"
      ],
      "metadata": {
        "id": "t1AM8pF33uuu"
      },
      "execution_count": 13,
      "outputs": []
    },
    {
      "cell_type": "code",
      "source": [
        "import numpy\n",
        "def create_dataset(dataset,time_step=1):\n",
        "  dataX,dataY = [],[]\n",
        "  for i in range(len(dataset)-time_step-1):\n",
        "    a=dataset[i:(i+time_step),0]\n",
        "    dataX.append(a)\n",
        "    dataY.append(dataset[i+time_step,0])\n",
        "  return numpy.array(dataX),numpy.array(dataY)"
      ],
      "metadata": {
        "id": "s1P4J-eF3uxC"
      },
      "execution_count": 15,
      "outputs": []
    },
    {
      "cell_type": "code",
      "source": [
        "time_step = 100\n",
        "X_train, y_train = create_dataset(train_data,time_step)\n",
        "X_test, ytest = create_dataset(test_data, time_step)"
      ],
      "metadata": {
        "id": "FmamuKrA3uyb"
      },
      "execution_count": 19,
      "outputs": []
    },
    {
      "cell_type": "code",
      "source": [
        "print(X_train)"
      ],
      "metadata": {
        "colab": {
          "base_uri": "https://localhost:8080/"
        },
        "id": "oeUHyjp73u1X",
        "outputId": "82f0e202-447b-4724-f0aa-51f08b9a502d"
      },
      "execution_count": 20,
      "outputs": [
        {
          "output_type": "stream",
          "name": "stdout",
          "text": [
            "[[0.00135266 0.0013228  0.0013646  ... 0.00107794 0.00111378 0.00110184]\n",
            " [0.0013228  0.0013646  0.00143627 ... 0.00111378 0.00110184 0.00114961]\n",
            " [0.0013646  0.00143627 0.00151987 ... 0.00110184 0.00114961 0.00110184]\n",
            " ...\n",
            " [0.0649801  0.06615921 0.06660448 ... 0.07150629 0.07103426 0.06990102]\n",
            " [0.06615921 0.06660448 0.06764408 ... 0.07103426 0.06990102 0.07133429]\n",
            " [0.06660448 0.06764408 0.06812375 ... 0.06990102 0.07133429 0.06951499]]\n"
          ]
        }
      ]
    },
    {
      "cell_type": "code",
      "source": [
        "print(X_test.shape), print(ytest.shape)"
      ],
      "metadata": {
        "colab": {
          "base_uri": "https://localhost:8080/"
        },
        "id": "S4lmfW9H3u4J",
        "outputId": "526fb24e-d418-4453-d214-3efa528dd63f"
      },
      "execution_count": 21,
      "outputs": [
        {
          "output_type": "stream",
          "name": "stdout",
          "text": [
            "(2809, 100)\n",
            "(2809,)\n"
          ]
        },
        {
          "output_type": "execute_result",
          "data": {
            "text/plain": [
              "(None, None)"
            ]
          },
          "metadata": {},
          "execution_count": 21
        }
      ]
    },
    {
      "cell_type": "code",
      "source": [
        "X_train = X_train.reshape(X_train.shape[0],X_train.shape[1],1)\n",
        "X_test = X_test.reshape(X_test.shape[0],X_test.shape[1],1)"
      ],
      "metadata": {
        "id": "jOTqxIGS3u7t"
      },
      "execution_count": 23,
      "outputs": []
    },
    {
      "cell_type": "code",
      "source": [
        "from tensorflow.keras.models import Sequential\n",
        "from tensorflow.keras.layers import Dense\n",
        "from tensorflow.keras.layers import LSTM\n"
      ],
      "metadata": {
        "id": "RoSBJZCtW9WS"
      },
      "execution_count": 24,
      "outputs": []
    },
    {
      "cell_type": "code",
      "source": [
        "model = Sequential()\n",
        "model.add(LSTM(50,return_sequences=True,input_shape=(100,1)))\n",
        "model.add(LSTM(50,return_sequences=True))\n",
        "model.add(LSTM(50))\n",
        "model.add(Dense(1))\n",
        "model.compile(loss='mean_squared_error',optimizer='adam')\n",
        "model.summary()\n"
      ],
      "metadata": {
        "colab": {
          "base_uri": "https://localhost:8080/"
        },
        "id": "GhcrJNz6W9Y6",
        "outputId": "0a173323-d2a7-4a49-9d7e-5a714a06b029"
      },
      "execution_count": 25,
      "outputs": [
        {
          "output_type": "stream",
          "name": "stdout",
          "text": [
            "Model: \"sequential\"\n",
            "_________________________________________________________________\n",
            " Layer (type)                Output Shape              Param #   \n",
            "=================================================================\n",
            " lstm (LSTM)                 (None, 100, 50)           10400     \n",
            "                                                                 \n",
            " lstm_1 (LSTM)               (None, 100, 50)           20200     \n",
            "                                                                 \n",
            " lstm_2 (LSTM)               (None, 50)                20200     \n",
            "                                                                 \n",
            " dense (Dense)               (None, 1)                 51        \n",
            "                                                                 \n",
            "=================================================================\n",
            "Total params: 50851 (198.64 KB)\n",
            "Trainable params: 50851 (198.64 KB)\n",
            "Non-trainable params: 0 (0.00 Byte)\n",
            "_________________________________________________________________\n"
          ]
        }
      ]
    },
    {
      "cell_type": "code",
      "source": [
        "model.fit(X_train,y_train, validation_data=(X_test,ytest),epochs=10,batch_size=64,verbose=1)\n"
      ],
      "metadata": {
        "colab": {
          "base_uri": "https://localhost:8080/"
        },
        "id": "02NDRZU5W9bg",
        "outputId": "c3b7c2ab-f787-4b16-9b88-7d2ce5cad9eb"
      },
      "execution_count": 27,
      "outputs": [
        {
          "output_type": "stream",
          "name": "stdout",
          "text": [
            "Epoch 1/10\n",
            "83/83 [==============================] - 13s 114ms/step - loss: 4.2324e-05 - val_loss: 0.0053\n",
            "Epoch 2/10\n",
            "83/83 [==============================] - 9s 111ms/step - loss: 1.8449e-06 - val_loss: 0.0038\n",
            "Epoch 3/10\n",
            "83/83 [==============================] - 9s 111ms/step - loss: 1.9273e-06 - val_loss: 0.0054\n",
            "Epoch 4/10\n",
            "83/83 [==============================] - 14s 167ms/step - loss: 1.8036e-06 - val_loss: 0.0041\n",
            "Epoch 5/10\n",
            "83/83 [==============================] - 11s 136ms/step - loss: 1.6956e-06 - val_loss: 0.0037\n",
            "Epoch 6/10\n",
            "83/83 [==============================] - 11s 133ms/step - loss: 1.9430e-06 - val_loss: 0.0027\n",
            "Epoch 7/10\n",
            "83/83 [==============================] - 12s 143ms/step - loss: 1.8689e-06 - val_loss: 0.0033\n",
            "Epoch 8/10\n",
            "83/83 [==============================] - 10s 123ms/step - loss: 1.6382e-06 - val_loss: 0.0043\n",
            "Epoch 9/10\n",
            "83/83 [==============================] - 12s 146ms/step - loss: 1.8179e-06 - val_loss: 0.0037\n",
            "Epoch 10/10\n",
            "83/83 [==============================] - 10s 117ms/step - loss: 1.5640e-06 - val_loss: 0.0033\n"
          ]
        },
        {
          "output_type": "execute_result",
          "data": {
            "text/plain": [
              "<keras.src.callbacks.History at 0x7d05d99c9de0>"
            ]
          },
          "metadata": {},
          "execution_count": 27
        }
      ]
    },
    {
      "cell_type": "code",
      "source": [
        "import tensorflow as tf"
      ],
      "metadata": {
        "id": "D20gCltHW9d2"
      },
      "execution_count": 28,
      "outputs": []
    },
    {
      "cell_type": "code",
      "source": [
        "tf.__version__"
      ],
      "metadata": {
        "colab": {
          "base_uri": "https://localhost:8080/",
          "height": 35
        },
        "id": "W7o39Q14W9gW",
        "outputId": "a90bf5ee-922b-46fe-effd-5c7d4d58c5f1"
      },
      "execution_count": 29,
      "outputs": [
        {
          "output_type": "execute_result",
          "data": {
            "text/plain": [
              "'2.15.0'"
            ],
            "application/vnd.google.colaboratory.intrinsic+json": {
              "type": "string"
            }
          },
          "metadata": {},
          "execution_count": 29
        }
      ]
    },
    {
      "cell_type": "code",
      "source": [
        "train_predict = model.predict(X_train)\n",
        "test_predict = model.predict(X_test)"
      ],
      "metadata": {
        "colab": {
          "base_uri": "https://localhost:8080/"
        },
        "id": "sPXS5AP5W9jz",
        "outputId": "16de82ed-21d6-49f5-e05b-420ee8bb5bcf"
      },
      "execution_count": 30,
      "outputs": [
        {
          "output_type": "stream",
          "name": "stdout",
          "text": [
            "166/166 [==============================] - 5s 28ms/step\n",
            "88/88 [==============================] - 2s 21ms/step\n"
          ]
        }
      ]
    },
    {
      "cell_type": "code",
      "source": [
        "train_predict=scaler.inverse_transform(train_predict)\n",
        "test_predict=scaler.inverse_transform(test_predict)"
      ],
      "metadata": {
        "id": "qDVjsJQsoF8h"
      },
      "execution_count": 32,
      "outputs": []
    },
    {
      "cell_type": "code",
      "source": [
        "import math\n",
        "from sklearn.metrics import mean_squared_error\n",
        "math.sqrt(mean_squared_error(y_train,train_predict))"
      ],
      "metadata": {
        "colab": {
          "base_uri": "https://localhost:8080/"
        },
        "id": "z_4R9Qk8oF-v",
        "outputId": "1475e19e-83c6-4292-f9e2-8da86129d919"
      },
      "execution_count": 33,
      "outputs": [
        {
          "output_type": "execute_result",
          "data": {
            "text/plain": [
              "744.4878356957377"
            ]
          },
          "metadata": {},
          "execution_count": 33
        }
      ]
    },
    {
      "cell_type": "code",
      "source": [
        "math.sqrt(mean_squared_error(ytest,test_predict))"
      ],
      "metadata": {
        "colab": {
          "base_uri": "https://localhost:8080/"
        },
        "id": "iwQza0vNoGBP",
        "outputId": "117fbde8-7b1d-411a-bda2-7e108eb8d83b"
      },
      "execution_count": 37,
      "outputs": [
        {
          "output_type": "execute_result",
          "data": {
            "text/plain": [
              "13532.870788126822"
            ]
          },
          "metadata": {},
          "execution_count": 37
        }
      ]
    },
    {
      "cell_type": "code",
      "source": [
        "look_back=100\n",
        "trainPredictPlot = numpy.empty_like(df1)\n",
        "trainPredictPlot[:,:]= np.nan\n",
        "trainPredictPlot[look_back:len(train_predict)+look_back,:]=train_predict\n",
        "\n",
        "testPredictPlot = numpy.empty_like(df1)\n",
        "testPredictPlot[:,:]= np.nan\n",
        "testPredictPlot[len(train_predict)+(look_back*2)+1:len(df1)-1,:]=test_predict\n",
        "plt.plot(scaler.inverse_transform(df1))\n",
        "plt.plot(trainPredictPlot)\n",
        "plt.plot(testPredictPlot)\n",
        "plt.show()"
      ],
      "metadata": {
        "colab": {
          "base_uri": "https://localhost:8080/",
          "height": 430
        },
        "id": "CP9y8ROxoGDy",
        "outputId": "e0648e42-a71e-4a37-af07-c56887fe67ee"
      },
      "execution_count": 39,
      "outputs": [
        {
          "output_type": "display_data",
          "data": {
            "text/plain": [
              "<Figure size 640x480 with 1 Axes>"
            ],
            "image/png": "[encoded data removed]"
          },
          "metadata": {}
        }
      ]
    },
    {
      "cell_type": "code",
      "source": [
        "len(test_data)"
      ],
      "metadata": {
        "colab": {
          "base_uri": "https://localhost:8080/"
        },
        "id": "LWWaUjjqoGGU",
        "outputId": "99185c53-3a1f-4b6c-8a73-24029d4e52db"
      },
      "execution_count": 40,
      "outputs": [
        {
          "output_type": "execute_result",
          "data": {
            "text/plain": [
              "2910"
            ]
          },
          "metadata": {},
          "execution_count": 40
        }
      ]
    },
    {
      "cell_type": "code",
      "source": [
        "x_input=test_data[2810:].reshape(1,-1)\n",
        "x_input.shape"
      ],
      "metadata": {
        "colab": {
          "base_uri": "https://localhost:8080/"
        },
        "id": "hJNjoGKEoGIq",
        "outputId": "a0380f14-6891-4e18-94a9-fc2e25130ffd"
      },
      "execution_count": 47,
      "outputs": [
        {
          "output_type": "execute_result",
          "data": {
            "text/plain": [
              "(1, 100)"
            ]
          },
          "metadata": {},
          "execution_count": 47
        }
      ]
    },
    {
      "cell_type": "code",
      "source": [
        "temp_input = list(x_input)\n",
        "temp_input = temp_input[0].tolist()"
      ],
      "metadata": {
        "id": "_L6h3uTooGMJ"
      },
      "execution_count": 48,
      "outputs": []
    },
    {
      "cell_type": "code",
      "source": [
        "temp_input"
      ],
      "metadata": {
        "colab": {
          "base_uri": "https://localhost:8080/"
        },
        "id": "dVe8QIQXwPeS",
        "outputId": "0970229c-6ab5-449e-d8e7-63b12c3a0530"
      },
      "execution_count": 49,
      "outputs": [
        {
          "output_type": "execute_result",
          "data": {
            "text/plain": [
              "[0.7714630695912177,\n",
              " 0.777563094362134,\n",
              " 0.8064045144635252,\n",
              " 0.8260957850396646,\n",
              " 0.8112737736225265,\n",
              " 0.8268983877725495,\n",
              " 0.8122904551194771,\n",
              " 0.8066719951988309,\n",
              " 0.807421121047891,\n",
              " 0.8226177328458515,\n",
              " 0.8191396003885544,\n",
              " 0.8305370418466034,\n",
              " 0.8218686123476904,\n",
              " 0.8156615481947413,\n",
              " 0.793883352126493,\n",
              " 0.7961842814700826,\n",
              " 0.798806168432803,\n",
              " 0.7844123198946951,\n",
              " 0.7908868594320512,\n",
              " 0.7881579330872979,\n",
              " 0.7769210132460058,\n",
              " 0.7801315847045132,\n",
              " 0.8075281604299238,\n",
              " 0.8225106934638187,\n",
              " 0.8105782102716744,\n",
              " 0.8173737930425439,\n",
              " 0.8051737488516102,\n",
              " 0.7939903915085258,\n",
              " 0.8045316677354819,\n",
              " 0.8158755466953231,\n",
              " 0.8180159544221559,\n",
              " 0.8333195306895644,\n",
              " 0.8287712345005929,\n",
              " 0.8416133598076548,\n",
              " 0.8516730765352397,\n",
              " 0.8439142891512446,\n",
              " 0.8498002298071964,\n",
              " 0.8568634538403394,\n",
              " 0.8463221776133832,\n",
              " 0.842951084538119,\n",
              " 0.8596459426833004,\n",
              " 0.8681538559163555,\n",
              " 0.8817451017215784,\n",
              " 0.8885407647559318,\n",
              " 0.8856513167944219,\n",
              " 0.875645082301561,\n",
              " 0.880460939489322,\n",
              " 0.866388048570345,\n",
              " 0.8598064643000572,\n",
              " 0.8560608511074544,\n",
              " 0.8852767164135994,\n",
              " 0.8834039499490398,\n",
              " 0.8835109090675889,\n",
              " 0.8901460504851855,\n",
              " 0.8963531146381348,\n",
              " 0.8911091748348272,\n",
              " 0.8823872631011904,\n",
              " 0.8840460310651681,\n",
              " 0.8756986394488698,\n",
              " 0.875645082301561,\n",
              " 0.9005268104462838,\n",
              " 0.9073223932171535,\n",
              " 0.9068408283668832,\n",
              " 0.9012223684462372,\n",
              " 0.8953899100250091,\n",
              " 0.8865073964111319,\n",
              " 0.92813746493576,\n",
              " 0.9277628645549376,\n",
              " 0.9185058308237216,\n",
              " 0.9280839077884512,\n",
              " 0.9291005892854017,\n",
              " 0.9227865660139035,\n",
              " 0.9201111165529753,\n",
              " 0.9201111165529753,\n",
              " 0.9234286471300317,\n",
              " 0.936056773936512,\n",
              " 0.936645378168815,\n",
              " 0.9315084777475403,\n",
              " 0.9173821099447382,\n",
              " 0.9188803509410602,\n",
              " 0.9250339328592854,\n",
              " 0.9380900620178282,\n",
              " 0.948096296510689,\n",
              " 0.9478287355118994,\n",
              " 0.9630252670463761,\n",
              " 0.9676270454700715,\n",
              " 0.9602963407016228,\n",
              " 0.9583165348550304,\n",
              " 0.95087878535365,\n",
              " 0.9655937573887553,\n",
              " 0.9676806079682793,\n",
              " 0.9828235770045484,\n",
              " 0.9802551722765518,\n",
              " 0.9836797422356409,\n",
              " 0.9947025833128675,\n",
              " 0.9888701195407407,\n",
              " 0.9893516843910111,\n",
              " 0.9837333047338487,\n",
              " 1.0,\n",
              " 0.9982876748887135]"
            ]
          },
          "metadata": {},
          "execution_count": 49
        }
      ]
    },
    {
      "cell_type": "code",
      "source": [
        "from numpy import array\n",
        "\n",
        "lst_output=[]\n",
        "n_steps=100\n",
        "i=0\n",
        "while(i<30):\n",
        "\n",
        "    if(len(temp_input)>100):\n",
        "        #print(temp_input)\n",
        "        x_input=np.array(temp_input[1:])\n",
        "        print(\"{} day input {}\".format(i,x_input))\n",
        "        x_input=x_input.reshape(1,-1)\n",
        "        x_input = x_input.reshape((1, n_steps, 1))\n",
        "        #print(x_input)\n",
        "        yhat = model.predict(x_input, verbose=0)\n",
        "        print(\"{} day output {}\".format(i,yhat))\n",
        "        temp_input.extend(yhat[0].tolist())\n",
        "        temp_input=temp_input[1:]\n",
        "        #print(temp_input)\n",
        "        lst_output.extend(yhat.tolist())\n",
        "        i=i+1\n",
        "    else:\n",
        "        x_input = x_input.reshape((1, n_steps,1))\n",
        "        yhat = model.predict(x_input, verbose=0)\n",
        "        print(yhat[0])\n",
        "        temp_input.extend(yhat[0].tolist())\n",
        "        print(len(temp_input))\n",
        "        lst_output.extend(yhat.tolist())\n",
        "        i=i+1\n",
        "\n",
        "\n",
        "print(lst_output)"
      ],
      "metadata": {
        "colab": {
          "base_uri": "https://localhost:8080/"
        },
        "id": "CF2bRLggoGVJ",
        "outputId": "90c9bae9-5ecc-495a-b836-b3ed72498211"
      },
      "execution_count": 50,
      "outputs": [
        {
          "output_type": "stream",
          "name": "stdout",
          "text": [
            "[0.8114926]\n",
            "101\n",
            "1 day input [0.77756309 0.80640451 0.82609579 0.81127377 0.82689839 0.81229046\n",
            " 0.806672   0.80742112 0.82261773 0.8191396  0.83053704 0.82186861\n",
            " 0.81566155 0.79388335 0.79618428 0.79880617 0.78441232 0.79088686\n",
            " 0.78815793 0.77692101 0.78013158 0.80752816 0.82251069 0.81057821\n",
            " 0.81737379 0.80517375 0.79399039 0.80453167 0.81587555 0.81801595\n",
            " 0.83331953 0.82877123 0.84161336 0.85167308 0.84391429 0.84980023\n",
            " 0.85686345 0.84632218 0.84295108 0.85964594 0.86815386 0.8817451\n",
            " 0.88854076 0.88565132 0.87564508 0.88046094 0.86638805 0.85980646\n",
            " 0.85606085 0.88527672 0.88340395 0.88351091 0.89014605 0.89635311\n",
            " 0.89110917 0.88238726 0.88404603 0.87569864 0.87564508 0.90052681\n",
            " 0.90732239 0.90684083 0.90122237 0.89538991 0.8865074  0.92813746\n",
            " 0.92776286 0.91850583 0.92808391 0.92910059 0.92278657 0.92011112\n",
            " 0.92011112 0.92342865 0.93605677 0.93664538 0.93150848 0.91738211\n",
            " 0.91888035 0.92503393 0.93809006 0.9480963  0.94782874 0.96302527\n",
            " 0.96762705 0.96029634 0.95831653 0.95087879 0.96559376 0.96768061\n",
            " 0.98282358 0.98025517 0.98367974 0.99470258 0.98887012 0.98935168\n",
            " 0.9837333  1.         0.99828767 0.81149262]\n",
            "1 day output [[0.8111262]]\n",
            "2 day input [0.80640451 0.82609579 0.81127377 0.82689839 0.81229046 0.806672\n",
            " 0.80742112 0.82261773 0.8191396  0.83053704 0.82186861 0.81566155\n",
            " 0.79388335 0.79618428 0.79880617 0.78441232 0.79088686 0.78815793\n",
            " 0.77692101 0.78013158 0.80752816 0.82251069 0.81057821 0.81737379\n",
            " 0.80517375 0.79399039 0.80453167 0.81587555 0.81801595 0.83331953\n",
            " 0.82877123 0.84161336 0.85167308 0.84391429 0.84980023 0.85686345\n",
            " 0.84632218 0.84295108 0.85964594 0.86815386 0.8817451  0.88854076\n",
            " 0.88565132 0.87564508 0.88046094 0.86638805 0.85980646 0.85606085\n",
            " 0.88527672 0.88340395 0.88351091 0.89014605 0.89635311 0.89110917\n",
            " 0.88238726 0.88404603 0.87569864 0.87564508 0.90052681 0.90732239\n",
            " 0.90684083 0.90122237 0.89538991 0.8865074  0.92813746 0.92776286\n",
            " 0.91850583 0.92808391 0.92910059 0.92278657 0.92011112 0.92011112\n",
            " 0.92342865 0.93605677 0.93664538 0.93150848 0.91738211 0.91888035\n",
            " 0.92503393 0.93809006 0.9480963  0.94782874 0.96302527 0.96762705\n",
            " 0.96029634 0.95831653 0.95087879 0.96559376 0.96768061 0.98282358\n",
            " 0.98025517 0.98367974 0.99470258 0.98887012 0.98935168 0.9837333\n",
            " 1.         0.99828767 0.81149262 0.81112617]\n",
            "2 day output [[0.807995]]\n",
            "3 day input [0.82609579 0.81127377 0.82689839 0.81229046 0.806672   0.80742112\n",
            " 0.82261773 0.8191396  0.83053704 0.82186861 0.81566155 0.79388335\n",
            " 0.79618428 0.79880617 0.78441232 0.79088686 0.78815793 0.77692101\n",
            " 0.78013158 0.80752816 0.82251069 0.81057821 0.81737379 0.80517375\n",
            " 0.79399039 0.80453167 0.81587555 0.81801595 0.83331953 0.82877123\n",
            " 0.84161336 0.85167308 0.84391429 0.84980023 0.85686345 0.84632218\n",
            " 0.84295108 0.85964594 0.86815386 0.8817451  0.88854076 0.88565132\n",
            " 0.87564508 0.88046094 0.86638805 0.85980646 0.85606085 0.88527672\n",
            " 0.88340395 0.88351091 0.89014605 0.89635311 0.89110917 0.88238726\n",
            " 0.88404603 0.87569864 0.87564508 0.90052681 0.90732239 0.90684083\n",
            " 0.90122237 0.89538991 0.8865074  0.92813746 0.92776286 0.91850583\n",
            " 0.92808391 0.92910059 0.92278657 0.92011112 0.92011112 0.92342865\n",
            " 0.93605677 0.93664538 0.93150848 0.91738211 0.91888035 0.92503393\n",
            " 0.93809006 0.9480963  0.94782874 0.96302527 0.96762705 0.96029634\n",
            " 0.95831653 0.95087879 0.96559376 0.96768061 0.98282358 0.98025517\n",
            " 0.98367974 0.99470258 0.98887012 0.98935168 0.9837333  1.\n",
            " 0.99828767 0.81149262 0.81112617 0.80799502]\n",
            "3 day output [[0.8022087]]\n",
            "4 day input [0.81127377 0.82689839 0.81229046 0.806672   0.80742112 0.82261773\n",
            " 0.8191396  0.83053704 0.82186861 0.81566155 0.79388335 0.79618428\n",
            " 0.79880617 0.78441232 0.79088686 0.78815793 0.77692101 0.78013158\n",
            " 0.80752816 0.82251069 0.81057821 0.81737379 0.80517375 0.79399039\n",
            " 0.80453167 0.81587555 0.81801595 0.83331953 0.82877123 0.84161336\n",
            " 0.85167308 0.84391429 0.84980023 0.85686345 0.84632218 0.84295108\n",
            " 0.85964594 0.86815386 0.8817451  0.88854076 0.88565132 0.87564508\n",
            " 0.88046094 0.86638805 0.85980646 0.85606085 0.88527672 0.88340395\n",
            " 0.88351091 0.89014605 0.89635311 0.89110917 0.88238726 0.88404603\n",
            " 0.87569864 0.87564508 0.90052681 0.90732239 0.90684083 0.90122237\n",
            " 0.89538991 0.8865074  0.92813746 0.92776286 0.91850583 0.92808391\n",
            " 0.92910059 0.92278657 0.92011112 0.92011112 0.92342865 0.93605677\n",
            " 0.93664538 0.93150848 0.91738211 0.91888035 0.92503393 0.93809006\n",
            " 0.9480963  0.94782874 0.96302527 0.96762705 0.96029634 0.95831653\n",
            " 0.95087879 0.96559376 0.96768061 0.98282358 0.98025517 0.98367974\n",
            " 0.99470258 0.98887012 0.98935168 0.9837333  1.         0.99828767\n",
            " 0.81149262 0.81112617 0.80799502 0.80220872]\n",
            "4 day output [[0.79418623]]\n",
            "5 day input [0.82689839 0.81229046 0.806672   0.80742112 0.82261773 0.8191396\n",
            " 0.83053704 0.82186861 0.81566155 0.79388335 0.79618428 0.79880617\n",
            " 0.78441232 0.79088686 0.78815793 0.77692101 0.78013158 0.80752816\n",
            " 0.82251069 0.81057821 0.81737379 0.80517375 0.79399039 0.80453167\n",
            " 0.81587555 0.81801595 0.83331953 0.82877123 0.84161336 0.85167308\n",
            " 0.84391429 0.84980023 0.85686345 0.84632218 0.84295108 0.85964594\n",
            " 0.86815386 0.8817451  0.88854076 0.88565132 0.87564508 0.88046094\n",
            " 0.86638805 0.85980646 0.85606085 0.88527672 0.88340395 0.88351091\n",
            " 0.89014605 0.89635311 0.89110917 0.88238726 0.88404603 0.87569864\n",
            " 0.87564508 0.90052681 0.90732239 0.90684083 0.90122237 0.89538991\n",
            " 0.8865074  0.92813746 0.92776286 0.91850583 0.92808391 0.92910059\n",
            " 0.92278657 0.92011112 0.92011112 0.92342865 0.93605677 0.93664538\n",
            " 0.93150848 0.91738211 0.91888035 0.92503393 0.93809006 0.9480963\n",
            " 0.94782874 0.96302527 0.96762705 0.96029634 0.95831653 0.95087879\n",
            " 0.96559376 0.96768061 0.98282358 0.98025517 0.98367974 0.99470258\n",
            " 0.98887012 0.98935168 0.9837333  1.         0.99828767 0.81149262\n",
            " 0.81112617 0.80799502 0.80220872 0.79418623]\n",
            "5 day output [[0.78445566]]\n",
            "6 day input [0.81229046 0.806672   0.80742112 0.82261773 0.8191396  0.83053704\n",
            " 0.82186861 0.81566155 0.79388335 0.79618428 0.79880617 0.78441232\n",
            " 0.79088686 0.78815793 0.77692101 0.78013158 0.80752816 0.82251069\n",
            " 0.81057821 0.81737379 0.80517375 0.79399039 0.80453167 0.81587555\n",
            " 0.81801595 0.83331953 0.82877123 0.84161336 0.85167308 0.84391429\n",
            " 0.84980023 0.85686345 0.84632218 0.84295108 0.85964594 0.86815386\n",
            " 0.8817451  0.88854076 0.88565132 0.87564508 0.88046094 0.86638805\n",
            " 0.85980646 0.85606085 0.88527672 0.88340395 0.88351091 0.89014605\n",
            " 0.89635311 0.89110917 0.88238726 0.88404603 0.87569864 0.87564508\n",
            " 0.90052681 0.90732239 0.90684083 0.90122237 0.89538991 0.8865074\n",
            " 0.92813746 0.92776286 0.91850583 0.92808391 0.92910059 0.92278657\n",
            " 0.92011112 0.92011112 0.92342865 0.93605677 0.93664538 0.93150848\n",
            " 0.91738211 0.91888035 0.92503393 0.93809006 0.9480963  0.94782874\n",
            " 0.96302527 0.96762705 0.96029634 0.95831653 0.95087879 0.96559376\n",
            " 0.96768061 0.98282358 0.98025517 0.98367974 0.99470258 0.98887012\n",
            " 0.98935168 0.9837333  1.         0.99828767 0.81149262 0.81112617\n",
            " 0.80799502 0.80220872 0.79418623 0.78445566]\n",
            "6 day output [[0.77353984]]\n",
            "7 day input [0.806672   0.80742112 0.82261773 0.8191396  0.83053704 0.82186861\n",
            " 0.81566155 0.79388335 0.79618428 0.79880617 0.78441232 0.79088686\n",
            " 0.78815793 0.77692101 0.78013158 0.80752816 0.82251069 0.81057821\n",
            " 0.81737379 0.80517375 0.79399039 0.80453167 0.81587555 0.81801595\n",
            " 0.83331953 0.82877123 0.84161336 0.85167308 0.84391429 0.84980023\n",
            " 0.85686345 0.84632218 0.84295108 0.85964594 0.86815386 0.8817451\n",
            " 0.88854076 0.88565132 0.87564508 0.88046094 0.86638805 0.85980646\n",
            " 0.85606085 0.88527672 0.88340395 0.88351091 0.89014605 0.89635311\n",
            " 0.89110917 0.88238726 0.88404603 0.87569864 0.87564508 0.90052681\n",
            " 0.90732239 0.90684083 0.90122237 0.89538991 0.8865074  0.92813746\n",
            " 0.92776286 0.91850583 0.92808391 0.92910059 0.92278657 0.92011112\n",
            " 0.92011112 0.92342865 0.93605677 0.93664538 0.93150848 0.91738211\n",
            " 0.91888035 0.92503393 0.93809006 0.9480963  0.94782874 0.96302527\n",
            " 0.96762705 0.96029634 0.95831653 0.95087879 0.96559376 0.96768061\n",
            " 0.98282358 0.98025517 0.98367974 0.99470258 0.98887012 0.98935168\n",
            " 0.9837333  1.         0.99828767 0.81149262 0.81112617 0.80799502\n",
            " 0.80220872 0.79418623 0.78445566 0.77353984]\n",
            "7 day output [[0.7618966]]\n",
            "8 day input [0.80742112 0.82261773 0.8191396  0.83053704 0.82186861 0.81566155\n",
            " 0.79388335 0.79618428 0.79880617 0.78441232 0.79088686 0.78815793\n",
            " 0.77692101 0.78013158 0.80752816 0.82251069 0.81057821 0.81737379\n",
            " 0.80517375 0.79399039 0.80453167 0.81587555 0.81801595 0.83331953\n",
            " 0.82877123 0.84161336 0.85167308 0.84391429 0.84980023 0.85686345\n",
            " 0.84632218 0.84295108 0.85964594 0.86815386 0.8817451  0.88854076\n",
            " 0.88565132 0.87564508 0.88046094 0.86638805 0.85980646 0.85606085\n",
            " 0.88527672 0.88340395 0.88351091 0.89014605 0.89635311 0.89110917\n",
            " 0.88238726 0.88404603 0.87569864 0.87564508 0.90052681 0.90732239\n",
            " 0.90684083 0.90122237 0.89538991 0.8865074  0.92813746 0.92776286\n",
            " 0.91850583 0.92808391 0.92910059 0.92278657 0.92011112 0.92011112\n",
            " 0.92342865 0.93605677 0.93664538 0.93150848 0.91738211 0.91888035\n",
            " 0.92503393 0.93809006 0.9480963  0.94782874 0.96302527 0.96762705\n",
            " 0.96029634 0.95831653 0.95087879 0.96559376 0.96768061 0.98282358\n",
            " 0.98025517 0.98367974 0.99470258 0.98887012 0.98935168 0.9837333\n",
            " 1.         0.99828767 0.81149262 0.81112617 0.80799502 0.80220872\n",
            " 0.79418623 0.78445566 0.77353984 0.76189661]\n",
            "8 day output [[0.7498953]]\n",
            "9 day input [0.82261773 0.8191396  0.83053704 0.82186861 0.81566155 0.79388335\n",
            " 0.79618428 0.79880617 0.78441232 0.79088686 0.78815793 0.77692101\n",
            " 0.78013158 0.80752816 0.82251069 0.81057821 0.81737379 0.80517375\n",
            " 0.79399039 0.80453167 0.81587555 0.81801595 0.83331953 0.82877123\n",
            " 0.84161336 0.85167308 0.84391429 0.84980023 0.85686345 0.84632218\n",
            " 0.84295108 0.85964594 0.86815386 0.8817451  0.88854076 0.88565132\n",
            " 0.87564508 0.88046094 0.86638805 0.85980646 0.85606085 0.88527672\n",
            " 0.88340395 0.88351091 0.89014605 0.89635311 0.89110917 0.88238726\n",
            " 0.88404603 0.87569864 0.87564508 0.90052681 0.90732239 0.90684083\n",
            " 0.90122237 0.89538991 0.8865074  0.92813746 0.92776286 0.91850583\n",
            " 0.92808391 0.92910059 0.92278657 0.92011112 0.92011112 0.92342865\n",
            " 0.93605677 0.93664538 0.93150848 0.91738211 0.91888035 0.92503393\n",
            " 0.93809006 0.9480963  0.94782874 0.96302527 0.96762705 0.96029634\n",
            " 0.95831653 0.95087879 0.96559376 0.96768061 0.98282358 0.98025517\n",
            " 0.98367974 0.99470258 0.98887012 0.98935168 0.9837333  1.\n",
            " 0.99828767 0.81149262 0.81112617 0.80799502 0.80220872 0.79418623\n",
            " 0.78445566 0.77353984 0.76189661 0.74989527]\n",
            "9 day output [[0.73781514]]\n",
            "10 day input [0.8191396  0.83053704 0.82186861 0.81566155 0.79388335 0.79618428\n",
            " 0.79880617 0.78441232 0.79088686 0.78815793 0.77692101 0.78013158\n",
            " 0.80752816 0.82251069 0.81057821 0.81737379 0.80517375 0.79399039\n",
            " 0.80453167 0.81587555 0.81801595 0.83331953 0.82877123 0.84161336\n",
            " 0.85167308 0.84391429 0.84980023 0.85686345 0.84632218 0.84295108\n",
            " 0.85964594 0.86815386 0.8817451  0.88854076 0.88565132 0.87564508\n",
            " 0.88046094 0.86638805 0.85980646 0.85606085 0.88527672 0.88340395\n",
            " 0.88351091 0.89014605 0.89635311 0.89110917 0.88238726 0.88404603\n",
            " 0.87569864 0.87564508 0.90052681 0.90732239 0.90684083 0.90122237\n",
            " 0.89538991 0.8865074  0.92813746 0.92776286 0.91850583 0.92808391\n",
            " 0.92910059 0.92278657 0.92011112 0.92011112 0.92342865 0.93605677\n",
            " 0.93664538 0.93150848 0.91738211 0.91888035 0.92503393 0.93809006\n",
            " 0.9480963  0.94782874 0.96302527 0.96762705 0.96029634 0.95831653\n",
            " 0.95087879 0.96559376 0.96768061 0.98282358 0.98025517 0.98367974\n",
            " 0.99470258 0.98887012 0.98935168 0.9837333  1.         0.99828767\n",
            " 0.81149262 0.81112617 0.80799502 0.80220872 0.79418623 0.78445566\n",
            " 0.77353984 0.76189661 0.74989527 0.73781514]\n",
            "10 day output [[0.72585434]]\n",
            "11 day input [0.83053704 0.82186861 0.81566155 0.79388335 0.79618428 0.79880617\n",
            " 0.78441232 0.79088686 0.78815793 0.77692101 0.78013158 0.80752816\n",
            " 0.82251069 0.81057821 0.81737379 0.80517375 0.79399039 0.80453167\n",
            " 0.81587555 0.81801595 0.83331953 0.82877123 0.84161336 0.85167308\n",
            " 0.84391429 0.84980023 0.85686345 0.84632218 0.84295108 0.85964594\n",
            " 0.86815386 0.8817451  0.88854076 0.88565132 0.87564508 0.88046094\n",
            " 0.86638805 0.85980646 0.85606085 0.88527672 0.88340395 0.88351091\n",
            " 0.89014605 0.89635311 0.89110917 0.88238726 0.88404603 0.87569864\n",
            " 0.87564508 0.90052681 0.90732239 0.90684083 0.90122237 0.89538991\n",
            " 0.8865074  0.92813746 0.92776286 0.91850583 0.92808391 0.92910059\n",
            " 0.92278657 0.92011112 0.92011112 0.92342865 0.93605677 0.93664538\n",
            " 0.93150848 0.91738211 0.91888035 0.92503393 0.93809006 0.9480963\n",
            " 0.94782874 0.96302527 0.96762705 0.96029634 0.95831653 0.95087879\n",
            " 0.96559376 0.96768061 0.98282358 0.98025517 0.98367974 0.99470258\n",
            " 0.98887012 0.98935168 0.9837333  1.         0.99828767 0.81149262\n",
            " 0.81112617 0.80799502 0.80220872 0.79418623 0.78445566 0.77353984\n",
            " 0.76189661 0.74989527 0.73781514 0.72585434]\n",
            "11 day output [[0.71414363]]\n",
            "12 day input [0.82186861 0.81566155 0.79388335 0.79618428 0.79880617 0.78441232\n",
            " 0.79088686 0.78815793 0.77692101 0.78013158 0.80752816 0.82251069\n",
            " 0.81057821 0.81737379 0.80517375 0.79399039 0.80453167 0.81587555\n",
            " 0.81801595 0.83331953 0.82877123 0.84161336 0.85167308 0.84391429\n",
            " 0.84980023 0.85686345 0.84632218 0.84295108 0.85964594 0.86815386\n",
            " 0.8817451  0.88854076 0.88565132 0.87564508 0.88046094 0.86638805\n",
            " 0.85980646 0.85606085 0.88527672 0.88340395 0.88351091 0.89014605\n",
            " 0.89635311 0.89110917 0.88238726 0.88404603 0.87569864 0.87564508\n",
            " 0.90052681 0.90732239 0.90684083 0.90122237 0.89538991 0.8865074\n",
            " 0.92813746 0.92776286 0.91850583 0.92808391 0.92910059 0.92278657\n",
            " 0.92011112 0.92011112 0.92342865 0.93605677 0.93664538 0.93150848\n",
            " 0.91738211 0.91888035 0.92503393 0.93809006 0.9480963  0.94782874\n",
            " 0.96302527 0.96762705 0.96029634 0.95831653 0.95087879 0.96559376\n",
            " 0.96768061 0.98282358 0.98025517 0.98367974 0.99470258 0.98887012\n",
            " 0.98935168 0.9837333  1.         0.99828767 0.81149262 0.81112617\n",
            " 0.80799502 0.80220872 0.79418623 0.78445566 0.77353984 0.76189661\n",
            " 0.74989527 0.73781514 0.72585434 0.71414363]\n",
            "12 day output [[0.7027632]]\n",
            "13 day input [0.81566155 0.79388335 0.79618428 0.79880617 0.78441232 0.79088686\n",
            " 0.78815793 0.77692101 0.78013158 0.80752816 0.82251069 0.81057821\n",
            " 0.81737379 0.80517375 0.79399039 0.80453167 0.81587555 0.81801595\n",
            " 0.83331953 0.82877123 0.84161336 0.85167308 0.84391429 0.84980023\n",
            " 0.85686345 0.84632218 0.84295108 0.85964594 0.86815386 0.8817451\n",
            " 0.88854076 0.88565132 0.87564508 0.88046094 0.86638805 0.85980646\n",
            " 0.85606085 0.88527672 0.88340395 0.88351091 0.89014605 0.89635311\n",
            " 0.89110917 0.88238726 0.88404603 0.87569864 0.87564508 0.90052681\n",
            " 0.90732239 0.90684083 0.90122237 0.89538991 0.8865074  0.92813746\n",
            " 0.92776286 0.91850583 0.92808391 0.92910059 0.92278657 0.92011112\n",
            " 0.92011112 0.92342865 0.93605677 0.93664538 0.93150848 0.91738211\n",
            " 0.91888035 0.92503393 0.93809006 0.9480963  0.94782874 0.96302527\n",
            " 0.96762705 0.96029634 0.95831653 0.95087879 0.96559376 0.96768061\n",
            " 0.98282358 0.98025517 0.98367974 0.99470258 0.98887012 0.98935168\n",
            " 0.9837333  1.         0.99828767 0.81149262 0.81112617 0.80799502\n",
            " 0.80220872 0.79418623 0.78445566 0.77353984 0.76189661 0.74989527\n",
            " 0.73781514 0.72585434 0.71414363 0.7027632 ]\n",
            "13 day output [[0.6917544]]\n",
            "14 day input [0.79388335 0.79618428 0.79880617 0.78441232 0.79088686 0.78815793\n",
            " 0.77692101 0.78013158 0.80752816 0.82251069 0.81057821 0.81737379\n",
            " 0.80517375 0.79399039 0.80453167 0.81587555 0.81801595 0.83331953\n",
            " 0.82877123 0.84161336 0.85167308 0.84391429 0.84980023 0.85686345\n",
            " 0.84632218 0.84295108 0.85964594 0.86815386 0.8817451  0.88854076\n",
            " 0.88565132 0.87564508 0.88046094 0.86638805 0.85980646 0.85606085\n",
            " 0.88527672 0.88340395 0.88351091 0.89014605 0.89635311 0.89110917\n",
            " 0.88238726 0.88404603 0.87569864 0.87564508 0.90052681 0.90732239\n",
            " 0.90684083 0.90122237 0.89538991 0.8865074  0.92813746 0.92776286\n",
            " 0.91850583 0.92808391 0.92910059 0.92278657 0.92011112 0.92011112\n",
            " 0.92342865 0.93605677 0.93664538 0.93150848 0.91738211 0.91888035\n",
            " 0.92503393 0.93809006 0.9480963  0.94782874 0.96302527 0.96762705\n",
            " 0.96029634 0.95831653 0.95087879 0.96559376 0.96768061 0.98282358\n",
            " 0.98025517 0.98367974 0.99470258 0.98887012 0.98935168 0.9837333\n",
            " 1.         0.99828767 0.81149262 0.81112617 0.80799502 0.80220872\n",
            " 0.79418623 0.78445566 0.77353984 0.76189661 0.74989527 0.73781514\n",
            " 0.72585434 0.71414363 0.7027632  0.6917544 ]\n",
            "14 day output [[0.68113315]]\n",
            "15 day input [0.79618428 0.79880617 0.78441232 0.79088686 0.78815793 0.77692101\n",
            " 0.78013158 0.80752816 0.82251069 0.81057821 0.81737379 0.80517375\n",
            " 0.79399039 0.80453167 0.81587555 0.81801595 0.83331953 0.82877123\n",
            " 0.84161336 0.85167308 0.84391429 0.84980023 0.85686345 0.84632218\n",
            " 0.84295108 0.85964594 0.86815386 0.8817451  0.88854076 0.88565132\n",
            " 0.87564508 0.88046094 0.86638805 0.85980646 0.85606085 0.88527672\n",
            " 0.88340395 0.88351091 0.89014605 0.89635311 0.89110917 0.88238726\n",
            " 0.88404603 0.87569864 0.87564508 0.90052681 0.90732239 0.90684083\n",
            " 0.90122237 0.89538991 0.8865074  0.92813746 0.92776286 0.91850583\n",
            " 0.92808391 0.92910059 0.92278657 0.92011112 0.92011112 0.92342865\n",
            " 0.93605677 0.93664538 0.93150848 0.91738211 0.91888035 0.92503393\n",
            " 0.93809006 0.9480963  0.94782874 0.96302527 0.96762705 0.96029634\n",
            " 0.95831653 0.95087879 0.96559376 0.96768061 0.98282358 0.98025517\n",
            " 0.98367974 0.99470258 0.98887012 0.98935168 0.9837333  1.\n",
            " 0.99828767 0.81149262 0.81112617 0.80799502 0.80220872 0.79418623\n",
            " 0.78445566 0.77353984 0.76189661 0.74989527 0.73781514 0.72585434\n",
            " 0.71414363 0.7027632  0.6917544  0.68113315]\n",
            "15 day output [[0.67089885]]\n",
            "16 day input [0.79880617 0.78441232 0.79088686 0.78815793 0.77692101 0.78013158\n",
            " 0.80752816 0.82251069 0.81057821 0.81737379 0.80517375 0.79399039\n",
            " 0.80453167 0.81587555 0.81801595 0.83331953 0.82877123 0.84161336\n",
            " 0.85167308 0.84391429 0.84980023 0.85686345 0.84632218 0.84295108\n",
            " 0.85964594 0.86815386 0.8817451  0.88854076 0.88565132 0.87564508\n",
            " 0.88046094 0.86638805 0.85980646 0.85606085 0.88527672 0.88340395\n",
            " 0.88351091 0.89014605 0.89635311 0.89110917 0.88238726 0.88404603\n",
            " 0.87569864 0.87564508 0.90052681 0.90732239 0.90684083 0.90122237\n",
            " 0.89538991 0.8865074  0.92813746 0.92776286 0.91850583 0.92808391\n",
            " 0.92910059 0.92278657 0.92011112 0.92011112 0.92342865 0.93605677\n",
            " 0.93664538 0.93150848 0.91738211 0.91888035 0.92503393 0.93809006\n",
            " 0.9480963  0.94782874 0.96302527 0.96762705 0.96029634 0.95831653\n",
            " 0.95087879 0.96559376 0.96768061 0.98282358 0.98025517 0.98367974\n",
            " 0.99470258 0.98887012 0.98935168 0.9837333  1.         0.99828767\n",
            " 0.81149262 0.81112617 0.80799502 0.80220872 0.79418623 0.78445566\n",
            " 0.77353984 0.76189661 0.74989527 0.73781514 0.72585434 0.71414363\n",
            " 0.7027632  0.6917544  0.68113315 0.67089885]\n",
            "16 day output [[0.6610399]]\n",
            "17 day input [0.78441232 0.79088686 0.78815793 0.77692101 0.78013158 0.80752816\n",
            " 0.82251069 0.81057821 0.81737379 0.80517375 0.79399039 0.80453167\n",
            " 0.81587555 0.81801595 0.83331953 0.82877123 0.84161336 0.85167308\n",
            " 0.84391429 0.84980023 0.85686345 0.84632218 0.84295108 0.85964594\n",
            " 0.86815386 0.8817451  0.88854076 0.88565132 0.87564508 0.88046094\n",
            " 0.86638805 0.85980646 0.85606085 0.88527672 0.88340395 0.88351091\n",
            " 0.89014605 0.89635311 0.89110917 0.88238726 0.88404603 0.87569864\n",
            " 0.87564508 0.90052681 0.90732239 0.90684083 0.90122237 0.89538991\n",
            " 0.8865074  0.92813746 0.92776286 0.91850583 0.92808391 0.92910059\n",
            " 0.92278657 0.92011112 0.92011112 0.92342865 0.93605677 0.93664538\n",
            " 0.93150848 0.91738211 0.91888035 0.92503393 0.93809006 0.9480963\n",
            " 0.94782874 0.96302527 0.96762705 0.96029634 0.95831653 0.95087879\n",
            " 0.96559376 0.96768061 0.98282358 0.98025517 0.98367974 0.99470258\n",
            " 0.98887012 0.98935168 0.9837333  1.         0.99828767 0.81149262\n",
            " 0.81112617 0.80799502 0.80220872 0.79418623 0.78445566 0.77353984\n",
            " 0.76189661 0.74989527 0.73781514 0.72585434 0.71414363 0.7027632\n",
            " 0.6917544  0.68113315 0.67089885 0.66103989]\n",
            "17 day output [[0.6515402]]\n",
            "18 day input [0.79088686 0.78815793 0.77692101 0.78013158 0.80752816 0.82251069\n",
            " 0.81057821 0.81737379 0.80517375 0.79399039 0.80453167 0.81587555\n",
            " 0.81801595 0.83331953 0.82877123 0.84161336 0.85167308 0.84391429\n",
            " 0.84980023 0.85686345 0.84632218 0.84295108 0.85964594 0.86815386\n",
            " 0.8817451  0.88854076 0.88565132 0.87564508 0.88046094 0.86638805\n",
            " 0.85980646 0.85606085 0.88527672 0.88340395 0.88351091 0.89014605\n",
            " 0.89635311 0.89110917 0.88238726 0.88404603 0.87569864 0.87564508\n",
            " 0.90052681 0.90732239 0.90684083 0.90122237 0.89538991 0.8865074\n",
            " 0.92813746 0.92776286 0.91850583 0.92808391 0.92910059 0.92278657\n",
            " 0.92011112 0.92011112 0.92342865 0.93605677 0.93664538 0.93150848\n",
            " 0.91738211 0.91888035 0.92503393 0.93809006 0.9480963  0.94782874\n",
            " 0.96302527 0.96762705 0.96029634 0.95831653 0.95087879 0.96559376\n",
            " 0.96768061 0.98282358 0.98025517 0.98367974 0.99470258 0.98887012\n",
            " 0.98935168 0.9837333  1.         0.99828767 0.81149262 0.81112617\n",
            " 0.80799502 0.80220872 0.79418623 0.78445566 0.77353984 0.76189661\n",
            " 0.74989527 0.73781514 0.72585434 0.71414363 0.7027632  0.6917544\n",
            " 0.68113315 0.67089885 0.66103989 0.65154022]\n",
            "18 day output [[0.6423812]]\n",
            "19 day input [0.78815793 0.77692101 0.78013158 0.80752816 0.82251069 0.81057821\n",
            " 0.81737379 0.80517375 0.79399039 0.80453167 0.81587555 0.81801595\n",
            " 0.83331953 0.82877123 0.84161336 0.85167308 0.84391429 0.84980023\n",
            " 0.85686345 0.84632218 0.84295108 0.85964594 0.86815386 0.8817451\n",
            " 0.88854076 0.88565132 0.87564508 0.88046094 0.86638805 0.85980646\n",
            " 0.85606085 0.88527672 0.88340395 0.88351091 0.89014605 0.89635311\n",
            " 0.89110917 0.88238726 0.88404603 0.87569864 0.87564508 0.90052681\n",
            " 0.90732239 0.90684083 0.90122237 0.89538991 0.8865074  0.92813746\n",
            " 0.92776286 0.91850583 0.92808391 0.92910059 0.92278657 0.92011112\n",
            " 0.92011112 0.92342865 0.93605677 0.93664538 0.93150848 0.91738211\n",
            " 0.91888035 0.92503393 0.93809006 0.9480963  0.94782874 0.96302527\n",
            " 0.96762705 0.96029634 0.95831653 0.95087879 0.96559376 0.96768061\n",
            " 0.98282358 0.98025517 0.98367974 0.99470258 0.98887012 0.98935168\n",
            " 0.9837333  1.         0.99828767 0.81149262 0.81112617 0.80799502\n",
            " 0.80220872 0.79418623 0.78445566 0.77353984 0.76189661 0.74989527\n",
            " 0.73781514 0.72585434 0.71414363 0.7027632  0.6917544  0.68113315\n",
            " 0.67089885 0.66103989 0.65154022 0.64238119]\n",
            "19 day output [[0.6335437]]\n",
            "20 day input [0.77692101 0.78013158 0.80752816 0.82251069 0.81057821 0.81737379\n",
            " 0.80517375 0.79399039 0.80453167 0.81587555 0.81801595 0.83331953\n",
            " 0.82877123 0.84161336 0.85167308 0.84391429 0.84980023 0.85686345\n",
            " 0.84632218 0.84295108 0.85964594 0.86815386 0.8817451  0.88854076\n",
            " 0.88565132 0.87564508 0.88046094 0.86638805 0.85980646 0.85606085\n",
            " 0.88527672 0.88340395 0.88351091 0.89014605 0.89635311 0.89110917\n",
            " 0.88238726 0.88404603 0.87569864 0.87564508 0.90052681 0.90732239\n",
            " 0.90684083 0.90122237 0.89538991 0.8865074  0.92813746 0.92776286\n",
            " 0.91850583 0.92808391 0.92910059 0.92278657 0.92011112 0.92011112\n",
            " 0.92342865 0.93605677 0.93664538 0.93150848 0.91738211 0.91888035\n",
            " 0.92503393 0.93809006 0.9480963  0.94782874 0.96302527 0.96762705\n",
            " 0.96029634 0.95831653 0.95087879 0.96559376 0.96768061 0.98282358\n",
            " 0.98025517 0.98367974 0.99470258 0.98887012 0.98935168 0.9837333\n",
            " 1.         0.99828767 0.81149262 0.81112617 0.80799502 0.80220872\n",
            " 0.79418623 0.78445566 0.77353984 0.76189661 0.74989527 0.73781514\n",
            " 0.72585434 0.71414363 0.7027632  0.6917544  0.68113315 0.67089885\n",
            " 0.66103989 0.65154022 0.64238119 0.63354373]\n",
            "20 day output [[0.6250098]]\n",
            "21 day input [0.78013158 0.80752816 0.82251069 0.81057821 0.81737379 0.80517375\n",
            " 0.79399039 0.80453167 0.81587555 0.81801595 0.83331953 0.82877123\n",
            " 0.84161336 0.85167308 0.84391429 0.84980023 0.85686345 0.84632218\n",
            " 0.84295108 0.85964594 0.86815386 0.8817451  0.88854076 0.88565132\n",
            " 0.87564508 0.88046094 0.86638805 0.85980646 0.85606085 0.88527672\n",
            " 0.88340395 0.88351091 0.89014605 0.89635311 0.89110917 0.88238726\n",
            " 0.88404603 0.87569864 0.87564508 0.90052681 0.90732239 0.90684083\n",
            " 0.90122237 0.89538991 0.8865074  0.92813746 0.92776286 0.91850583\n",
            " 0.92808391 0.92910059 0.92278657 0.92011112 0.92011112 0.92342865\n",
            " 0.93605677 0.93664538 0.93150848 0.91738211 0.91888035 0.92503393\n",
            " 0.93809006 0.9480963  0.94782874 0.96302527 0.96762705 0.96029634\n",
            " 0.95831653 0.95087879 0.96559376 0.96768061 0.98282358 0.98025517\n",
            " 0.98367974 0.99470258 0.98887012 0.98935168 0.9837333  1.\n",
            " 0.99828767 0.81149262 0.81112617 0.80799502 0.80220872 0.79418623\n",
            " 0.78445566 0.77353984 0.76189661 0.74989527 0.73781514 0.72585434\n",
            " 0.71414363 0.7027632  0.6917544  0.68113315 0.67089885 0.66103989\n",
            " 0.65154022 0.64238119 0.63354373 0.62500978]\n",
            "21 day output [[0.61676264]]\n",
            "22 day input [0.80752816 0.82251069 0.81057821 0.81737379 0.80517375 0.79399039\n",
            " 0.80453167 0.81587555 0.81801595 0.83331953 0.82877123 0.84161336\n",
            " 0.85167308 0.84391429 0.84980023 0.85686345 0.84632218 0.84295108\n",
            " 0.85964594 0.86815386 0.8817451  0.88854076 0.88565132 0.87564508\n",
            " 0.88046094 0.86638805 0.85980646 0.85606085 0.88527672 0.88340395\n",
            " 0.88351091 0.89014605 0.89635311 0.89110917 0.88238726 0.88404603\n",
            " 0.87569864 0.87564508 0.90052681 0.90732239 0.90684083 0.90122237\n",
            " 0.89538991 0.8865074  0.92813746 0.92776286 0.91850583 0.92808391\n",
            " 0.92910059 0.92278657 0.92011112 0.92011112 0.92342865 0.93605677\n",
            " 0.93664538 0.93150848 0.91738211 0.91888035 0.92503393 0.93809006\n",
            " 0.9480963  0.94782874 0.96302527 0.96762705 0.96029634 0.95831653\n",
            " 0.95087879 0.96559376 0.96768061 0.98282358 0.98025517 0.98367974\n",
            " 0.99470258 0.98887012 0.98935168 0.9837333  1.         0.99828767\n",
            " 0.81149262 0.81112617 0.80799502 0.80220872 0.79418623 0.78445566\n",
            " 0.77353984 0.76189661 0.74989527 0.73781514 0.72585434 0.71414363\n",
            " 0.7027632  0.6917544  0.68113315 0.67089885 0.66103989 0.65154022\n",
            " 0.64238119 0.63354373 0.62500978 0.61676264]\n",
            "22 day output [[0.6087866]]\n",
            "23 day input [0.82251069 0.81057821 0.81737379 0.80517375 0.79399039 0.80453167\n",
            " 0.81587555 0.81801595 0.83331953 0.82877123 0.84161336 0.85167308\n",
            " 0.84391429 0.84980023 0.85686345 0.84632218 0.84295108 0.85964594\n",
            " 0.86815386 0.8817451  0.88854076 0.88565132 0.87564508 0.88046094\n",
            " 0.86638805 0.85980646 0.85606085 0.88527672 0.88340395 0.88351091\n",
            " 0.89014605 0.89635311 0.89110917 0.88238726 0.88404603 0.87569864\n",
            " 0.87564508 0.90052681 0.90732239 0.90684083 0.90122237 0.89538991\n",
            " 0.8865074  0.92813746 0.92776286 0.91850583 0.92808391 0.92910059\n",
            " 0.92278657 0.92011112 0.92011112 0.92342865 0.93605677 0.93664538\n",
            " 0.93150848 0.91738211 0.91888035 0.92503393 0.93809006 0.9480963\n",
            " 0.94782874 0.96302527 0.96762705 0.96029634 0.95831653 0.95087879\n",
            " 0.96559376 0.96768061 0.98282358 0.98025517 0.98367974 0.99470258\n",
            " 0.98887012 0.98935168 0.9837333  1.         0.99828767 0.81149262\n",
            " 0.81112617 0.80799502 0.80220872 0.79418623 0.78445566 0.77353984\n",
            " 0.76189661 0.74989527 0.73781514 0.72585434 0.71414363 0.7027632\n",
            " 0.6917544  0.68113315 0.67089885 0.66103989 0.65154022 0.64238119\n",
            " 0.63354373 0.62500978 0.61676264 0.60878658]\n",
            "23 day output [[0.6010678]]\n",
            "24 day input [0.81057821 0.81737379 0.80517375 0.79399039 0.80453167 0.81587555\n",
            " 0.81801595 0.83331953 0.82877123 0.84161336 0.85167308 0.84391429\n",
            " 0.84980023 0.85686345 0.84632218 0.84295108 0.85964594 0.86815386\n",
            " 0.8817451  0.88854076 0.88565132 0.87564508 0.88046094 0.86638805\n",
            " 0.85980646 0.85606085 0.88527672 0.88340395 0.88351091 0.89014605\n",
            " 0.89635311 0.89110917 0.88238726 0.88404603 0.87569864 0.87564508\n",
            " 0.90052681 0.90732239 0.90684083 0.90122237 0.89538991 0.8865074\n",
            " 0.92813746 0.92776286 0.91850583 0.92808391 0.92910059 0.92278657\n",
            " 0.92011112 0.92011112 0.92342865 0.93605677 0.93664538 0.93150848\n",
            " 0.91738211 0.91888035 0.92503393 0.93809006 0.9480963  0.94782874\n",
            " 0.96302527 0.96762705 0.96029634 0.95831653 0.95087879 0.96559376\n",
            " 0.96768061 0.98282358 0.98025517 0.98367974 0.99470258 0.98887012\n",
            " 0.98935168 0.9837333  1.         0.99828767 0.81149262 0.81112617\n",
            " 0.80799502 0.80220872 0.79418623 0.78445566 0.77353984 0.76189661\n",
            " 0.74989527 0.73781514 0.72585434 0.71414363 0.7027632  0.6917544\n",
            " 0.68113315 0.67089885 0.66103989 0.65154022 0.64238119 0.63354373\n",
            " 0.62500978 0.61676264 0.60878658 0.60106778]\n",
            "24 day output [[0.5935931]]\n",
            "25 day input [0.81737379 0.80517375 0.79399039 0.80453167 0.81587555 0.81801595\n",
            " 0.83331953 0.82877123 0.84161336 0.85167308 0.84391429 0.84980023\n",
            " 0.85686345 0.84632218 0.84295108 0.85964594 0.86815386 0.8817451\n",
            " 0.88854076 0.88565132 0.87564508 0.88046094 0.86638805 0.85980646\n",
            " 0.85606085 0.88527672 0.88340395 0.88351091 0.89014605 0.89635311\n",
            " 0.89110917 0.88238726 0.88404603 0.87569864 0.87564508 0.90052681\n",
            " 0.90732239 0.90684083 0.90122237 0.89538991 0.8865074  0.92813746\n",
            " 0.92776286 0.91850583 0.92808391 0.92910059 0.92278657 0.92011112\n",
            " 0.92011112 0.92342865 0.93605677 0.93664538 0.93150848 0.91738211\n",
            " 0.91888035 0.92503393 0.93809006 0.9480963  0.94782874 0.96302527\n",
            " 0.96762705 0.96029634 0.95831653 0.95087879 0.96559376 0.96768061\n",
            " 0.98282358 0.98025517 0.98367974 0.99470258 0.98887012 0.98935168\n",
            " 0.9837333  1.         0.99828767 0.81149262 0.81112617 0.80799502\n",
            " 0.80220872 0.79418623 0.78445566 0.77353984 0.76189661 0.74989527\n",
            " 0.73781514 0.72585434 0.71414363 0.7027632  0.6917544  0.68113315\n",
            " 0.67089885 0.66103989 0.65154022 0.64238119 0.63354373 0.62500978\n",
            " 0.61676264 0.60878658 0.60106778 0.59359312]\n",
            "25 day output [[0.5863513]]\n",
            "26 day input [0.80517375 0.79399039 0.80453167 0.81587555 0.81801595 0.83331953\n",
            " 0.82877123 0.84161336 0.85167308 0.84391429 0.84980023 0.85686345\n",
            " 0.84632218 0.84295108 0.85964594 0.86815386 0.8817451  0.88854076\n",
            " 0.88565132 0.87564508 0.88046094 0.86638805 0.85980646 0.85606085\n",
            " 0.88527672 0.88340395 0.88351091 0.89014605 0.89635311 0.89110917\n",
            " 0.88238726 0.88404603 0.87569864 0.87564508 0.90052681 0.90732239\n",
            " 0.90684083 0.90122237 0.89538991 0.8865074  0.92813746 0.92776286\n",
            " 0.91850583 0.92808391 0.92910059 0.92278657 0.92011112 0.92011112\n",
            " 0.92342865 0.93605677 0.93664538 0.93150848 0.91738211 0.91888035\n",
            " 0.92503393 0.93809006 0.9480963  0.94782874 0.96302527 0.96762705\n",
            " 0.96029634 0.95831653 0.95087879 0.96559376 0.96768061 0.98282358\n",
            " 0.98025517 0.98367974 0.99470258 0.98887012 0.98935168 0.9837333\n",
            " 1.         0.99828767 0.81149262 0.81112617 0.80799502 0.80220872\n",
            " 0.79418623 0.78445566 0.77353984 0.76189661 0.74989527 0.73781514\n",
            " 0.72585434 0.71414363 0.7027632  0.6917544  0.68113315 0.67089885\n",
            " 0.66103989 0.65154022 0.64238119 0.63354373 0.62500978 0.61676264\n",
            " 0.60878658 0.60106778 0.59359312 0.58635128]\n",
            "26 day output [[0.57933086]]\n",
            "27 day input [0.79399039 0.80453167 0.81587555 0.81801595 0.83331953 0.82877123\n",
            " 0.84161336 0.85167308 0.84391429 0.84980023 0.85686345 0.84632218\n",
            " 0.84295108 0.85964594 0.86815386 0.8817451  0.88854076 0.88565132\n",
            " 0.87564508 0.88046094 0.86638805 0.85980646 0.85606085 0.88527672\n",
            " 0.88340395 0.88351091 0.89014605 0.89635311 0.89110917 0.88238726\n",
            " 0.88404603 0.87569864 0.87564508 0.90052681 0.90732239 0.90684083\n",
            " 0.90122237 0.89538991 0.8865074  0.92813746 0.92776286 0.91850583\n",
            " 0.92808391 0.92910059 0.92278657 0.92011112 0.92011112 0.92342865\n",
            " 0.93605677 0.93664538 0.93150848 0.91738211 0.91888035 0.92503393\n",
            " 0.93809006 0.9480963  0.94782874 0.96302527 0.96762705 0.96029634\n",
            " 0.95831653 0.95087879 0.96559376 0.96768061 0.98282358 0.98025517\n",
            " 0.98367974 0.99470258 0.98887012 0.98935168 0.9837333  1.\n",
            " 0.99828767 0.81149262 0.81112617 0.80799502 0.80220872 0.79418623\n",
            " 0.78445566 0.77353984 0.76189661 0.74989527 0.73781514 0.72585434\n",
            " 0.71414363 0.7027632  0.6917544  0.68113315 0.67089885 0.66103989\n",
            " 0.65154022 0.64238119 0.63354373 0.62500978 0.61676264 0.60878658\n",
            " 0.60106778 0.59359312 0.58635128 0.57933086]\n",
            "27 day output [[0.5725222]]\n",
            "28 day input [0.80453167 0.81587555 0.81801595 0.83331953 0.82877123 0.84161336\n",
            " 0.85167308 0.84391429 0.84980023 0.85686345 0.84632218 0.84295108\n",
            " 0.85964594 0.86815386 0.8817451  0.88854076 0.88565132 0.87564508\n",
            " 0.88046094 0.86638805 0.85980646 0.85606085 0.88527672 0.88340395\n",
            " 0.88351091 0.89014605 0.89635311 0.89110917 0.88238726 0.88404603\n",
            " 0.87569864 0.87564508 0.90052681 0.90732239 0.90684083 0.90122237\n",
            " 0.89538991 0.8865074  0.92813746 0.92776286 0.91850583 0.92808391\n",
            " 0.92910059 0.92278657 0.92011112 0.92011112 0.92342865 0.93605677\n",
            " 0.93664538 0.93150848 0.91738211 0.91888035 0.92503393 0.93809006\n",
            " 0.9480963  0.94782874 0.96302527 0.96762705 0.96029634 0.95831653\n",
            " 0.95087879 0.96559376 0.96768061 0.98282358 0.98025517 0.98367974\n",
            " 0.99470258 0.98887012 0.98935168 0.9837333  1.         0.99828767\n",
            " 0.81149262 0.81112617 0.80799502 0.80220872 0.79418623 0.78445566\n",
            " 0.77353984 0.76189661 0.74989527 0.73781514 0.72585434 0.71414363\n",
            " 0.7027632  0.6917544  0.68113315 0.67089885 0.66103989 0.65154022\n",
            " 0.64238119 0.63354373 0.62500978 0.61676264 0.60878658 0.60106778\n",
            " 0.59359312 0.58635128 0.57933086 0.57252222]\n",
            "28 day output [[0.5659158]]\n",
            "29 day input [0.81587555 0.81801595 0.83331953 0.82877123 0.84161336 0.85167308\n",
            " 0.84391429 0.84980023 0.85686345 0.84632218 0.84295108 0.85964594\n",
            " 0.86815386 0.8817451  0.88854076 0.88565132 0.87564508 0.88046094\n",
            " 0.86638805 0.85980646 0.85606085 0.88527672 0.88340395 0.88351091\n",
            " 0.89014605 0.89635311 0.89110917 0.88238726 0.88404603 0.87569864\n",
            " 0.87564508 0.90052681 0.90732239 0.90684083 0.90122237 0.89538991\n",
            " 0.8865074  0.92813746 0.92776286 0.91850583 0.92808391 0.92910059\n",
            " 0.92278657 0.92011112 0.92011112 0.92342865 0.93605677 0.93664538\n",
            " 0.93150848 0.91738211 0.91888035 0.92503393 0.93809006 0.9480963\n",
            " 0.94782874 0.96302527 0.96762705 0.96029634 0.95831653 0.95087879\n",
            " 0.96559376 0.96768061 0.98282358 0.98025517 0.98367974 0.99470258\n",
            " 0.98887012 0.98935168 0.9837333  1.         0.99828767 0.81149262\n",
            " 0.81112617 0.80799502 0.80220872 0.79418623 0.78445566 0.77353984\n",
            " 0.76189661 0.74989527 0.73781514 0.72585434 0.71414363 0.7027632\n",
            " 0.6917544  0.68113315 0.67089885 0.66103989 0.65154022 0.64238119\n",
            " 0.63354373 0.62500978 0.61676264 0.60878658 0.60106778 0.59359312\n",
            " 0.58635128 0.57933086 0.57252222 0.56591582]\n",
            "29 day output [[0.5595026]]\n",
            "[[0.8114926218986511], [0.811126172542572], [0.8079950213432312], [0.8022087216377258], [0.7941862344741821], [0.7844556570053101], [0.7735398411750793], [0.7618966102600098], [0.7498952746391296], [0.7378151416778564], [0.7258543372154236], [0.7141436338424683], [0.7027631998062134], [0.6917544007301331], [0.6811331510543823], [0.6708988547325134], [0.6610398888587952], [0.651540219783783], [0.6423811912536621], [0.6335437297821045], [0.6250097751617432], [0.616762638092041], [0.6087865829467773], [0.6010677814483643], [0.5935931205749512], [0.5863512754440308], [0.5793308615684509], [0.5725222229957581], [0.5659158229827881], [0.5595026016235352]]\n"
          ]
        }
      ]
    },
    {
      "cell_type": "code",
      "source": [
        "day_new=np.arange(1,101)\n",
        "day_pred=np.arange(101,131)"
      ],
      "metadata": {
        "id": "g0t_Hf40yMBl"
      },
      "execution_count": 51,
      "outputs": []
    },
    {
      "cell_type": "code",
      "source": [
        "import matplotlib.pyplot as plt"
      ],
      "metadata": {
        "id": "GfyFNr3qyMD6"
      },
      "execution_count": 52,
      "outputs": []
    },
    {
      "cell_type": "code",
      "source": [
        "len(df1)"
      ],
      "metadata": {
        "colab": {
          "base_uri": "https://localhost:8080/"
        },
        "id": "1HLEGcFbyMGS",
        "outputId": "e7684ee3-a99a-4e5b-9cf4-4021c5f5a090"
      },
      "execution_count": 53,
      "outputs": [
        {
          "output_type": "execute_result",
          "data": {
            "text/plain": [
              "8313"
            ]
          },
          "metadata": {},
          "execution_count": 53
        }
      ]
    },
    {
      "cell_type": "code",
      "source": [
        "df3=df1.tolist()\n",
        "df3.extend(lst_output)\n",
        "plt.plot(df3[1200:])"
      ],
      "metadata": {
        "colab": {
          "base_uri": "https://localhost:8080/",
          "height": 447
        },
        "id": "TRQH-pm4yMMN",
        "outputId": "5fd52c7f-f4bf-4732-94c9-9b1144023c07"
      },
      "execution_count": 57,
      "outputs": [
        {
          "output_type": "execute_result",
          "data": {
            "text/plain": [
              "[<matplotlib.lines.Line2D at 0x7d05d88f6860>]"
            ]
          },
          "metadata": {},
          "execution_count": 57
        },
        {
          "output_type": "display_data",
          "data": {
            "text/plain": [
              "<Figure size 640x480 with 1 Axes>"
            ],
            "image/png": "[encoded data removed]"
          },
          "metadata": {}
        }
      ]
    },
    {
      "cell_type": "code",
      "source": [
        "df3=scaler.inverse_transform(df3).tolist()"
      ],
      "metadata": {
        "id": "ZsRG6sruzP-S"
      },
      "execution_count": 58,
      "outputs": []
    },
    {
      "cell_type": "code",
      "source": [
        "plt.plot(df3)"
      ],
      "metadata": {
        "colab": {
          "base_uri": "https://localhost:8080/",
          "height": 447
        },
        "id": "vYtOQ7o3zP_7",
        "outputId": "d6a0f8b1-17f3-4d6e-ba7f-08da0fc5b7bb"
      },
      "execution_count": 59,
      "outputs": [
        {
          "output_type": "execute_result",
          "data": {
            "text/plain": [
              "[<matplotlib.lines.Line2D at 0x7d05cba714e0>]"
            ]
          },
          "metadata": {},
          "execution_count": 59
        },
        {
          "output_type": "display_data",
          "data": {
            "text/plain": [
              "<Figure size 640x480 with 1 Axes>"
            ],
            "image/png": "[encoded data removed]"
          },
          "metadata": {}
        }
      ]
    },
    {
      "cell_type": "code",
      "source": [],
      "metadata": {
        "id": "E4-iv1ZFzQDr"
      },
      "execution_count": null,
      "outputs": []
    }
  ]
}