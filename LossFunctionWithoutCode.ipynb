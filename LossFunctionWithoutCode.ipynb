{
  "nbformat": 4,
  "nbformat_minor": 0,
  "metadata": {
    "colab": {
      "provenance": [],
      "authorship_tag": "ABX9TyPZ2Ry+XHglyIXAMprAg+WH",
      "include_colab_link": true
    },
    "kernelspec": {
      "name": "python3",
      "display_name": "Python 3"
    },
    "language_info": {
      "name": "python"
    }
  },
  "cells": [
    {
      "cell_type": "markdown",
      "metadata": {
        "id": "view-in-github",
        "colab_type": "text"
      },
      "source": [
        "<a href=\"https://colab.research.google.com/github/rmtu14/ATM-/blob/main/LossFunctionWithoutCode.ipynb\" target=\"_parent\"><img src=\"https://colab.research.google.com/assets/colab-badge.svg\" alt=\"Open In Colab\"/></a>"
      ]
    },
    {
      "cell_type": "code",
      "execution_count": 1,
      "metadata": {
        "colab": {
          "base_uri": "https://localhost:8080/"
        },
        "id": "shyhTl5-7koK",
        "outputId": "cace240b-13a3-4b22-d0b9-2b403898951b"
      },
      "outputs": [
        {
          "output_type": "stream",
          "name": "stdout",
          "text": [
            "Mean Squared Error (MSE): 0.0010500000000000004\n"
          ]
        }
      ],
      "source": [
        "import numpy as np\n",
        "\n",
        "# Define the MSE function\n",
        "def mse(y_true, y_pred):\n",
        "    return np.mean((y_true - y_pred)**2)\n",
        "\n",
        "# Create arrays for true and predicted labels\n",
        "y_true = np.array([0.1, 0.2, 0.3, 0.4, 0.5, 0.6])\n",
        "y_pred = np.array([0.12, 0.18, 0.35, 0.42, 0.49, 0.65])\n",
        "\n",
        "# Calculate MSE using the defined function\n",
        "loss_value = mse(y_true, y_pred)\n",
        "\n",
        "# Print the MSE value\n",
        "print(\"Mean Squared Error (MSE):\", loss_value)\n"
      ]
    },
    {
      "cell_type": "code",
      "source": [
        "from sklearn.metrics import mean_absolute_error\n",
        "import numpy as np\n",
        "\n",
        "# Create arrays for true and predicted labels\n",
        "y_true = np.array([3., -0.5, 2., 7.])\n",
        "y_pred = np.array([2.5, 0., 2., 8.])\n",
        "\n",
        "# Calculate MAE using the mean_absolute_error function\n",
        "mae_value = mean_absolute_error(y_true, y_pred)\n",
        "\n",
        "# Print the MAE value\n",
        "print(\"Mean Absolute Error:\", mae_value)\n"
      ],
      "metadata": {
        "colab": {
          "base_uri": "https://localhost:8080/"
        },
        "id": "5GR0SgRt8bts",
        "outputId": "f36dd1b0-479d-442b-fb1b-6080cf7d5db9"
      },
      "execution_count": 2,
      "outputs": [
        {
          "output_type": "stream",
          "name": "stdout",
          "text": [
            "Mean Absolute Error: 0.5\n"
          ]
        }
      ]
    },
    {
      "cell_type": "code",
      "source": [
        "import tensorflow as tf\n",
        "import numpy as np\n",
        "\n",
        "# Create lists for true and predicted labels\n",
        "y_true = np.array([0, 1, 0, 0])\n",
        "y_pred = np.array([0.6, 0.3, 0.2, 0.8])\n",
        "\n",
        "# Convert lists to TensorFlow tensors\n",
        "y_true_tensor = tf.constant(y_true, dtype=tf.float32)\n",
        "y_pred_tensor = tf.constant(y_pred, dtype=tf.float32)\n",
        "\n",
        "# Create BinaryCrossentropy loss function\n",
        "binary_crossentropy_loss = tf.keras.losses.BinaryCrossentropy()\n",
        "\n",
        "# Calculate BinaryCrossentropy Loss using TensorFlow\n",
        "bin_cross_entropy_value = binary_crossentropy_loss(y_true_tensor, y_pred_tensor)\n",
        "\n",
        "# Print the BinaryCrossentropy Loss value\n",
        "print(\"BinaryCrossentropy Loss:\", bin_cross_entropy_value.numpy())\n"
      ],
      "metadata": {
        "colab": {
          "base_uri": "https://localhost:8080/"
        },
        "id": "JvJtjDhK8byh",
        "outputId": "0815e0b8-e65c-4231-bd26-f8a392434cbd"
      },
      "execution_count": 4,
      "outputs": [
        {
          "output_type": "stream",
          "name": "stdout",
          "text": [
            "BinaryCrossentropy Loss: 0.988211\n"
          ]
        }
      ]
    },
    {
      "cell_type": "code",
      "source": [
        "import tensorflow as tf\n",
        "import numpy as np\n",
        "\n",
        "# Create lists for true and predicted labels\n",
        "y_true = np.array([[0., 1.], [0., 0.]])\n",
        "y_pred = np.array([[0.6, 0.4], [0.4, 0.6]])\n",
        "\n",
        "# Convert lists to TensorFlow tensors\n",
        "y_true_tensor = tf.constant(y_true, dtype=tf.float32)\n",
        "y_pred_tensor = tf.constant(y_pred, dtype=tf.float32)\n",
        "\n",
        "# Create Hinge loss function\n",
        "hinge_loss = tf.keras.losses.Hinge()\n",
        "\n",
        "# Calculate Hinge Loss using TensorFlow\n",
        "hinge_loss_value = hinge_loss(y_true_tensor, y_pred_tensor)\n",
        "\n",
        "# Print the Hinge Loss value\n",
        "print(\"Hinge Loss:\", hinge_loss_value.numpy())\n"
      ],
      "metadata": {
        "colab": {
          "base_uri": "https://localhost:8080/"
        },
        "id": "7_Dn2-zc8b2G",
        "outputId": "eca3ed81-eca8-49de-a68c-6e8d4f0c5c22"
      },
      "execution_count": 6,
      "outputs": [
        {
          "output_type": "stream",
          "name": "stdout",
          "text": [
            "Hinge Loss: 1.3\n"
          ]
        }
      ]
    },
    {
      "cell_type": "code",
      "source": [
        "import tensorflow as tf\n",
        "import numpy as np\n",
        "\n",
        "# Create lists for true and predicted labels\n",
        "y_true = np.array([[0, 1, 0], [0, 0, 1]])\n",
        "y_pred = np.array([[0.05, 0.95, 0.], [0.1, 0.8, 0.1]])\n",
        "\n",
        "# Convert lists to TensorFlow tensors\n",
        "y_true_tensor = tf.constant(y_true, dtype=tf.float32)\n",
        "y_pred_tensor = tf.constant(y_pred, dtype=tf.float32)\n",
        "\n",
        "# Create CategoricalCrossentropy loss function\n",
        "categorical_crossentropy_loss = tf.keras.losses.CategoricalCrossentropy()\n",
        "\n",
        "# Calculate Categorical Crossentropy Loss using TensorFlow\n",
        "cat_cross_entropy_value = categorical_crossentropy_loss(y_true_tensor, y_pred_tensor)\n",
        "\n",
        "# Print the Categorical Crossentropy Loss value\n",
        "print(\"CategoricalCrossentropy Loss:\", cat_cross_entropy_value.numpy())\n"
      ],
      "metadata": {
        "colab": {
          "base_uri": "https://localhost:8080/"
        },
        "id": "8orMoi_L9Z21",
        "outputId": "458506ab-a83a-4236-ed1b-5b92fcb512b9"
      },
      "execution_count": 7,
      "outputs": [
        {
          "output_type": "stream",
          "name": "stdout",
          "text": [
            "CategoricalCrossentropy Loss: 1.1769392\n"
          ]
        }
      ]
    },
    {
      "cell_type": "code",
      "source": [
        "import tensorflow as tf\n",
        "import numpy as np\n",
        "\n",
        "# Create array for true labels of random integer values\n",
        "y_true = np.array([1, 2])\n",
        "\n",
        "# Create an array of shape (num_samples,) similar to the number of classes\n",
        "num_classes = 3\n",
        "y_true_sparse = np.random.randint(num_classes, size=(len(y_true),))\n",
        "\n",
        "# Convert arrays to TensorFlow tensors\n",
        "y_true_tensor_sparse = tf.constant(y_true_sparse, dtype=tf.int32)\n",
        "y_pred_tensor = tf.constant([[0.05, 0.95, 0.], [0.2, 0.8, 0.]], dtype=tf.float32)\n",
        "\n",
        "# Create SparseCategoricalCrossentropy loss function\n",
        "sparse_categorical_crossentropy_loss = tf.keras.losses.SparseCategoricalCrossentropy()\n",
        "\n",
        "# Calculate Sparse Categorical Crossentropy Loss using TensorFlow\n",
        "sparse_cat_cross_entropy_value = sparse_categorical_crossentropy_loss(y_true_tensor_sparse, y_pred_tensor)\n",
        "\n",
        "# Print the Sparse Categorical Crossentropy Loss value\n",
        "print(\"SparseCategoricalCrossentropy Loss:\", sparse_cat_cross_entropy_value.numpy())\n"
      ],
      "metadata": {
        "colab": {
          "base_uri": "https://localhost:8080/"
        },
        "id": "3fNZ7UoG9Z5C",
        "outputId": "f99b74dc-5426-47d9-a2fb-a9ea88942c52"
      },
      "execution_count": 8,
      "outputs": [
        {
          "output_type": "stream",
          "name": "stdout",
          "text": [
            "SparseCategoricalCrossentropy Loss: 9.556913\n"
          ]
        }
      ]
    },
    {
      "cell_type": "code",
      "source": [
        "import tensorflow as tf\n",
        "import numpy as np\n",
        "\n",
        "# Create lists for true and predicted labels (assuming they represent probability distributions)\n",
        "y_true = np.array([[0, 1], [0, 0]])\n",
        "y_pred = np.array([[0.6, 0.4], [0.4, 0.6]])\n",
        "\n",
        "# Convert lists to TensorFlow tensors\n",
        "y_true_tensor = tf.constant(y_true, dtype=tf.float32)\n",
        "y_pred_tensor = tf.constant(y_pred, dtype=tf.float32)\n",
        "\n",
        "# Create Kullback-Leibler Divergence loss function\n",
        "kl_divergence_loss = tf.keras.losses.KLDivergence()\n",
        "\n",
        "# Calculate Kullback-Leibler Divergence Loss using TensorFlow\n",
        "kl_value = kl_divergence_loss(y_true_tensor, y_pred_tensor)\n",
        "\n",
        "# Print the Kullback-Leibler Divergence Loss value\n",
        "print(\"KLDivergence Loss:\", kl_value.numpy())\n"
      ],
      "metadata": {
        "colab": {
          "base_uri": "https://localhost:8080/"
        },
        "id": "UVhZ-V4L9Z8W",
        "outputId": "9b0bbd17-1ca9-4db0-81df-027646fce6f6"
      },
      "execution_count": 9,
      "outputs": [
        {
          "output_type": "stream",
          "name": "stdout",
          "text": [
            "KLDivergence Loss: 0.45814306\n"
          ]
        }
      ]
    }
  ]
}